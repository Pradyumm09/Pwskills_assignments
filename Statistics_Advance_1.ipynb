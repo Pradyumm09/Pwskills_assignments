{
 "cells": [
  {
   "cell_type": "markdown",
   "id": "769a3ac1-f741-48a2-90ba-de68a93b4ca3",
   "metadata": {},
   "source": [
    "Q1. What is the Probability density function?"
   ]
  },
  {
   "cell_type": "markdown",
   "id": "d45dfbf1-1384-4b62-9df1-b5565c01a54c",
   "metadata": {},
   "source": [
    "The Probability Density Function (PDF) is a concept in probability theory and statistics that describes the likelihood of a continuous random variable taking on a specific value. For a continuous random variable, the probability of any single point having a precise value is technically zero. Instead, the probability is defined over a range or interval of values."
   ]
  },
  {
   "cell_type": "markdown",
   "id": "317d25aa-50af-4aab-9536-d094b9384a5f",
   "metadata": {},
   "source": [
    "The PDF, denoted as f(x)f(x) for a random variable XX, gives the probability density at any particular point xx in the variable's range. Mathematically, the PDF is often denoted as f(x)f(x) and satisfies the following conditions:\n",
    "\n",
    "f(x)≥0f(x)≥0 for all xx in the range of XX.\n",
    "The total area under the PDF curve over the entire range is equal to 1."
   ]
  },
  {
   "cell_type": "markdown",
   "id": "a8cacd54-3a95-4416-b38d-d5b2f53146fb",
   "metadata": {},
   "source": [
    "Q2. What are the types of Probability distribution?"
   ]
  },
  {
   "cell_type": "markdown",
   "id": "be175d5c-189d-48ad-8db2-3d75e862bcea",
   "metadata": {},
   "source": [
    "The types of Probability distribution are:\n",
    "\n",
    "i) Normal/Gaussian Distribution -A symmetrical, bell-shaped distribution that is widely used due to the Central Limit Theorem. Many natural phenomena approximate a normal distribution.\n",
    "\n",
    "ii) Bernoulli Distribution - Represents a random variable with only two possible outcomes (success or failure), often used for modeling binary events.\n",
    "\n",
    "iii) Uniform Distribution-All outcomes have equal probability; it forms a rectangular-shaped distribution.\n",
    "\n",
    "iv) Poisson Distribution-Models the number of events that occur within a fixed interval of time or space, assuming a constant rate of occurrence.\n",
    "\n",
    "v) Log Normal Distribution-Describes a random variable whose logarithm is normally distributed.\n",
    "\n",
    "vi) Binomial Distribution- Describes the number of successes in a fixed number of independent Bernoulli trials."
   ]
  },
  {
   "cell_type": "markdown",
   "id": "b0befb2c-4b87-4ad3-94f4-b1b9b2ed8342",
   "metadata": {},
   "source": [
    "Q3. Write a Python function to calculate the probability density function of a normal distribution with\n",
    "given mean and standard deviation at a given point."
   ]
  },
  {
   "cell_type": "code",
   "execution_count": 1,
   "id": "2596ca7d-d13f-424f-b38c-c8858b5b3a9b",
   "metadata": {},
   "outputs": [
    {
     "name": "stdout",
     "output_type": "stream",
     "text": [
      "The PDF at x = 1.5 is: 0.12951759566589174\n"
     ]
    }
   ],
   "source": [
    "import math\n",
    "\n",
    "def normal_pdf(x, mean, std_dev):\n",
    "   \n",
    "    if std_dev <= 0:\n",
    "        raise ValueError(\"Standard deviation must be positive.\")\n",
    "\n",
    "    coefficient = 1 / (std_dev * math.sqrt(2 * math.pi))\n",
    "    exponent = -((x - mean)**2) / (2 * std_dev**2)\n",
    "    pdf_value = coefficient * math.exp(exponent)\n",
    "\n",
    "    return pdf_value\n",
    "\n",
    "# Example usage:\n",
    "mean = 0\n",
    "std_dev = 1\n",
    "point = 1.5\n",
    "pdf_at_point = normal_pdf(point, mean, std_dev)\n",
    "print(f\"The PDF at x = {point} is: {pdf_at_point}\")\n"
   ]
  },
  {
   "cell_type": "markdown",
   "id": "6c5fafeb-fb90-4e37-a779-67527844d9a3",
   "metadata": {},
   "source": [
    "Q4. What are the properties of Binomial distribution? Give two examples of events where binomial\n",
    "distribution can be applied."
   ]
  },
  {
   "cell_type": "markdown",
   "id": "5d5c77b6-9a8e-4bcb-a56d-3b4c7bc05f22",
   "metadata": {},
   "source": [
    "The Binomial distribution is a discrete probability distribution that models the number of successes in a fixed number of independent and identical Bernoulli trials, where each trial has only two possible outcomes: success (usually denoted as 1) or failure (usually denoted as 0). The key properties of the Binomial distribution are as follows:\n",
    "\n",
    "Fixed Number of Trials (n): The distribution describes a fixed number, denoted as nn, of independent trials.\n",
    "\n",
    "Independent Trials: The outcomes of each trial are assumed to be independent of each other.\n",
    "\n",
    "Two Possible Outcomes: Each trial has only two possible outcomes, often labeled as success (S) and failure (F).\n",
    "\n",
    "Constant Probability of Success (p): The probability of success (pp) is constant for each trial.\n",
    "\n",
    "Discrete Nature: The random variable representing the number of successes is discrete, taking integer values from 0 to nn.\n",
    "\n",
    "Examples of events where the Binomial distribution can be applied include:\n",
    "\n",
    "Coin Flipping: Suppose you flip a fair coin (where the probability of getting heads, pp, is 0.5) 10 times. The number of heads in these 10 flips follows a Binomial distribution with parameters n=10n=10 (number of trials) and p=0.5p=0.5 (probability of success).\n",
    "\n",
    "Quality Control: In a manufacturing process, you inspect a random sample of 20 items and count the number of defective items. If the probability of an item being defective is p=0.05p=0.05, then the number of defective items in the sample follows a Binomial distribution with parameters n=20n=20 and p=0.05p=0.05."
   ]
  },
  {
   "cell_type": "markdown",
   "id": "1db45c13-84fd-497c-b31b-812b34da351e",
   "metadata": {},
   "source": [
    "Q5. Generate a random sample of size 1000 from a binomial distribution with probability of success 0.4\n",
    "and plot a histogram of the results using matplotlib."
   ]
  },
  {
   "cell_type": "code",
   "execution_count": 2,
   "id": "a0d912ba-02fd-41d2-8f5a-40c0e0901736",
   "metadata": {},
   "outputs": [
    {
     "data": {
      "image/png": "[encoded data removed]",
      "text/plain": [
       "<Figure size 640x480 with 1 Axes>"
      ]
     },
     "metadata": {},
     "output_type": "display_data"
    }
   ],
   "source": [
    "import numpy as np\n",
    "import matplotlib.pyplot as plt\n",
    "\n",
    "n_trials = 1000  \n",
    "p_success = 0.4  \n",
    "\n",
    "\n",
    "random_sample = np.random.binomial(n=1, p=p_success, size=n_trials)\n",
    "\n",
    "\n",
    "plt.hist(random_sample, bins=[-0.5, 0.5, 1.5], edgecolor='black', align='mid', rwidth=0.8)\n",
    "plt.xlabel('Number of Successes')\n",
    "plt.ylabel('Frequency')\n",
    "plt.title(f'Binomial Distribution (n={n_trials}, p={p_success})')\n",
    "plt.xticks([0, 1], ['Failure', 'Success'])\n",
    "plt.show()\n"
   ]
  },
  {
   "cell_type": "markdown",
   "id": "a8e35d6a-2448-4b34-bea0-a44076213ab6",
   "metadata": {},
   "source": [
    "Q6. Write a Python function to calculate the cumulative distribution function of a Poisson distribution\n",
    "with given mean at a given point."
   ]
  },
  {
   "cell_type": "code",
   "execution_count": 3,
   "id": "e79aeb65-c82a-4372-b743-3c8f47397892",
   "metadata": {},
   "outputs": [
    {
     "name": "stdout",
     "output_type": "stream",
     "text": [
      "The CDF at k = 2 is: 0.42319008112684353\n"
     ]
    }
   ],
   "source": [
    "import math\n",
    "\n",
    "def poisson_cdf(k, mean):\n",
    "    \n",
    "    if k < 0:\n",
    "        raise ValueError(\"The point 'k' must be a non-negative integer.\")\n",
    "\n",
    "    cdf_value = 0\n",
    "    poisson_term = math.exp(-mean)\n",
    "\n",
    "    for i in range(k + 1):\n",
    "        cdf_value += poisson_term\n",
    "        poisson_term *= mean / (i + 1)\n",
    "\n",
    "    return cdf_value\n",
    "\n",
    "# Example usage:\n",
    "mean = 3\n",
    "point = 2\n",
    "cdf_at_point = poisson_cdf(point, mean)\n",
    "print(f\"The CDF at k = {point} is: {cdf_at_point}\")\n"
   ]
  },
  {
   "cell_type": "markdown",
   "id": "94a63cc1-0822-4ac0-8131-184ca9259a5c",
   "metadata": {},
   "source": [
    "Q7. How Binomial distribution different from Poisson distribution?"
   ]
  },
  {
   "cell_type": "markdown",
   "id": "d4b7ac25-22ea-4a6e-85aa-0de939c6f835",
   "metadata": {},
   "source": [
    "The Binomial distribution and Poisson distribution are both probability distributions, but they are used to model different types of random phenomena and have distinct characteristics. Here are the key differences between the Binomial distribution and the Poisson distribution:\n",
    "\n",
    "Number of Trials:\n",
    "\n",
    "Binomial Distribution: Describes the number of successes in a fixed number of independent and identical Bernoulli trials, where each trial has only two possible outcomes (success or failure).\n",
    "\n",
    "Poisson Distribution: Describes the number of events that occur in a fixed interval of time or space, where events happen independently and at a constant average rate.\n",
    "\n",
    "Nature of Outcomes:\n",
    "\n",
    "Binomial Distribution: Each trial in a Binomial distribution is binary, with only two possible outcomes (success or failure).\n",
    "\n",
    "Poisson Distribution: The Poisson distribution deals with counts of events that can potentially happen an unlimited number of times within the fixed interval.\n",
    "\n",
    "Probability of Success:\n",
    "\n",
    "Binomial Distribution: Each trial has a constant probability of success denoted as pp.\n",
    "\n",
    "Poisson Distribution: The parameter λλ represents the average rate of events per interval.\n",
    "\n",
    "Number of Parameters:\n",
    "\n",
    "Binomial Distribution: Requires two parameters - the number of trials (nn) and the probability of success (pp).\n",
    "\n",
    "Poisson Distribution: Requires one parameter - the average rate of events (λλ).\n",
    "\n",
    "\n",
    "Characteristics:\n",
    "\n",
    "Binomial Distribution: Well-suited for situations where there are a fixed number of trials and the probability of success remains constant across trials, such as coin flips or the number of successful sales in a fixed number of attempts.\n",
    "\n",
    "Poisson Distribution: Appropriate for situations where events occur independently and at a constant average rate within a fixed interval, such as the number of phone calls at a call center in a given hour.\n",
    "\n",
    "\n",
    "Assumptions:\n",
    "\n",
    "Binomial Distribution: Assumes a fixed number of trials with a constant probability of success and independence between trials.\n",
    "\n",
    "Poisson Distribution: Assumes events occur independently and at a constant average rate."
   ]
  },
  {
   "cell_type": "markdown",
   "id": "132d10d9-a754-4b6e-95c9-41071e3f87fe",
   "metadata": {},
   "source": [
    "Q8. Generate a random sample of size 1000 from a Poisson distribution with mean 5 and calculate the\n",
    "sample mean and variance."
   ]
  },
  {
   "cell_type": "code",
   "execution_count": 4,
   "id": "1c0ead41-8d6c-40b9-ab2e-05d3f0b101b0",
   "metadata": {},
   "outputs": [
    {
     "name": "stdout",
     "output_type": "stream",
     "text": [
      "Sample Mean: 5.158\n",
      "Sample Variance: 5.241036\n"
     ]
    }
   ],
   "source": [
    "import numpy as np\n",
    "\n",
    "\n",
    "mean_poisson = 5\n",
    "sample_size = 1000\n",
    "\n",
    "\n",
    "random_sample = np.random.poisson(lam=mean_poisson, size=sample_size)\n",
    "\n",
    "\n",
    "sample_mean = np.mean(random_sample)\n",
    "sample_variance = np.var(random_sample)\n",
    "\n",
    "\n",
    "print(f\"Sample Mean: {sample_mean}\")\n",
    "print(f\"Sample Variance: {sample_variance}\")\n"
   ]
  },
  {
   "cell_type": "markdown",
   "id": "6fb98391-7993-4a30-a04d-c7a3b163f5ee",
   "metadata": {},
   "source": [
    "Q9. How mean and variance are related in Binomial distribution and Poisson distribution?"
   ]
  },
  {
   "cell_type": "markdown",
   "id": "63cab590-ca07-42e9-80e9-bdeb65be049a",
   "metadata": {},
   "source": [
    "In both the Binomial distribution and the Poisson distribution, the mean (expected value) and variance are related, but the specific relationships are slightly different.\n",
    "Binomial Distribution:\n",
    "\n",
    "For a Binomial distribution with parameters nn (number of trials) and pp (probability of success in each trial), the mean and variance are given by:\n",
    "\n",
    "Mean(μ)=npMean(μ)=np\n",
    "\n",
    "Variance(σ2)=np(1−p)Variance(σ2)=np(1−p)\n",
    "Poisson Distribution:\n",
    "\n",
    "For a Poisson distribution with parameter λλ (average rate of events per interval), the mean and variance are both equal to λλ:\n",
    "\n",
    "Mean(μ)=λMean(μ)=λ\n",
    "\n",
    "Variance(σ2)=λVariance(σ2)=λ\n",
    "\n",
    "In the Binomial distribution, the variance is influenced by both the number of trials (nn) and the probability of success (pp).\n",
    "In the Poisson distribution, the variance is solely determined by the average rate (λλ).\n",
    "\n",
    "It's interesting to note that as the number of trials (nn) in the Binomial distribution becomes large, and the probability of success (pp) becomes small in such a way that npnp remains constant, the Binomial distribution approaches the Poisson distribution. In this limit, the mean and variance of the Binomial distribution both converge to the value λ=npλ=np. This is known as the Poisson approximation to the Binomial distribution."
   ]
  },
  {
   "cell_type": "markdown",
   "id": "bfb46507-d495-498e-92bf-e4b443ab60e9",
   "metadata": {},
   "source": [
    "Q10. In normal distribution with respect to mean position, where does the least frequent data appear?"
   ]
  },
  {
   "cell_type": "markdown",
   "id": "5e7d4757-c637-40d0-be37-1176567cc328",
   "metadata": {},
   "source": [
    "In a normal distribution (also known as a Gaussian distribution or bell curve), the data is symmetrically distributed around the mean. The mean is the central point of the distribution, and it represents the peak or highest point of the curve.\n",
    "\n",
    "In a standard normal distribution (where the mean is 0 and the standard deviation is 1), the least frequent data points appear in the tails of the distribution, farthest away from the mean. As you move away from the mean in either direction along the x-axis, the frequency of data points decreases. The tails of the distribution contain the extreme values, and these are less likely to occur compared to values closer to the mean."
   ]
  }
 ],
 "metadata": {
  "kernelspec": {
   "display_name": "Python 3 (ipykernel)",
   "language": "python",
   "name": "python3"
  },
  "language_info": {
   "codemirror_mode": {
    "name": "ipython",
    "version": 3
   },
   "file_extension": ".py",
   "mimetype": "text/x-python",
   "name": "python",
   "nbconvert_exporter": "python",
   "pygments_lexer": "ipython3",
   "version": "3.10.8"
  }
 },
 "nbformat": 4,
 "nbformat_minor": 5
}
