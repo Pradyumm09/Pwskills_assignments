{
 "cells": [
  {
   "cell_type": "markdown",
   "id": "304b399f-fa17-4a07-a4a0-04b704cd09c4",
   "metadata": {},
   "source": [
    "Q1. Which keyword is used to create a function? Create a function to return a list of odd numbers in the\n",
    "range of 1 to 25."
   ]
  },
  {
   "cell_type": "markdown",
   "id": "af087016-042b-45cb-90d5-0faafef2acf5",
   "metadata": {},
   "source": [
    "def keyword is used to create a function . We can also create one liner function using the lambda keyword"
   ]
  },
  {
   "cell_type": "code",
   "execution_count": 1,
   "id": "2dee3baa-8f58-4e61-b87f-4bc073aa3b0d",
   "metadata": {},
   "outputs": [],
   "source": [
    "l=[1,2,3,4,5,6,7,8,9,10,11,12,13,14,15,16,17,18,19,20,21,22,23,24,25]"
   ]
  },
  {
   "cell_type": "code",
   "execution_count": 6,
   "id": "9d0e0d07-f2d9-41f9-9613-1a8dd9c2dd8f",
   "metadata": {},
   "outputs": [],
   "source": [
    "def find_odd(l):\n",
    "    l1=[]\n",
    "    for i in l:\n",
    "        if i%2!=0:\n",
    "            l1.append(i)\n",
    "    return l1\n",
    "        "
   ]
  },
  {
   "cell_type": "code",
   "execution_count": 7,
   "id": "dd4a5c51-64d8-4e1d-b38a-3d7fab9904d0",
   "metadata": {},
   "outputs": [
    {
     "data": {
      "text/plain": [
       "[1, 3, 5, 7, 9, 11, 13, 15, 17, 19, 21, 23, 25]"
      ]
     },
     "execution_count": 7,
     "metadata": {},
     "output_type": "execute_result"
    }
   ],
   "source": [
    "find_odd(l)"
   ]
  },
  {
   "cell_type": "markdown",
   "id": "99be96a4-ebd3-42e3-a411-640caf19c426",
   "metadata": {},
   "source": [
    "Q2. Why *args and **kwargs is used in some functions? Create a function each for *args and **kwargs\n",
    "to demonstrate their use."
   ]
  },
  {
   "cell_type": "markdown",
   "id": "9978e2a0-fe6a-4d25-b575-298b9435f299",
   "metadata": {},
   "source": [
    "The use of*args keyword is to pass multiple non keyword arguments in the function according to the need of the user.It helps in dynamic programming.It collects additional positional arguments as tuple.\n",
    "\n",
    "The **kwargs syntax is used to pass a variable number of keyword arguments to a function. Similar to *args, when you use **kwargs in a function parameter list, it collects any additional keyword arguments passed to the function as a dictionary. "
   ]
  },
  {
   "cell_type": "code",
   "execution_count": 16,
   "id": "b2ffdf35-8156-45e8-b271-64ca02e35b77",
   "metadata": {},
   "outputs": [],
   "source": [
    "def test2(*args):\n",
    "    return args"
   ]
  },
  {
   "cell_type": "code",
   "execution_count": 17,
   "id": "917a8391-6b94-4cce-80cc-ca64cfe590fb",
   "metadata": {},
   "outputs": [
    {
     "data": {
      "text/plain": [
       "(3, 4, 5, 6)"
      ]
     },
     "execution_count": 17,
     "metadata": {},
     "output_type": "execute_result"
    }
   ],
   "source": [
    "test2(3,4,5,6)"
   ]
  },
  {
   "cell_type": "code",
   "execution_count": 18,
   "id": "af876be6-9e6a-4877-8fe1-7582ae42b6db",
   "metadata": {},
   "outputs": [],
   "source": [
    "def test3(**kwargs):\n",
    "    return kwargs"
   ]
  },
  {
   "cell_type": "code",
   "execution_count": 19,
   "id": "26381bfc-d58c-4302-9aea-5fd96c3c26f0",
   "metadata": {},
   "outputs": [
    {
     "data": {
      "text/plain": [
       "{'a': [1, 2, 3], 'b': 3.45, 'c': 'amar'}"
      ]
     },
     "execution_count": 19,
     "metadata": {},
     "output_type": "execute_result"
    }
   ],
   "source": [
    "test3(a=[1,2,3],b=3.45,c='amar')"
   ]
  },
  {
   "cell_type": "markdown",
   "id": "9917e725-76f2-4c79-aa57-418351d2d804",
   "metadata": {},
   "source": [
    "Q3.What is an iterator in python? Name the method used to initialise the iterator object and the method\n",
    "used for iteration. Use these methods to print the first five elements of the given list [2, 4, 6, 8, 10, 12, 14,\n",
    "16, 18, 20]."
   ]
  },
  {
   "cell_type": "markdown",
   "id": "0941d4c3-0fb0-469c-9b32-ee52f2b58d1e",
   "metadata": {},
   "source": [
    "An iterator is an object that manages the state of traversing through an iterable. It keeps track of the current position while iterating . The method iter() is used to initialize the iterator object. The method used for iteration is next()"
   ]
  },
  {
   "cell_type": "code",
   "execution_count": 20,
   "id": "2844caae-8e3d-44f2-86a7-58ed7eca5a44",
   "metadata": {},
   "outputs": [],
   "source": [
    "l3=[2,4,6,8,10,12,14,16,18,20]"
   ]
  },
  {
   "cell_type": "code",
   "execution_count": 33,
   "id": "df7dfef2-f6b1-4d96-a2ae-14ba6c578a80",
   "metadata": {},
   "outputs": [],
   "source": [
    "def ret5(l3):\n",
    "    for i in range(len(l3)):\n",
    "        if l3[i]<l3[5]:\n",
    "            print(l3[i])"
   ]
  },
  {
   "cell_type": "code",
   "execution_count": 34,
   "id": "87ede71b-9fbb-4925-b465-040d1fdb2ecb",
   "metadata": {},
   "outputs": [
    {
     "name": "stdout",
     "output_type": "stream",
     "text": [
      "2\n",
      "4\n",
      "6\n",
      "8\n",
      "10\n"
     ]
    }
   ],
   "source": [
    "ret5(l3)"
   ]
  },
  {
   "cell_type": "markdown",
   "id": "f46f8d3a-8256-4c13-9fa3-7e590dd57b78",
   "metadata": {},
   "source": [
    "Q4.What is a generator function in python? Why yield keyword is used? Give an example of a generator\n",
    "function."
   ]
  },
  {
   "cell_type": "markdown",
   "id": "d786b4ce-28c0-437f-82a3-68c3f4add9d0",
   "metadata": {},
   "source": [
    "A generator function in Python is a special type of function that generates values and allows you to iterate over those values one at a time. It's defined like a regular function. It uses the yield keyword to produce values instead of using the return keyword. This makes generator functions memory-efficient because they don't generate all values at once and store them in memory. Instead, they generate values as needed during iteration."
   ]
  },
  {
   "cell_type": "code",
   "execution_count": 35,
   "id": "a1c749ee-482f-494f-93fe-6243cd684b4b",
   "metadata": {},
   "outputs": [],
   "source": [
    "s='amar'"
   ]
  },
  {
   "cell_type": "code",
   "execution_count": 37,
   "id": "0c60649f-eb84-4050-a54b-f4f7eb1d4b3d",
   "metadata": {},
   "outputs": [],
   "source": [
    "s1=iter(s)\n"
   ]
  },
  {
   "cell_type": "code",
   "execution_count": 38,
   "id": "e10bcab8-6e85-429b-89dd-37a06f1aa741",
   "metadata": {},
   "outputs": [
    {
     "data": {
      "text/plain": [
       "'a'"
      ]
     },
     "execution_count": 38,
     "metadata": {},
     "output_type": "execute_result"
    }
   ],
   "source": [
    "next(s1)"
   ]
  },
  {
   "cell_type": "code",
   "execution_count": 39,
   "id": "632e019f-2025-47aa-b894-8e73f3ecfea2",
   "metadata": {},
   "outputs": [
    {
     "data": {
      "text/plain": [
       "'m'"
      ]
     },
     "execution_count": 39,
     "metadata": {},
     "output_type": "execute_result"
    }
   ],
   "source": [
    "next(s1)"
   ]
  },
  {
   "cell_type": "code",
   "execution_count": 40,
   "id": "2215d0b1-3572-490a-b819-668175a6eb75",
   "metadata": {},
   "outputs": [
    {
     "data": {
      "text/plain": [
       "'a'"
      ]
     },
     "execution_count": 40,
     "metadata": {},
     "output_type": "execute_result"
    }
   ],
   "source": [
    "next(s1)"
   ]
  },
  {
   "cell_type": "code",
   "execution_count": 41,
   "id": "60c76df0-b4bf-4b9e-b9f9-3fa05f5ee86c",
   "metadata": {},
   "outputs": [
    {
     "data": {
      "text/plain": [
       "'r'"
      ]
     },
     "execution_count": 41,
     "metadata": {},
     "output_type": "execute_result"
    }
   ],
   "source": [
    "next(s1)"
   ]
  },
  {
   "cell_type": "code",
   "execution_count": 59,
   "id": "11e96be1-e85a-45b7-92a4-e35c91d7646b",
   "metadata": {},
   "outputs": [],
   "source": [
    "def test_odd(l):\n",
    "    \n",
    "    for i in range(l):\n",
    "        if i%2!=0:\n",
    "            yield i\n",
    "        "
   ]
  },
  {
   "cell_type": "code",
   "execution_count": 60,
   "id": "3454bea7-5588-4f34-90e6-376a233e6abc",
   "metadata": {},
   "outputs": [
    {
     "data": {
      "text/plain": [
       "<generator object test_odd at 0x7f37b270fe60>"
      ]
     },
     "execution_count": 60,
     "metadata": {},
     "output_type": "execute_result"
    }
   ],
   "source": [
    "test_odd(l)"
   ]
  },
  {
   "cell_type": "code",
   "execution_count": 61,
   "id": "c62ec319-e99d-4427-a1e6-29ce7d511572",
   "metadata": {},
   "outputs": [
    {
     "name": "stdout",
     "output_type": "stream",
     "text": [
      "1\n",
      "3\n",
      "5\n",
      "7\n",
      "9\n"
     ]
    }
   ],
   "source": [
    "for i in test_odd(10):\n",
    "    print(i)"
   ]
  },
  {
   "cell_type": "markdown",
   "id": "30c4f59b-070f-4999-a617-7fd8c8c689c0",
   "metadata": {},
   "source": [
    "Q5. Create a generator function for prime numbers less than 1000. Use the next() method to print the\n",
    "first 20 prime numbers."
   ]
  },
  {
   "cell_type": "code",
   "execution_count": 62,
   "id": "da308318-a54f-48f4-be21-dc76f93e4e46",
   "metadata": {},
   "outputs": [
    {
     "name": "stdout",
     "output_type": "stream",
     "text": [
      "2\n",
      "3\n",
      "5\n",
      "7\n",
      "11\n",
      "13\n",
      "17\n",
      "19\n",
      "23\n",
      "29\n",
      "31\n",
      "37\n",
      "41\n",
      "43\n",
      "47\n",
      "53\n",
      "59\n",
      "61\n",
      "67\n",
      "71\n"
     ]
    }
   ],
   "source": [
    "def prime_number_series(num):\n",
    "    if num <= 1:\n",
    "        return False\n",
    "    if num <= 3:\n",
    "        return True\n",
    "    if num % 2 == 0 or num % 3 == 0:\n",
    "        return False\n",
    "    i = 5\n",
    "    while i * i <= num:\n",
    "        if num % i == 0 or num % (i + 2) == 0:\n",
    "            return False\n",
    "        i += 6\n",
    "    return True\n",
    "\n",
    "def prime_generator():\n",
    "    num = 2\n",
    "    while num < 1000:\n",
    "        if prime_number_series(num):\n",
    "            yield num\n",
    "        num += 1\n",
    "\n",
    "prime_gen = prime_generator()\n",
    "for _ in range(20):\n",
    "    print(next(prime_gen))\n",
    "    "
   ]
  },
  {
   "cell_type": "markdown",
   "id": "9c013be2-02ef-47b8-a21c-4d7408b08cb6",
   "metadata": {},
   "source": [
    "Q6. Write a python program to print the first 10 Fibonacci numbers using a while loop."
   ]
  },
  {
   "cell_type": "code",
   "execution_count": 63,
   "id": "79036f24-7bba-4d17-92ee-36731882f691",
   "metadata": {},
   "outputs": [],
   "source": [
    "def test_fib1():\n",
    "    a,b=0,1\n",
    "    while True:\n",
    "        yield a\n",
    "        a,b=b,a+b"
   ]
  },
  {
   "cell_type": "code",
   "execution_count": 64,
   "id": "c06f7da7-6ab3-4108-9bfe-11fb81a4d83f",
   "metadata": {},
   "outputs": [],
   "source": [
    "fib=test_fib1()"
   ]
  },
  {
   "cell_type": "code",
   "execution_count": 65,
   "id": "fb5bdeb9-0bd2-49da-bdde-8743b1b6d50e",
   "metadata": {},
   "outputs": [
    {
     "name": "stdout",
     "output_type": "stream",
     "text": [
      "0\n",
      "1\n",
      "1\n",
      "2\n",
      "3\n",
      "5\n",
      "8\n",
      "13\n",
      "21\n",
      "34\n"
     ]
    }
   ],
   "source": [
    "for i in range(10):\n",
    "    print(next(fib))"
   ]
  },
  {
   "cell_type": "markdown",
   "id": "29297a28-c7b4-44a8-af7d-757d60228717",
   "metadata": {},
   "source": [
    "Q7. Write a List Comprehension to iterate through the given string: ‘pwskills’.\n",
    "Expected output: ['p', 'w', 's', 'k', 'i', 'l', 'l', 's']"
   ]
  },
  {
   "cell_type": "code",
   "execution_count": 66,
   "id": "74b434f6-792f-40eb-b085-dea41e922f87",
   "metadata": {},
   "outputs": [],
   "source": [
    "s2='pwslills'"
   ]
  },
  {
   "cell_type": "code",
   "execution_count": 69,
   "id": "03f6ea8c-34e8-487c-97a1-267ff92d6436",
   "metadata": {},
   "outputs": [
    {
     "data": {
      "text/plain": [
       "['p', 'w', 's', 'l', 'i', 'l', 'l', 's']"
      ]
     },
     "execution_count": 69,
     "metadata": {},
     "output_type": "execute_result"
    }
   ],
   "source": [
    "\n",
    "list(map(lambda s2:s2,s2))"
   ]
  },
  {
   "cell_type": "markdown",
   "id": "f1ac3798-fdb8-4bf7-b4bb-2ffdfdefe069",
   "metadata": {},
   "source": [
    "Q8. Write a python program to check whether a given number is Palindrome or not using a while loop."
   ]
  },
  {
   "cell_type": "code",
   "execution_count": 71,
   "id": "1b83cab1-81a8-4ae9-a0ce-cef280d4e2c9",
   "metadata": {},
   "outputs": [
    {
     "name": "stdin",
     "output_type": "stream",
     "text": [
      "Enter the number you want to check 222\n"
     ]
    },
    {
     "name": "stdout",
     "output_type": "stream",
     "text": [
      "The number is palindrome\n"
     ]
    }
   ],
   "source": [
    "n=int(input(\"Enter the number you want to check\"))\n",
    "rev=0\n",
    "temp=n\n",
    "while(n!=0):\n",
    "    rem=n%10\n",
    "    rev=(rev*10)+rem\n",
    "    n//=10\n",
    "if temp==rev:\n",
    "    print(\"The number is palindrome\")\n",
    "else:\n",
    "    print(\"The number is not palindrome\")\n",
    "    "
   ]
  },
  {
   "cell_type": "markdown",
   "id": "e97fe316-d1e3-4055-a7d7-a70ccdc72797",
   "metadata": {},
   "source": [
    "Q9. Write a code to print odd numbers from 1 to 100 using list comprehension."
   ]
  },
  {
   "cell_type": "code",
   "execution_count": 73,
   "id": "dcc880e0-6851-485c-bc63-dbbc2953682b",
   "metadata": {},
   "outputs": [
    {
     "name": "stdout",
     "output_type": "stream",
     "text": [
      "[1, 3, 5, 7, 9, 11, 13, 15, 17, 19, 21, 23, 25, 27, 29, 31, 33, 35, 37, 39, 41, 43, 45, 47, 49, 51, 53, 55, 57, 59, 61, 63, 65, 67, 69, 71, 73, 75, 77, 79, 81, 83, 85, 87, 89, 91, 93, 95, 97, 99]\n"
     ]
    }
   ],
   "source": [
    "l4=[]\n",
    "for i in range(1,101):\n",
    "    if i%2!=0:\n",
    "        l4.append(i)\n",
    "print(l4)"
   ]
  },
  {
   "cell_type": "code",
   "execution_count": null,
   "id": "6d20ff7a-2755-469a-8ec1-df4a88b871a3",
   "metadata": {},
   "outputs": [],
   "source": []
  }
 ],
 "metadata": {
  "kernelspec": {
   "display_name": "Python 3 (ipykernel)",
   "language": "python",
   "name": "python3"
  },
  "language_info": {
   "codemirror_mode": {
    "name": "ipython",
    "version": 3
   },
   "file_extension": ".py",
   "mimetype": "text/x-python",
   "name": "python",
   "nbconvert_exporter": "python",
   "pygments_lexer": "ipython3",
   "version": "3.10.8"
  }
 },
 "nbformat": 4,
 "nbformat_minor": 5
}
