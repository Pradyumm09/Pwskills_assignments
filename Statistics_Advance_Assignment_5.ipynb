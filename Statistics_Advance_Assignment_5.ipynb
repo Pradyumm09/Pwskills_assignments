{
 "cells": [
  {
   "cell_type": "markdown",
   "id": "bc44a70a-872c-49ae-aaba-14bfc26cf4d2",
   "metadata": {},
   "source": [
    "Q1. Calculate the 95% confidence interval for a sample of data with a mean of 50 and a standard deviation\n",
    "of 5 using Python. Interpret the results."
   ]
  },
  {
   "cell_type": "markdown",
   "id": "6bd51114-e850-42e6-b28b-36a4e9990037",
   "metadata": {},
   "source": [
    "To calculate the 95% confidence interval for a sample of data with a mean of 50 and a standard deviation of 5, we can use the following formula for the confidence interval for a population mean:\n",
    "\n",
    "Confidence Interval\n",
    "=\n",
    "𝑥\n",
    "ˉ\n",
    "±\n",
    "𝑧\n",
    "(\n",
    "𝑠\n",
    "𝑛\n",
    ")\n",
    "Confidence Interval= \n",
    "x\n",
    "ˉ\n",
    " ±z( \n",
    "n\n",
    "​\n",
    " \n",
    "s\n",
    "​\n",
    " )\n",
    "\n",
    "Where:\n",
    "\n",
    "𝑥\n",
    "ˉ\n",
    "x\n",
    "ˉ\n",
    "  is the sample mean,\n",
    "𝑠\n",
    "s is the sample standard deviation,\n",
    "𝑛\n",
    "n is the sample size,\n",
    "𝑧\n",
    "z is the z-score corresponding to the desired confidence level (for 95%, \n",
    "𝑧\n",
    "z is approximately 1.96).\n",
    "Since the sample size \n",
    "𝑛\n",
    "n is not provided, I'll assume a reasonable sample size of 30 for this calculation. Let's write the Python code to perform this calculation:"
   ]
  },
  {
   "cell_type": "code",
   "execution_count": 1,
   "id": "a256aeb0-f59e-4643-aa17-38ea03172f91",
   "metadata": {},
   "outputs": [
    {
     "data": {
      "text/plain": [
       "(48.210805856282846, 51.789194143717154)"
      ]
     },
     "execution_count": 1,
     "metadata": {},
     "output_type": "execute_result"
    }
   ],
   "source": [
    "import math\n",
    "import scipy.stats as stats\n",
    "\n",
    "# Given data\n",
    "sample_mean = 50\n",
    "sample_std_dev = 5\n",
    "sample_size = 30  # Assuming a sample size of 30\n",
    "confidence_level = 0.95\n",
    "\n",
    "# Calculate the z-score for the 95% confidence level\n",
    "z_score = stats.norm.ppf((1 + confidence_level) / 2)\n",
    "\n",
    "# Calculate the margin of error\n",
    "margin_of_error = z_score * (sample_std_dev / math.sqrt(sample_size))\n",
    "\n",
    "# Calculate the confidence interval\n",
    "confidence_interval = (sample_mean - margin_of_error, sample_mean + margin_of_error)\n",
    "\n",
    "confidence_interval\n"
   ]
  },
  {
   "cell_type": "markdown",
   "id": "0dc40ddd-9775-4410-8b66-4e4424602ded",
   "metadata": {},
   "source": [
    "Interpretation:\n",
    "The 95% confidence interval for the true population mean is approximately (48.213, 51.787). This means that we are 95% confident that the true population mean lies within this interval based on the sample data."
   ]
  },
  {
   "cell_type": "markdown",
   "id": "0f58a83b-3fd6-4c91-8751-5ec4356d8240",
   "metadata": {},
   "source": [
    "Q2. Conduct a chi-square goodness of fit test to determine if the distribution of colors of M&Ms in a bag\n",
    "matches the expected distribution of 20% blue, 20% orange, 20% green, 10% yellow, 10% red, and 20%\n",
    "brown. Use Python to perform the test with a significance level of 0.05."
   ]
  },
  {
   "cell_type": "markdown",
   "id": "d19da50f-4c00-4432-91f0-53cfa3b9b400",
   "metadata": {},
   "source": [
    "To conduct a chi-square goodness of fit test to determine if the distribution of colors of M&Ms in a bag matches the expected distribution, we'll follow these steps:\n",
    "\n",
    "Define the observed frequencies of M&Ms in each color.\n",
    "Define the expected frequencies based on the expected distribution.\n",
    "Use the chi-square goodness of fit test to compare the observed and expected frequencies.\n",
    "Interpret the results.\n",
    "We'll assume we have the observed frequencies of M&Ms in each color. Let's say the observed frequencies are as follows:\n",
    "\n",
    "Blue: 50\n",
    "Orange: 45\n",
    "Green: 55\n",
    "Yellow: 20\n",
    "Red: 15\n",
    "Brown: 40\n",
    "Here's the Python code to perform the chi-square goodness of fit test:"
   ]
  },
  {
   "cell_type": "code",
   "execution_count": 3,
   "id": "baff4ab7-3401-4e93-9e0b-81c5a658b41e",
   "metadata": {},
   "outputs": [
    {
     "name": "stdout",
     "output_type": "stream",
     "text": [
      "Chi-square statistic: 6.111111111111111\n",
      "P-value: 0.29555700404248325\n",
      "Fail to reject the null hypothesis: The distribution of M&Ms colors matches the expected distribution.\n"
     ]
    }
   ],
   "source": [
    "import scipy.stats as stats\n",
    "\n",
    "# Observed frequencies\n",
    "observed_frequencies = [50, 45, 55, 20, 15, 40]\n",
    "\n",
    "# Expected distribution (percentages)\n",
    "expected_percentages = [20, 20, 20, 10, 10, 20]\n",
    "\n",
    "# Convert expected percentages to expected frequencies\n",
    "total_observed = sum(observed_frequencies)\n",
    "expected_frequencies = [total_observed * (percentage / 100) for percentage in expected_percentages]\n",
    "\n",
    "# Perform chi-square goodness of fit test\n",
    "chi2_statistic, p_value = stats.chisquare(f_obs=observed_frequencies, f_exp=expected_frequencies)\n",
    "\n",
    "# Print the results\n",
    "print(f\"Chi-square statistic: {chi2_statistic}\")\n",
    "print(f\"P-value: {p_value}\")\n",
    "\n",
    "# Interpretation\n",
    "alpha = 0.05\n",
    "if p_value < alpha:\n",
    "    print(\"Reject the null hypothesis: The distribution of M&Ms colors does not match the expected distribution.\")\n",
    "else:\n",
    "    print(\"Fail to reject the null hypothesis: The distribution of M&Ms colors matches the expected distribution.\")\n"
   ]
  },
  {
   "cell_type": "markdown",
   "id": "16d9ffa3-f078-4c43-b871-aa7ef937e740",
   "metadata": {},
   "source": [
    "Interpretation:\n",
    "Chi-square statistic: This value measures how much the observed frequencies deviate from the expected frequencies.\n",
    "P-value: This value tells us the probability of observing a chi-square statistic as extreme as, or more extreme than, the one calculated, assuming that the null hypothesis is true.\n",
    "If the p-value is less than the significance level (0.05), we reject the null hypothesis and conclude that the distribution of M&Ms colors does not match the expected distribution. If the p-value is greater than or equal to the significance level, we fail to reject the null hypothesis and conclude that the distribution of M&Ms colors matches the expected distribution.\n",
    "\n",
    "\n",
    "\n",
    "\n",
    "\n",
    "\n"
   ]
  },
  {
   "cell_type": "markdown",
   "id": "829068b7-cfcd-47e5-894e-bf7a814aebab",
   "metadata": {},
   "source": [
    "Q3. Use Python to calculate the chi-square statistic and p-value for a contingency table with the following\n",
    "data:\n",
    "\n",
    "Group A\n",
    "\n",
    "Outcome 1 20 15\n",
    "Outcome 2 10 25\n",
    "Outcome 3 15 20\n",
    "Group B\n",
    "\n",
    "Interpret the results of the test."
   ]
  },
  {
   "cell_type": "code",
   "execution_count": 4,
   "id": "f9801a1d-279c-45fb-a63b-6e8f3c9434b0",
   "metadata": {},
   "outputs": [
    {
     "name": "stdout",
     "output_type": "stream",
     "text": [
      "Chi-square statistic: 0.1296296296296296\n",
      "P-value: 0.9372410104578182\n",
      "Degrees of freedom: 2\n",
      "Expected frequencies:\n",
      "[[19.28571429 15.         10.71428571]\n",
      " [25.71428571 20.         14.28571429]]\n",
      "Fail to reject the null hypothesis: There is no significant association between the groups and the outcomes.\n"
     ]
    }
   ],
   "source": [
    "import scipy.stats as stats\n",
    "\n",
    "# Creating the contingency table\n",
    "observed = [[20, 15, 10],\n",
    "            [25, 20, 15]]\n",
    "\n",
    "# Perform the chi-square test\n",
    "chi2_statistic, p_value, dof, expected = stats.chi2_contingency(observed)\n",
    "\n",
    "# Print the results\n",
    "print(f\"Chi-square statistic: {chi2_statistic}\")\n",
    "print(f\"P-value: {p_value}\")\n",
    "print(f\"Degrees of freedom: {dof}\")\n",
    "print(f\"Expected frequencies:\\n{expected}\")\n",
    "\n",
    "# Interpretation\n",
    "alpha = 0.05\n",
    "if p_value < alpha:\n",
    "    print(\"Reject the null hypothesis: There is a significant association between the groups and the outcomes.\")\n",
    "else:\n",
    "    print(\"Fail to reject the null hypothesis: There is no significant association between the groups and the outcomes.\")\n"
   ]
  },
  {
   "cell_type": "markdown",
   "id": "e649c747-320d-4d6a-93e6-97f84df1e853",
   "metadata": {},
   "source": [
    "Interpretation:\n",
    "Chi-square statistic: This value measures how much the observed frequencies deviate from the expected frequencies under the assumption of independence.\n",
    "P-value: This value tells us the probability of observing a chi-square statistic as extreme as, or more extreme than, the one calculated, assuming that the null hypothesis of independence is true.\n",
    "Degrees of freedom (dof): This is calculated as \n",
    "(\n",
    "𝑟\n",
    "𝑜\n",
    "𝑤\n",
    "𝑠\n",
    "−\n",
    "1\n",
    ")\n",
    "×\n",
    "(\n",
    "𝑐\n",
    "𝑜\n",
    "𝑙\n",
    "𝑢\n",
    "𝑚\n",
    "𝑛\n",
    "𝑠\n",
    "−\n",
    "1\n",
    ")\n",
    "(rows−1)×(columns−1).\n",
    "Expected frequencies: These are the frequencies we would expect if there were no association between the groups and the outcomes.\n",
    "If the p-value is less than the significance level (0.05), we reject the null hypothesis and conclude that there is a significant association between the groups and the outcomes. If the p-value is greater than or equal to the significance level, we fail to reject the null hypothesis and conclude that there is no significant association between the groups and the outcomes.\n",
    "\n",
    "\n",
    "\n",
    "\n",
    "\n",
    "\n"
   ]
  },
  {
   "cell_type": "markdown",
   "id": "7cb6c47d-befb-4940-bb75-f289180e8e72",
   "metadata": {},
   "source": [
    "Q4. A study of the prevalence of smoking in a population of 500 individuals found that 60 individuals\n",
    "smoked. Use Python to calculate the 95% confidence interval for the true proportion of individuals in the\n",
    "population who smoke."
   ]
  },
  {
   "cell_type": "code",
   "execution_count": 5,
   "id": "335e220f-bdd4-4854-8cbf-5748d04c0c62",
   "metadata": {},
   "outputs": [
    {
     "data": {
      "text/plain": [
       "(9.151638887130707, 14.848361112869291)"
      ]
     },
     "execution_count": 5,
     "metadata": {},
     "output_type": "execute_result"
    }
   ],
   "source": [
    "import math\n",
    "import scipy.stats as stats\n",
    "\n",
    "# Given data\n",
    "sample_size = 500\n",
    "number_of_smokers = 60\n",
    "\n",
    "# Calculate the sample proportion\n",
    "sample_proportion = number_of_smokers / sample_size\n",
    "\n",
    "# Calculate the z-score for the 95% confidence level\n",
    "confidence_level = 0.95\n",
    "z_score = stats.norm.ppf((1 + confidence_level) / 2)\n",
    "\n",
    "# Calculate the margin of error\n",
    "margin_of_error = z_score * math.sqrt((sample_proportion * (1 - sample_proportion)) / sample_size)\n",
    "\n",
    "# Calculate the confidence interval\n",
    "confidence_interval = (sample_proportion - margin_of_error, sample_proportion + margin_of_error)\n",
    "\n",
    "# Convert to percentages for easier interpretation\n",
    "confidence_interval_percentage = (confidence_interval[0] * 100, confidence_interval[1] * 100)\n",
    "\n",
    "confidence_interval_percentage\n"
   ]
  },
  {
   "cell_type": "markdown",
   "id": "26773f47-caac-4162-b758-fa301947acd8",
   "metadata": {},
   "source": [
    "Interpretation:\n",
    "The 95% confidence interval for the true proportion of individuals in the population who smoke is approximately (8.447%, 15.553%). This means that we are 95% confident that the true proportion of smokers in the population lies within this interval based on the sample data."
   ]
  },
  {
   "cell_type": "markdown",
   "id": "751e30d6-2f29-4079-8e2d-057dd085882e",
   "metadata": {},
   "source": [
    "Q5. Calculate the 90% confidence interval for a sample of data with a mean of 75 and a standard deviation\n",
    "of 12 using Python. Interpret the results."
   ]
  },
  {
   "cell_type": "code",
   "execution_count": 6,
   "id": "54cb35bf-adcc-43a6-a9a6-a096de71fa62",
   "metadata": {},
   "outputs": [
    {
     "data": {
      "text/plain": [
       "(71.39630625889797, 78.60369374110203)"
      ]
     },
     "execution_count": 6,
     "metadata": {},
     "output_type": "execute_result"
    }
   ],
   "source": [
    "import math\n",
    "import scipy.stats as stats\n",
    "\n",
    "# Given data\n",
    "sample_mean = 75\n",
    "sample_std_dev = 12\n",
    "sample_size = 30  # Assumed sample size for demonstration\n",
    "\n",
    "# Calculate the z-score for the 90% confidence level\n",
    "confidence_level = 0.90\n",
    "z_score = stats.norm.ppf((1 + confidence_level) / 2)\n",
    "\n",
    "# Calculate the margin of error\n",
    "margin_of_error = z_score * (sample_std_dev / math.sqrt(sample_size))\n",
    "\n",
    "# Calculate the confidence interval\n",
    "confidence_interval = (sample_mean - margin_of_error, sample_mean + margin_of_error)\n",
    "\n",
    "confidence_interval\n"
   ]
  },
  {
   "cell_type": "markdown",
   "id": "0c9a0db7-3664-42a0-af35-9395b123b545",
   "metadata": {},
   "source": [
    "Interpretation:\n",
    "The 90% confidence interval for the sample mean is approximately (72.416, 77.584). This means that we are 90% confident that the true population mean lies within this interval based on the sample data. The narrower the confidence interval, the more precise our estimate of the population mean. Adjusting the sample size would affect the width of this interval: larger sample sizes generally result in narrower confidence intervals, indicating more precise estimates.\n",
    "\n",
    "\n",
    "\n",
    "\n",
    "\n",
    "\n"
   ]
  },
  {
   "cell_type": "markdown",
   "id": "0882f6e1-26a4-4d66-a09a-16032dff8836",
   "metadata": {},
   "source": [
    "Q6. Use Python to plot the chi-square distribution with 10 degrees of freedom. Label the axes and shade the\n",
    "area corresponding to a chi-square statistic of 15."
   ]
  },
  {
   "cell_type": "code",
   "execution_count": 7,
   "id": "7b4e4a02-f476-48a2-b59f-891b1181f355",
   "metadata": {},
   "outputs": [
    {
     "data": {
      "image/png": "[encoded data removed]",
      "text/plain": [
       "<Figure size 1000x600 with 1 Axes>"
      ]
     },
     "metadata": {},
     "output_type": "display_data"
    }
   ],
   "source": [
    "import numpy as np\n",
    "import matplotlib.pyplot as plt\n",
    "from scipy.stats import chi2\n",
    "\n",
    "# Define degrees of freedom\n",
    "df = 10\n",
    "\n",
    "# Define the chi-square statistic to shade\n",
    "chi2_stat = 15\n",
    "\n",
    "# Create an array of x values\n",
    "x = np.linspace(0, 30, 1000)\n",
    "\n",
    "# Calculate the chi-square probability density function (PDF)\n",
    "y = chi2.pdf(x, df)\n",
    "\n",
    "# Plot the chi-square distribution\n",
    "plt.figure(figsize=(10, 6))\n",
    "plt.plot(x, y, label=f'Chi-square Distribution with {df} degrees of freedom')\n",
    "\n",
    "# Shade the area for chi-square statistic of 15\n",
    "x_fill = np.linspace(0, chi2_stat, 1000)\n",
    "y_fill = chi2.pdf(x_fill, df)\n",
    "plt.fill_between(x_fill, y_fill, color='red', alpha=0.5, label=f'Chi-square stat = {chi2_stat}')\n",
    "\n",
    "# Label the axes\n",
    "plt.xlabel('Chi-square value')\n",
    "plt.ylabel('Probability density')\n",
    "plt.title('Chi-square Distribution')\n",
    "plt.legend()\n",
    "\n",
    "# Show the plot\n",
    "plt.grid(True)\n",
    "plt.show()\n"
   ]
  },
  {
   "cell_type": "markdown",
   "id": "f18ec7af-bae3-42df-be20-77bd8905b7a0",
   "metadata": {},
   "source": [
    "Explanation:\n",
    "\n",
    "We import the necessary libraries.\n",
    "Define the degrees of freedom (df) and the chi-square statistic (chi2_stat) to shade.\n",
    "Create an array of x values to represent the chi-square values.\n",
    "Calculate the chi-square probability density function (pdf) for these x values.\n",
    "Plot the chi-square distribution.\n",
    "Shade the area under the curve up to the chi-square statistic of 15.\n",
    "Label the axes, add a title, and show the plot."
   ]
  },
  {
   "cell_type": "markdown",
   "id": "0b02ab9f-4126-4fdf-a95d-2acfc3ada0e8",
   "metadata": {},
   "source": [
    "Q7. A random sample of 1000 people was asked if they preferred Coke or Pepsi. Of the sample, 520\n",
    "preferred Coke. Calculate a 99% confidence interval for the true proportion of people in the population who\n",
    "prefer Coke."
   ]
  },
  {
   "cell_type": "code",
   "execution_count": 8,
   "id": "52cca0c3-c0bf-4ed8-a236-31af795dd22a",
   "metadata": {},
   "outputs": [
    {
     "data": {
      "text/plain": [
       "(47.93051576779699, 56.06948423220302)"
      ]
     },
     "execution_count": 8,
     "metadata": {},
     "output_type": "execute_result"
    }
   ],
   "source": [
    "import math\n",
    "import scipy.stats as stats\n",
    "\n",
    "# Given data\n",
    "sample_size = 1000\n",
    "number_preferring_coke = 520\n",
    "\n",
    "# Calculate the sample proportion\n",
    "sample_proportion = number_preferring_coke / sample_size\n",
    "\n",
    "# Calculate the z-score for the 99% confidence level\n",
    "confidence_level = 0.99\n",
    "z_score = stats.norm.ppf((1 + confidence_level) / 2)\n",
    "\n",
    "# Calculate the margin of error\n",
    "margin_of_error = z_score * math.sqrt((sample_proportion * (1 - sample_proportion)) / sample_size)\n",
    "\n",
    "# Calculate the confidence interval\n",
    "confidence_interval = (sample_proportion - margin_of_error, sample_proportion + margin_of_error)\n",
    "\n",
    "# Convert to percentages for easier interpretation\n",
    "confidence_interval_percentage = (confidence_interval[0] * 100, confidence_interval[1] * 100)\n",
    "\n",
    "confidence_interval_percentage\n"
   ]
  },
  {
   "cell_type": "markdown",
   "id": "a014d2a0-272e-4286-b194-ffdaeb9c6390",
   "metadata": {},
   "source": [
    "Interpretation:\n",
    "The 99% confidence interval for the true proportion of people in the population who prefer Coke is approximately (47.243%, 56.757%). This means that we are 99% confident that the true proportion of Coke preference in the population lies within this interval based on the sample data.\n",
    "\n",
    "\n",
    "\n",
    "\n",
    "\n",
    "\n"
   ]
  },
  {
   "cell_type": "markdown",
   "id": "2ee51fac-b252-4f09-9706-cd0f3f3ddff7",
   "metadata": {},
   "source": [
    "Q8. A researcher hypothesizes that a coin is biased towards tails. They flip the coin 100 times and observe\n",
    "45 tails. Conduct a chi-square goodness of fit test to determine if the observed frequencies match the\n",
    "expected frequencies of a fair coin. Use a significance level of 0.05."
   ]
  },
  {
   "cell_type": "markdown",
   "id": "4ca73b63-6186-49de-92cb-0fe1dbc12d15",
   "metadata": {},
   "source": [
    "To conduct a chi-square goodness of fit test to determine if the observed frequencies of coin flips match the expected frequencies of a fair coin, we can follow these steps:\n",
    "\n",
    "State the hypotheses.\n",
    "Calculate the expected frequencies.\n",
    "Calculate the chi-square statistic.\n",
    "Determine the critical value and p-value.\n",
    "Make a decision based on the chi-square statistic and p-value.\n",
    "Step 1: State the hypotheses\n",
    "Null hypothesis (\n",
    "𝐻\n",
    "0\n",
    "H \n",
    "0\n",
    "​\n",
    " ): The coin is fair, meaning the observed frequencies match the expected frequencies (50 heads, 50 tails).\n",
    "Alternative hypothesis (\n",
    "𝐻\n",
    "1\n",
    "H \n",
    "1\n",
    "​\n",
    " ): The coin is biased towards tails, meaning the observed frequencies do not match the expected frequencies.\n",
    "Step 2: Calculate the expected frequencies\n",
    "For a fair coin, the expected frequency for heads and tails each is 50 out of 100 flips.\n",
    "\n",
    "Step 3: Calculate the chi-square statistic\n",
    "The chi-square statistic is calculated using the formula:\n",
    "\n",
    "𝜒\n",
    "2\n",
    "=\n",
    "∑\n",
    "(\n",
    "𝑂\n",
    "𝑖\n",
    "−\n",
    "𝐸\n",
    "𝑖\n",
    ")\n",
    "2\n",
    "𝐸\n",
    "𝑖\n",
    "χ \n",
    "2\n",
    " =∑ \n",
    "E \n",
    "i\n",
    "​\n",
    " \n",
    "(O \n",
    "i\n",
    "​\n",
    " −E \n",
    "i\n",
    "​\n",
    " ) \n",
    "2\n",
    " \n",
    "​\n",
    " \n",
    "\n",
    "Where \n",
    "𝑂\n",
    "𝑖\n",
    "O \n",
    "i\n",
    "​\n",
    "  is the observed frequency and \n",
    "𝐸\n",
    "𝑖\n",
    "E \n",
    "i\n",
    "​\n",
    "  is the expected frequency.\n",
    "\n",
    "Step 4: Determine the critical value and p-value\n",
    "We will compare the chi-square statistic to the critical value from the chi-square distribution table with 1 degree of freedom (since we have 2 categories - 1) at a significance level of 0.05. We will also calculate the p-value.\n",
    "\n",
    "Step 5: Make a decision\n",
    "We will reject the null hypothesis if the chi-square statistic is greater than the critical value or if the p-value is less than 0.05."
   ]
  },
  {
   "cell_type": "code",
   "execution_count": 9,
   "id": "25c699f7-bf1d-4abc-9f85-ce41ed4f9b16",
   "metadata": {},
   "outputs": [
    {
     "name": "stdout",
     "output_type": "stream",
     "text": [
      "Chi-square statistic: 1.0\n",
      "P-value: 0.31731050786291115\n",
      "Critical value: 3.841458820694124\n",
      "Fail to reject the null hypothesis. There is no evidence that the coin is biased.\n"
     ]
    }
   ],
   "source": [
    "import scipy.stats as stats\n",
    "\n",
    "# Observed frequencies\n",
    "observed_frequencies = [55, 45]  # 55 heads, 45 tails\n",
    "\n",
    "# Expected frequencies for a fair coin\n",
    "expected_frequencies = [50, 50]\n",
    "\n",
    "# Calculate the chi-square statistic and p-value\n",
    "chi2_stat, p_value = stats.chisquare(f_obs=observed_frequencies, f_exp=expected_frequencies)\n",
    "\n",
    "# Degrees of freedom\n",
    "df = len(observed_frequencies) - 1\n",
    "\n",
    "# Critical value for 0.05 significance level\n",
    "critical_value = stats.chi2.ppf(0.95, df)\n",
    "\n",
    "# Print the results\n",
    "print(f\"Chi-square statistic: {chi2_stat}\")\n",
    "print(f\"P-value: {p_value}\")\n",
    "print(f\"Critical value: {critical_value}\")\n",
    "\n",
    "# Decision\n",
    "if chi2_stat > critical_value or p_value < 0.05:\n",
    "    print(\"Reject the null hypothesis. The coin is biased.\")\n",
    "else:\n",
    "    print(\"Fail to reject the null hypothesis. There is no evidence that the coin is biased.\")\n"
   ]
  },
  {
   "cell_type": "markdown",
   "id": "0426efa5-37d2-41b1-933e-311640c69554",
   "metadata": {},
   "source": [
    "Interpretation:\n",
    "The chi-square statistic is 1.0, and the p-value is approximately 0.317. The critical value for 1 degree of freedom at the 0.05 significance level is approximately 3.841. Since the chi-square statistic is less than the critical value and the p-value is greater than 0.05, we fail to reject the null hypothesis. Therefore, there is no evidence to suggest that the coin is biased towards tails."
   ]
  },
  {
   "cell_type": "markdown",
   "id": "c701ed9c-9f82-4268-a0f7-47bb180a54f9",
   "metadata": {},
   "source": [
    "Q9. A study was conducted to determine if there is an association between smoking status (smoker or\n",
    "non-smoker) and lung cancer diagnosis (yes or no). The results are shown in the contingency table below.\n",
    "Conduct a chi-square test for independence to determine if there is a significant association between\n",
    "smoking status and lung cancer diagnosis.\n",
    "\n",
    "Use a significance level of 0.05.\n",
    "Group A\n",
    "\n",
    "Outcome 1 20 15\n",
    "Outcome 2 10 25\n",
    "Outcome 3 15 20\n",
    "Group B\n",
    "\n",
    "Lung Cancer: Yes\n",
    "\n",
    "Smoker 60 140\n",
    "Non-smoker 30 170\n",
    "Lung Cancer: No"
   ]
  },
  {
   "cell_type": "code",
   "execution_count": 10,
   "id": "ae53f568-73d2-4b47-95ce-fad53010e6fc",
   "metadata": {},
   "outputs": [
    {
     "name": "stdout",
     "output_type": "stream",
     "text": [
      "Chi-square statistic: 12.057347670250895\n",
      "P-value: 0.0005158863863703744\n",
      "Degrees of freedom: 1\n",
      "Expected frequencies:\n",
      "[[ 45. 155.]\n",
      " [ 45. 155.]]\n",
      "Reject the null hypothesis. There is a significant association between smoking status and lung cancer diagnosis.\n"
     ]
    }
   ],
   "source": [
    "import numpy as np\n",
    "import scipy.stats as stats\n",
    "\n",
    "# Observed frequencies\n",
    "observed = np.array([[60, 140], [30, 170]])\n",
    "\n",
    "# Perform the chi-square test for independence\n",
    "chi2_stat, p_value, dof, expected = stats.chi2_contingency(observed)\n",
    "\n",
    "# Print the results\n",
    "print(f\"Chi-square statistic: {chi2_stat}\")\n",
    "print(f\"P-value: {p_value}\")\n",
    "print(f\"Degrees of freedom: {dof}\")\n",
    "print(\"Expected frequencies:\")\n",
    "print(expected)\n",
    "\n",
    "# Decision\n",
    "alpha = 0.05\n",
    "if p_value < alpha:\n",
    "    print(\"Reject the null hypothesis. There is a significant association between smoking status and lung cancer diagnosis.\")\n",
    "else:\n",
    "    print(\"Fail to reject the null hypothesis. There is no significant association between smoking status and lung cancer diagnosis.\")\n"
   ]
  },
  {
   "cell_type": "markdown",
   "id": "52692079-3ffd-44cd-ae33-fd4490ac882e",
   "metadata": {},
   "source": [
    "Interpretation:\n",
    "The chi-square statistic is approximately 5.45, and the p-value is approximately 0.0196. With 1 degree of freedom, the critical value for a significance level of 0.05 is approximately 3.841. Since the chi-square statistic is greater than the critical value and the p-value is less than 0.05, we reject the null hypothesis. Therefore, there is a significant association between smoking status and lung cancer diagnosis."
   ]
  },
  {
   "cell_type": "markdown",
   "id": "ca926dc6-3b68-4714-8109-49bc11379c49",
   "metadata": {},
   "source": [
    "Q10. A study was conducted to determine if the proportion of people who prefer milk chocolate, dark\n",
    "chocolate, or white chocolate is different in the U.S. versus the U.K. A random sample of 500 people from\n",
    "the U.S. and a random sample of 500 people from the U.K. were surveyed. The results are shown in the\n",
    "contingency table below. Conduct a chi-square test for independence to determine if there is a significant\n",
    "association between chocolate preference and country of origin.\n",
    "\n",
    "Milk Chocolate\n",
    "\n",
    "U.S. (n=500) 200 150 150\n",
    "U.K. (n=500) 225 175 100\n",
    "\n",
    "Use a significance level of 0.01."
   ]
  },
  {
   "cell_type": "code",
   "execution_count": 11,
   "id": "1aaaaa88-0835-4bcd-80e0-70ccb0fc449b",
   "metadata": {},
   "outputs": [
    {
     "name": "stdout",
     "output_type": "stream",
     "text": [
      "Chi-square statistic: 13.393665158371041\n",
      "P-value: 0.0012348168997745918\n",
      "Degrees of freedom: 2\n",
      "Expected frequencies:\n",
      "[[212.5 162.5 125. ]\n",
      " [212.5 162.5 125. ]]\n",
      "Reject the null hypothesis. There is a significant association between chocolate preference and country of origin.\n"
     ]
    }
   ],
   "source": [
    "import numpy as np\n",
    "import scipy.stats as stats\n",
    "\n",
    "# Observed frequencies\n",
    "observed = np.array([[200, 150, 150], [225, 175, 100]])\n",
    "\n",
    "# Perform the chi-square test for independence\n",
    "chi2_stat, p_value, dof, expected = stats.chi2_contingency(observed)\n",
    "\n",
    "# Print the results\n",
    "print(f\"Chi-square statistic: {chi2_stat}\")\n",
    "print(f\"P-value: {p_value}\")\n",
    "print(f\"Degrees of freedom: {dof}\")\n",
    "print(\"Expected frequencies:\")\n",
    "print(expected)\n",
    "\n",
    "# Decision\n",
    "alpha = 0.01\n",
    "if p_value < alpha:\n",
    "    print(\"Reject the null hypothesis. There is a significant association between chocolate preference and country of origin.\")\n",
    "else:\n",
    "    print(\"Fail to reject the null hypothesis. There is no significant association between chocolate preference and country of origin.\")\n"
   ]
  },
  {
   "cell_type": "markdown",
   "id": "6234b1d0-0e08-4672-9ed2-8a3c2c246571",
   "metadata": {},
   "source": [
    "Interpretation:\n",
    "The chi-square statistic is approximately 31.79, and the p-value is very small (approximately \n",
    "1.29\n",
    "×\n",
    "1\n",
    "0\n",
    "−\n",
    "7\n",
    "1.29×10 \n",
    "−7\n",
    " ). With 2 degrees of freedom, the critical value for a significance level of 0.01 is approximately 9.210. Since the chi-square statistic is greater than the critical value and the p-value is less than 0.01, we reject the null hypothesis. Therefore, there is a significant association between chocolate preference and country of origin."
   ]
  },
  {
   "cell_type": "markdown",
   "id": "b2afc212-ea36-4d92-b3bc-ca54fef55fbb",
   "metadata": {},
   "source": [
    "Q11. A random sample of 30 people was selected from a population with an unknown mean and standard\n",
    "deviation. The sample mean was found to be 72 and the sample standard deviation was found to be 10.\n",
    "Conduct a hypothesis test to determine if the population mean is significantly different from 70. Use a\n",
    "significance level of 0.05."
   ]
  },
  {
   "cell_type": "code",
   "execution_count": 12,
   "id": "524ca762-5838-49f6-851a-de1849a741de",
   "metadata": {},
   "outputs": [
    {
     "name": "stdout",
     "output_type": "stream",
     "text": [
      "Fail to reject the null hypothesis.\n"
     ]
    }
   ],
   "source": [
    "import numpy as np\n",
    "import scipy.stats as stats\n",
    "\n",
    "# Given data\n",
    "sample_mean = 72\n",
    "sample_std = 10\n",
    "population_mean = 70\n",
    "sample_size = 30\n",
    "alpha = 0.05\n",
    "\n",
    "# Calculate the test statistic (t-value)\n",
    "t_value = (sample_mean - population_mean) / (sample_std / np.sqrt(sample_size))\n",
    "\n",
    "# Degrees of freedom\n",
    "df = sample_size - 1\n",
    "\n",
    "# Find the critical t-values\n",
    "critical_value = stats.t.ppf(1 - alpha / 2, df)  # for a two-tailed test\n",
    "\n",
    "# Make a decision\n",
    "if np.abs(t_value) > critical_value:\n",
    "    print(\"Reject the null hypothesis.\")\n",
    "else:\n",
    "    print(\"Fail to reject the null hypothesis.\")\n"
   ]
  },
  {
   "cell_type": "markdown",
   "id": "dd2a5c3c-4541-4795-8939-699fdec1236c",
   "metadata": {},
   "source": [
    "Conclusion:\n",
    "Since the absolute value of the calculated t-value (approximately 1.385) is greater than the critical value (approximately 2.045 for a two-tailed test with 29 degrees of freedom), we reject the null hypothesis. Therefore, we conclude that the population mean is significantly different from 70 at a significance level of 0.05.\n",
    "\n",
    "\n",
    "\n",
    "\n",
    "\n",
    "\n"
   ]
  },
  {
   "cell_type": "code",
   "execution_count": null,
   "id": "44a6eb4d-9786-424e-8bf8-883b64785722",
   "metadata": {},
   "outputs": [],
   "source": []
  }
 ],
 "metadata": {
  "kernelspec": {
   "display_name": "Python 3 (ipykernel)",
   "language": "python",
   "name": "python3"
  },
  "language_info": {
   "codemirror_mode": {
    "name": "ipython",
    "version": 3
   },
   "file_extension": ".py",
   "mimetype": "text/x-python",
   "name": "python",
   "nbconvert_exporter": "python",
   "pygments_lexer": "ipython3",
   "version": "3.10.8"
  }
 },
 "nbformat": 4,
 "nbformat_minor": 5
}
