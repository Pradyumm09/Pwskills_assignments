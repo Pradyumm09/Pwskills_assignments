{
 "cells": [
  {
   "cell_type": "markdown",
   "id": "b1c28465-d744-4eba-ae49-48c534770c48",
   "metadata": {},
   "source": [
    "Q1.Create a vehicle class with an init method having instance variables as name_of_vehicle, max_speed\n",
    "and average_of_vehicle."
   ]
  },
  {
   "cell_type": "code",
   "execution_count": 1,
   "id": "20cf6908-f5e5-4fca-b0a5-7bda774aae70",
   "metadata": {},
   "outputs": [],
   "source": [
    "class vehicle:\n",
    "    def __init__(self,name_of_vehicle,max_speed,average_of_vehicle):\n",
    "        self.name_of_vehicle=name_of_vehicle\n",
    "        self.max_speed=max_speed\n",
    "        self.average_of_vehicle=average_of_vehicle\n",
    "    def print_vehicle(self):\n",
    "        return self.name_of_vehicle,self.max_speed,self.average_of_vehicle"
   ]
  },
  {
   "cell_type": "code",
   "execution_count": 4,
   "id": "4a56ac72-c914-471b-a6cd-dde9fe864da3",
   "metadata": {},
   "outputs": [],
   "source": [
    "amar=vehicle('Hero','95kmph','45km/l')"
   ]
  },
  {
   "cell_type": "code",
   "execution_count": 5,
   "id": "5da1ea88-82b5-4c4c-822a-7047d778eca8",
   "metadata": {},
   "outputs": [
    {
     "data": {
      "text/plain": [
       "('Hero', '95kmph', '45km/l')"
      ]
     },
     "execution_count": 5,
     "metadata": {},
     "output_type": "execute_result"
    }
   ],
   "source": [
    "amar.print_vehicle()"
   ]
  },
  {
   "cell_type": "markdown",
   "id": "21919760-8b1e-4f51-8fe8-7a0ce1703091",
   "metadata": {},
   "source": [
    "Q2. Create a child class car from the vehicle class created in Que 1, which will inherit the vehicle class.\n",
    "Create a method named seating_capacity which takes capacity as an argument and returns the name of\n",
    "the vehicle and its seating capacity."
   ]
  },
  {
   "cell_type": "code",
   "execution_count": 13,
   "id": "5409f36f-9b6d-4fad-88a3-e82047f4010a",
   "metadata": {},
   "outputs": [],
   "source": [
    "class car(vehicle):\n",
    "    def seating_capacity(self,capacity):\n",
    "        self.capacity=capacity\n",
    "        return self.name_of_vehicle,self.capacity,\n",
    "        "
   ]
  },
  {
   "cell_type": "code",
   "execution_count": 14,
   "id": "23264439-0513-42da-acce-491d050d0278",
   "metadata": {},
   "outputs": [],
   "source": [
    "amar2=car('honda','95kmph','45/l')"
   ]
  },
  {
   "cell_type": "code",
   "execution_count": 15,
   "id": "e0867a52-4541-4928-9940-5fa3512e93a2",
   "metadata": {},
   "outputs": [
    {
     "data": {
      "text/plain": [
       "('honda', 2)"
      ]
     },
     "execution_count": 15,
     "metadata": {},
     "output_type": "execute_result"
    }
   ],
   "source": [
    "amar2.seating_capacity(2)"
   ]
  },
  {
   "cell_type": "markdown",
   "id": "b6e30811-741f-4088-ba0b-409e77e49a70",
   "metadata": {},
   "source": [
    "Q3. What is multiple inheritance? Write a python code to demonstrate multiple inheritance."
   ]
  },
  {
   "cell_type": "markdown",
   "id": "73eae094-8c72-44be-aa58-0aeb224f5d29",
   "metadata": {},
   "source": [
    "Multiple Inheritance is  a type of inheritance in which a derived class extracts the properties from two or more base classes.Python code for multiple inheritance is as follows:"
   ]
  },
  {
   "cell_type": "code",
   "execution_count": 1,
   "id": "768a8c82-0838-4d6c-b7d9-909824dc69fc",
   "metadata": {},
   "outputs": [],
   "source": [
    "class grandpa:\n",
    "    def grandmet(self):\n",
    "        return 'Grandpa method'"
   ]
  },
  {
   "cell_type": "code",
   "execution_count": 2,
   "id": "3ee66a08-e99c-4307-88ea-63032faba1b5",
   "metadata": {},
   "outputs": [],
   "source": [
    "class dad:\n",
    "    def dadmet(self):\n",
    "        return 'Dad method'\n",
    "               "
   ]
  },
  {
   "cell_type": "code",
   "execution_count": 3,
   "id": "6e178861-cb6d-467b-8edd-31e97b6026a7",
   "metadata": {},
   "outputs": [],
   "source": [
    "class beta(grandpa,dad):\n",
    "    pass"
   ]
  },
  {
   "cell_type": "code",
   "execution_count": 4,
   "id": "40e55832-a618-4280-903f-5d4328b59eeb",
   "metadata": {},
   "outputs": [],
   "source": [
    "beta_obj=beta()"
   ]
  },
  {
   "cell_type": "code",
   "execution_count": 5,
   "id": "1d247e40-a257-4aea-bb8e-92f4d9a577e6",
   "metadata": {},
   "outputs": [
    {
     "data": {
      "text/plain": [
       "'Dad method'"
      ]
     },
     "execution_count": 5,
     "metadata": {},
     "output_type": "execute_result"
    }
   ],
   "source": [
    "beta_obj.dadmet()"
   ]
  },
  {
   "cell_type": "code",
   "execution_count": 6,
   "id": "3f33d160-5757-41ea-a2ba-27a992737f14",
   "metadata": {},
   "outputs": [
    {
     "data": {
      "text/plain": [
       "'Grandpa method'"
      ]
     },
     "execution_count": 6,
     "metadata": {},
     "output_type": "execute_result"
    }
   ],
   "source": [
    "beta_obj.grandmet()"
   ]
  },
  {
   "cell_type": "markdown",
   "id": "99e1b618-6eae-464f-9b28-a97c3f4dd040",
   "metadata": {},
   "source": [
    "Q4. What are getter and setter in python? Create a class and create a getter and a setter method in this\n",
    "class."
   ]
  },
  {
   "cell_type": "markdown",
   "id": "e95ea46c-dbba-4a42-8de2-b611a158f617",
   "metadata": {},
   "source": [
    " Getter and Setter methods are used to control access to class attributes. They provide a way to encapsulate the access and modification of attribute values, allowing you to add validation,encapsulation as well as modification"
   ]
  },
  {
   "cell_type": "code",
   "execution_count": 26,
   "id": "906d5737-bfdf-40ce-9488-efeb22af8d6d",
   "metadata": {},
   "outputs": [],
   "source": [
    "class student_details:\n",
    "    def __init__(self,name,age):\n",
    "        self.__name=name\n",
    "        self.__age=age\n",
    "    def get_details(self):\n",
    "        return self.__name,self.__age\n",
    "    def set_details_name(self,name):\n",
    "         self.__name=name\n",
    "    def set_details_age(self,age):\n",
    "         self.__age=age\n",
    "    \n",
    "        "
   ]
  },
  {
   "cell_type": "code",
   "execution_count": 27,
   "id": "86ede9af-f740-483c-a06c-3adfc166ee14",
   "metadata": {},
   "outputs": [],
   "source": [
    "am=student_details('amar',19)\n"
   ]
  },
  {
   "cell_type": "code",
   "execution_count": 28,
   "id": "ff4b5015-ffc4-4308-ae96-07e05c5772a6",
   "metadata": {},
   "outputs": [
    {
     "data": {
      "text/plain": [
       "('amar', 19)"
      ]
     },
     "execution_count": 28,
     "metadata": {},
     "output_type": "execute_result"
    }
   ],
   "source": [
    "am.get_details()"
   ]
  },
  {
   "cell_type": "code",
   "execution_count": 29,
   "id": "48e09926-cbfe-4c8f-9844-fe98697bb13b",
   "metadata": {},
   "outputs": [],
   "source": [
    "am.set_details_name('sudh')"
   ]
  },
  {
   "cell_type": "code",
   "execution_count": 30,
   "id": "3346affa-d105-458b-9e7a-2112bfcd38d9",
   "metadata": {},
   "outputs": [],
   "source": [
    "am.set_details_age(21)"
   ]
  },
  {
   "cell_type": "code",
   "execution_count": 31,
   "id": "676e72a6-0aa5-4a81-a8d5-4f9d5f6a12cf",
   "metadata": {},
   "outputs": [
    {
     "data": {
      "text/plain": [
       "('sudh', 21)"
      ]
     },
     "execution_count": 31,
     "metadata": {},
     "output_type": "execute_result"
    }
   ],
   "source": [
    "am.get_details()"
   ]
  },
  {
   "cell_type": "markdown",
   "id": "0a1b4256-1741-48c3-a71f-41cc84d6d354",
   "metadata": {},
   "source": [
    "Q5.What is method overriding in python? Write a python code to demonstrate method overriding."
   ]
  },
  {
   "cell_type": "markdown",
   "id": "f7f0a047-b4cd-4e93-bbd0-94f6e53ce0c0",
   "metadata": {},
   "source": [
    "method overriding is that concept of oops programming in which a class which is extending a parent class, overrides the method or class variables of a class,which means whenever we call the method or variable the output will be from child class.In this the methods have same name and same number of arguments"
   ]
  },
  {
   "cell_type": "code",
   "execution_count": 38,
   "id": "378da854-6a86-422d-8ce6-b03ff104f8d6",
   "metadata": {},
   "outputs": [],
   "source": [
    "class animal:\n",
    "    def leg(self):\n",
    "        return '4 legs'\n",
    "    "
   ]
  },
  {
   "cell_type": "code",
   "execution_count": 42,
   "id": "f97fa30a-04d2-488e-8b98-87802d9c4bc9",
   "metadata": {},
   "outputs": [],
   "source": [
    "class man(animal):\n",
    "    def leg(self):\n",
    "        return '2 legs'\n",
    "\n"
   ]
  },
  {
   "cell_type": "code",
   "execution_count": 43,
   "id": "abdcfd99-580d-4b70-a895-f460fe1a29d7",
   "metadata": {},
   "outputs": [],
   "source": [
    "class ant(man):\n",
    "    def leg(self):\n",
    "        return '6 legs'\n",
    "    "
   ]
  },
  {
   "cell_type": "code",
   "execution_count": 44,
   "id": "8f718981-ddb4-4c77-827f-a2fd7e5d36f4",
   "metadata": {},
   "outputs": [],
   "source": [
    "ant_obj=ant()\n",
    "man_obj=man()"
   ]
  },
  {
   "cell_type": "code",
   "execution_count": 45,
   "id": "17b6a7b9-1dd9-496a-9ec7-a7aece88f783",
   "metadata": {},
   "outputs": [
    {
     "data": {
      "text/plain": [
       "'6 legs'"
      ]
     },
     "execution_count": 45,
     "metadata": {},
     "output_type": "execute_result"
    }
   ],
   "source": [
    "ant_obj.leg()"
   ]
  },
  {
   "cell_type": "code",
   "execution_count": 46,
   "id": "b4268e65-bc83-4608-befb-5f13194b851a",
   "metadata": {},
   "outputs": [
    {
     "data": {
      "text/plain": [
       "'2 legs'"
      ]
     },
     "execution_count": 46,
     "metadata": {},
     "output_type": "execute_result"
    }
   ],
   "source": [
    "man_obj.leg()"
   ]
  },
  {
   "cell_type": "code",
   "execution_count": null,
   "id": "b6694996-86f2-43f2-bda1-2fd87429d471",
   "metadata": {},
   "outputs": [],
   "source": [
    "\n"
   ]
  }
 ],
 "metadata": {
  "kernelspec": {
   "display_name": "Python 3 (ipykernel)",
   "language": "python",
   "name": "python3"
  },
  "language_info": {
   "codemirror_mode": {
    "name": "ipython",
    "version": 3
   },
   "file_extension": ".py",
   "mimetype": "text/x-python",
   "name": "python",
   "nbconvert_exporter": "python",
   "pygments_lexer": "ipython3",
   "version": "3.10.8"
  }
 },
 "nbformat": 4,
 "nbformat_minor": 5
}
