{
 "cells": [
  {
   "cell_type": "markdown",
   "id": "79dd3b04-f6c1-49a9-9446-73d0494a4dd0",
   "metadata": {},
   "source": [
    "Q1. What are the three measures of central tendency?"
   ]
  },
  {
   "cell_type": "markdown",
   "id": "bd1e9904-60ae-425b-8a71-a38a4903943f",
   "metadata": {},
   "source": [
    "The three measures of central tendency are:\n",
    "\n",
    "Mean: The mean, also known as the average, is calculated by adding up all the values in a dataset and then dividing the sum by the number of values. It is a common measure of central tendency.\n",
    "\n",
    "Mean = (Sum of all values) / (Number of values)\n",
    "\n",
    "Median: The median is the middle value in a dataset when it is arranged in ascending or descending order. If there is an even number of observations, the median is the average of the two middle values. The median is less sensitive to extreme values (outliers) compared to the mean.\n",
    "\n",
    "Mode: The mode is the value that occurs most frequently in a dataset. A dataset may have one mode (unimodal), more than one mode (multimodal), or no mode at all. Unlike the mean and median, the mode is not necessarily unique."
   ]
  },
  {
   "cell_type": "markdown",
   "id": "45d4c2fc-737d-4d3a-b29a-c5d759f3f4c0",
   "metadata": {},
   "source": [
    "Q2. What is the difference between the mean, median, and mode? How are they used to measure the\n",
    "central tendency of a dataset?"
   ]
  },
  {
   "cell_type": "markdown",
   "id": "2f88bc6f-da6b-4731-a6ea-db163f4da332",
   "metadata": {},
   "source": [
    "The mean, median, and mode are all measures of central tendency, but they capture different aspects of a dataset.\n",
    "\n",
    "Mean:\n",
    "\n",
    "Definition: The mean is the average of all values in a dataset.\n",
    "\n",
    "Calculation: Mean = (Sum of all values) / (Number of values)\n",
    "\n",
    "Use: The mean provides a measure of central tendency by considering the sum of all values, making it sensitive to extreme values (outliers). It is commonly used when the distribution of data is approximately symmetric.\n",
    "\n",
    "Median:\n",
    "\n",
    "Definition: The median is the middle value when a dataset is arranged in ascending or descending order. If there is an even number of observations, the median is the average of the two middle values.\n",
    "\n",
    "Calculation: For an odd number of observations, the median is the middle value. For an even number of observations, the median is the average of the two middle values.\n",
    "\n",
    "Use: The median is less sensitive to extreme values than the mean, making it a robust measure of central tendency. It is particularly useful when dealing with skewed distributions or datasets with outliers.\n",
    "\n",
    "Mode:\n",
    "        \n",
    "Definition: The mode is the value that occurs most frequently in a dataset.\n",
    "\n",
    "Calculation: There can be one mode (unimodal), more than one mode (multimodal), or no mode at all.\n",
    "\n",
    "Use: The mode is useful when you want to identify the most common value in a dataset. It is particularly helpful for categorical data or when dealing with distributions where certain values occur more frequently."
   ]
  },
  {
   "cell_type": "markdown",
   "id": "2eb4135c-4783-4e12-b0e6-cd4b920c1482",
   "metadata": {},
   "source": [
    "Q3. Measure the three measures of central tendency for the given height data:\n",
    "[178,177,176,177,178.2,178,175,179,180,175,178.9,176.2,177,172.5,178,176.5]"
   ]
  },
  {
   "cell_type": "code",
   "execution_count": 1,
   "id": "1f10f7fc-eba2-4a31-b123-9173cdde0c27",
   "metadata": {},
   "outputs": [],
   "source": [
    "import numpy as np"
   ]
  },
  {
   "cell_type": "code",
   "execution_count": 2,
   "id": "47a72228-8a44-495f-b736-2303f461a71a",
   "metadata": {},
   "outputs": [],
   "source": [
    "a=[178,177,176,177,178.2,178,175,179,180,175,178.9,176.2,177,172.5,178,176.5]"
   ]
  },
  {
   "cell_type": "code",
   "execution_count": 3,
   "id": "0c10d96b-23fc-426a-be19-fa65fdb82d56",
   "metadata": {},
   "outputs": [],
   "source": [
    "mean=np.mean(a)"
   ]
  },
  {
   "cell_type": "code",
   "execution_count": 4,
   "id": "e2ff9e9c-ecfb-4e84-8f88-0020e6e0a965",
   "metadata": {},
   "outputs": [
    {
     "name": "stdout",
     "output_type": "stream",
     "text": [
      "177.01875\n"
     ]
    }
   ],
   "source": [
    "print(mean)"
   ]
  },
  {
   "cell_type": "code",
   "execution_count": 5,
   "id": "cca26e49-8ad5-4553-ad47-894bdb1335e6",
   "metadata": {},
   "outputs": [],
   "source": [
    "median=np.median(a)"
   ]
  },
  {
   "cell_type": "code",
   "execution_count": 6,
   "id": "878101b5-988b-4661-9b58-704bfe20f017",
   "metadata": {},
   "outputs": [
    {
     "name": "stdout",
     "output_type": "stream",
     "text": [
      "177.0\n"
     ]
    }
   ],
   "source": [
    "print(median)"
   ]
  },
  {
   "cell_type": "code",
   "execution_count": 9,
   "id": "da62b83e-2066-4086-9ffb-d2b2aa53347a",
   "metadata": {},
   "outputs": [
    {
     "name": "stderr",
     "output_type": "stream",
     "text": [
      "/tmp/ipykernel_77/3358853896.py:2: FutureWarning: Unlike other reduction functions (e.g. `skew`, `kurtosis`), the default behavior of `mode` typically preserves the axis it acts along. In SciPy 1.11.0, this behavior will change: the default value of `keepdims` will become False, the `axis` over which the statistic is taken will be eliminated, and the value None will no longer be accepted. Set `keepdims` to True or False to avoid this warning.\n",
      "  mode=stats.mode(a)\n"
     ]
    }
   ],
   "source": [
    "from scipy import stats\n",
    "mode=stats.mode(a)"
   ]
  },
  {
   "cell_type": "code",
   "execution_count": 10,
   "id": "cca50ab7-d7d7-47ab-8a55-b4734c7b849a",
   "metadata": {},
   "outputs": [
    {
     "name": "stdout",
     "output_type": "stream",
     "text": [
      "ModeResult(mode=array([177.]), count=array([3]))\n"
     ]
    }
   ],
   "source": [
    "print(mode)"
   ]
  },
  {
   "cell_type": "markdown",
   "id": "2b78e332-dc7c-4944-ba90-963fa804d231",
   "metadata": {},
   "source": [
    "Q4. Find the standard deviation for the given data:\n",
    "[178,177,176,177,178.2,178,175,179,180,175,178.9,176.2,177,172.5,178,176.5]"
   ]
  },
  {
   "cell_type": "code",
   "execution_count": 11,
   "id": "6d30be73-46bc-43bd-a71c-9e6319ef6617",
   "metadata": {},
   "outputs": [],
   "source": [
    "b=[178,177,176,177,178.2,178,175,179,180,175,178.9,176.2,177,172.5,178,176.5]"
   ]
  },
  {
   "cell_type": "code",
   "execution_count": 12,
   "id": "306adbee-b61e-46ee-96de-080e4daf202c",
   "metadata": {},
   "outputs": [],
   "source": [
    "sd=np.std(b)"
   ]
  },
  {
   "cell_type": "code",
   "execution_count": 13,
   "id": "c202f902-a9fc-4ead-91eb-07607ddb2807",
   "metadata": {},
   "outputs": [
    {
     "name": "stdout",
     "output_type": "stream",
     "text": [
      "1.7885814036548633\n"
     ]
    }
   ],
   "source": [
    "print(sd)"
   ]
  },
  {
   "cell_type": "markdown",
   "id": "ea7c8721-0f41-429d-9c8d-820d0c42f024",
   "metadata": {},
   "source": [
    "Q5. How are measures of dispersion such as range, variance, and standard deviation used to describe\n",
    "the spread of a dataset? Provide an example."
   ]
  },
  {
   "cell_type": "markdown",
   "id": "e5e1fbd7-48a0-4fc7-942b-d6127980b518",
   "metadata": {},
   "source": [
    "Measures of dispersion, such as range, variance, and standard deviation, are used to quantify the extent to which individual data points in a dataset deviate from the central tendency (mean, median, or mode). These measures provide insights into the spread or variability of the data. Here's a brief explanation of each measure and an example:\n",
    "\n",
    "Range:\n",
    "\n",
    "Definition: Range is the difference between the maximum and minimum values in a dataset.\n",
    "\n",
    "Use: It provides a simple measure of the overall spread of the data.\n",
    "\n",
    "\n",
    "\n",
    "Variance:\n",
    "\n",
    "Definition: Variance measures the average squared deviation of each data point from the mean.\n",
    "\n",
    "\n",
    "Use: Variance provides a more comprehensive understanding of the data spread but is in squared units, making it less intuitive.\n",
    "\n",
    "\n",
    "Standard Deviation:\n",
    "\n",
    "Definition: Standard deviation is the square root of the variance and is expressed in the same units as the original data.\n",
    "\n",
    "Calculation: Standard Deviation=VarianceStandard Deviation=Variance\n",
    "\n",
    "Use: It is a widely used and more interpretable measure of data spread.\n"
   ]
  },
  {
   "cell_type": "markdown",
   "id": "9e7cafce-0184-4136-ada7-b1ea694d7596",
   "metadata": {},
   "source": [
    "Examples:\n",
    "Suppose i have a data:[10, 15, 12, 18, 25]"
   ]
  },
  {
   "cell_type": "code",
   "execution_count": 17,
   "id": "3efc1c8e-c83d-4228-8ceb-64a89b97f231",
   "metadata": {},
   "outputs": [
    {
     "name": "stdout",
     "output_type": "stream",
     "text": [
      "15\n"
     ]
    }
   ],
   "source": [
    "#range\n",
    "c=[10, 15, 12, 18, 25]\n",
    "range_=max(c)-min(c)\n",
    "print(range_)"
   ]
  },
  {
   "cell_type": "code",
   "execution_count": 18,
   "id": "3c256ea1-5712-480c-9a4b-5d5374af068b",
   "metadata": {},
   "outputs": [
    {
     "name": "stdout",
     "output_type": "stream",
     "text": [
      "5.253570214625479\n"
     ]
    }
   ],
   "source": [
    "#std\n",
    "std=np.std(c)\n",
    "print(std)"
   ]
  },
  {
   "cell_type": "code",
   "execution_count": 19,
   "id": "37656bd9-05bb-42aa-85e7-860f2f6e816b",
   "metadata": {},
   "outputs": [
    {
     "name": "stdout",
     "output_type": "stream",
     "text": [
      "27.6\n"
     ]
    }
   ],
   "source": [
    "#variance\n",
    "var=np.var(c)\n",
    "print(var)"
   ]
  },
  {
   "cell_type": "markdown",
   "id": "1d1e18e5-d08a-499c-ac13-efee612c0487",
   "metadata": {},
   "source": [
    "Q6. What is a Venn diagram?"
   ]
  },
  {
   "cell_type": "markdown",
   "id": "8dc6a3e5-e251-49d0-9a6f-090e12dda873",
   "metadata": {},
   "source": [
    "A Venn diagram is a graphical representation that uses circles (or other shapes) to illustrate the relationships between sets. Each circle represents a set, and the overlap between circles shows the common elements shared by those sets. Venn diagrams are widely used to visually represent the intersections and differences between different groups or categories.\n",
    "\n",
    "Key components of a Venn diagram include:\n",
    "\n",
    "Sets: Each circle represents a set. The elements of the set are typically listed within or around the circle.\n",
    "\n",
    "Overlap: Overlapping regions between circles indicate the elements that are common to both sets. The degree of overlap represents the extent of the intersection between sets.\n",
    "\n",
    "Non-overlapping Regions: The portions of the circles that do not overlap represent the elements unique to each set.\n",
    "\n",
    "Universal Set: Sometimes, a rectangle or another shape is used to represent the universal set, which includes all the elements under consideration."
   ]
  },
  {
   "cell_type": "markdown",
   "id": "dbdc7498-b6b0-4e67-a826-e5b491328717",
   "metadata": {},
   "source": [
    "Q7. For the two given sets A = (2,3,4,5,6,7) & B = (0,2,6,8,10). Find:\n",
    "(i) A intersection B\n",
    "(ii) A ⋃ B"
   ]
  },
  {
   "cell_type": "code",
   "execution_count": 22,
   "id": "bd78a084-ea07-4ed3-b06d-eae74c9d425b",
   "metadata": {},
   "outputs": [
    {
     "name": "stdout",
     "output_type": "stream",
     "text": [
      "(i)  {2, 6}\n"
     ]
    }
   ],
   "source": [
    "A={2,3,4,5,6,7}\n",
    "B={0,2,6,8,10}\n",
    "intersect=A.intersection(B)\n",
    "print(\"(i) \",intersect)\n"
   ]
  },
  {
   "cell_type": "code",
   "execution_count": 23,
   "id": "d01c4a7c-af25-412e-a692-bcece743f20e",
   "metadata": {},
   "outputs": [
    {
     "name": "stdout",
     "output_type": "stream",
     "text": [
      "(ii)  {0, 2, 3, 4, 5, 6, 7, 8, 10}\n"
     ]
    }
   ],
   "source": [
    "union=A.union(B)\n",
    "print(\"(ii) \",union)"
   ]
  },
  {
   "cell_type": "markdown",
   "id": "ea6dc2f7-a9e9-457c-8ab4-ac4fd30b7f11",
   "metadata": {},
   "source": [
    "Q8. What do you understand about skewness in data?"
   ]
  },
  {
   "cell_type": "markdown",
   "id": "f9833099-a2ac-4a2f-aab3-e83103959d15",
   "metadata": {},
   "source": [
    "Skewness is a measure of the asymmetry or lack of symmetry in a probability distribution or dataset. In a symmetrical distribution, the left and right sides of the distribution are mirror images of each other. Skewness quantifies the extent and direction of skew (departure from horizontal symmetry) in a dataset.\n",
    "\n",
    "There are three types of skewness:\n",
    "\n",
    "Positive Skewness (Right Skewness):\n",
    "\n",
    "The right tail of the distribution is longer or fatter than the left.\n",
    "\n",
    "The majority of the data points are concentrated on the left side, and the distribution is stretched toward the right.\n",
    "\n",
    "he mean is typically greater than the median in a positively skewed distribution.\n",
    "\n",
    "Negative Skewness (Left Skewness):\n",
    "\n",
    "The left tail of the distribution is longer or fatter than the right.\n",
    "\n",
    "The majority of the data points are concentrated on the right side, and the distribution is stretched toward the left.\n",
    "\n",
    "The mean is typically less than the median in a negatively skewed distribution.\n",
    "\n",
    "    \n",
    "Zero Skewness:\n",
    "\n",
    "A distribution is considered symmetric if it has zero skewness.\n",
    "\n",
    "The left and right sides of the distribution are balanced, and there is no tendency for the data to be skewed to one side."
   ]
  },
  {
   "cell_type": "markdown",
   "id": "3be7d430-76fd-459a-82de-1487c3aa4a82",
   "metadata": {},
   "source": [
    "Q9. If a data is right skewed then what will be the position of median with respect to mean?"
   ]
  },
  {
   "cell_type": "markdown",
   "id": "668254b2-f350-47a7-8d4d-1bb8fd6e7f8c",
   "metadata": {},
   "source": [
    "In a right-skewed distribution (positively skewed), the tail on the right side of the distribution is longer or fatter than the left side. This means that there are some extreme values (outliers) on the right side that pull the mean in that direction. Consequently, the mean is typically greater than the median in a right-skewed distribution.\n",
    "\n",
    "Right-Skewed Distribution:Mean > Median"
   ]
  },
  {
   "cell_type": "markdown",
   "id": "7dd57482-16b1-43a8-b538-d93022452cac",
   "metadata": {},
   "source": [
    "Q10. Explain the difference between covariance and correlation. How are these measures used in\n",
    "statistical analysis?"
   ]
  },
  {
   "cell_type": "markdown",
   "id": "0d59d010-8aa5-4870-80eb-8bdfe9ee8449",
   "metadata": {},
   "source": [
    "Covariance:\n",
    "\n",
    "Definition: Covariance is a measure of how much two random variables change together. It assesses the degree to which the values of one variable change with respect to the values of another variable.\n",
    "\n",
    "    \n",
    "Interpretation:\n",
    "        Positive covariance indicates that the variables tend to increase or decrease together.\n",
    "        Negative covariance indicates that one variable tends to increase when the other decreases.\n",
    "        A covariance of 0 suggests no linear relationship.\n",
    "\n",
    "Correlation:\n",
    "\n",
    "Definition: Correlation is a standardized measure that represents the strength and direction of a linear relationship between two variables. It is the covariance normalized by the product of the standard deviations of the variables.\n",
    "\n",
    "\n",
    "\n",
    "Range: The correlation coefficient ranges from -1 to 1.\n",
    "        r=1 r=1 indicates a perfect positive linear relationship.\n",
    "        r=−1 r=−1 indicates a perfect negative linear relationship.\n",
    "        r=0 r=0 indicates no linear relationship.\n",
    "\n",
    "Usage in Statistical Analysis:\n",
    "\n",
    "Covariance:\n",
    "\n",
    "Covariance is used to understand the direction of the relationship between two variables.\n",
    "However, the magnitude of covariance is not standardized, making it difficult to compare relationships across different pairs of variables.\n",
    "\n",
    "Correlation:\n",
    "\n",
    "Correlation standardizes the measure, providing a scale-independent measure of the strength and direction of the linear relationship.\n",
    "\n",
    "It is widely used in statistical analysis, regression, and modeling to assess the strength and nature of associations between variables.\n",
    "The correlation coefficient makes it easier to compare relationships, as it is not influenced by the scale of the variables."
   ]
  },
  {
   "cell_type": "markdown",
   "id": "245e1e66-9c81-4a17-9a13-4a4407aedb7c",
   "metadata": {},
   "source": [
    "Q11. What is the formula for calculating the sample mean? Provide an example calculation for a\n",
    "dataset."
   ]
  },
  {
   "cell_type": "markdown",
   "id": "25350254-4ba3-43c3-a4ba-ae18636027f9",
   "metadata": {},
   "source": [
    "The sample mean, often denoted as x bar (pronounced \"x-bar\"), is the average of all the values in a sample. \n",
    "The formula is to add all the data points of the data set and divide it with the total number of data sets."
   ]
  },
  {
   "cell_type": "code",
   "execution_count": 24,
   "id": "256d740b-407c-4e66-ab11-06e75e9e9674",
   "metadata": {},
   "outputs": [],
   "source": [
    "d=[2,55,67,88,99,43]"
   ]
  },
  {
   "cell_type": "code",
   "execution_count": 25,
   "id": "5af2e444-be41-4458-807b-530ffaed586a",
   "metadata": {},
   "outputs": [
    {
     "name": "stdout",
     "output_type": "stream",
     "text": [
      "59.0\n"
     ]
    }
   ],
   "source": [
    "mean1=np.mean(d)\n",
    "print(mean1)"
   ]
  },
  {
   "cell_type": "markdown",
   "id": "2a06de7b-7679-4efb-b5f4-68ee7ee2e629",
   "metadata": {},
   "source": [
    "Q12. For a normal distribution data what is the relationship between its measure of central tendency?"
   ]
  },
  {
   "cell_type": "markdown",
   "id": "de1c5c63-9de4-4b67-ba51-eca47b232aec",
   "metadata": {},
   "source": [
    "In a normal distribution, the relationship between the three main measures of central tendency—mean, median, and mode—is as follows:\n",
    "\n",
    "Mean (μ):\n",
    "        In a normal distribution, the mean is located at the center of the distribution.\n",
    "        The mean is equal to the median in a perfectly symmetric normal distribution.\n",
    "\n",
    "Median:\n",
    "        The median of a normal distribution is also located at the center.\n",
    "        In a perfectly symmetric normal distribution, the median is equal to the mean.\n",
    "\n",
    "Mode:\n",
    "        The mode of a normal distribution is at the peak of the symmetric bell-shaped curve.\n",
    "        In a normal distribution, the mode is also equal to the mean and median."
   ]
  },
  {
   "cell_type": "markdown",
   "id": "6dc00ae0-bbbf-4b56-8ff1-963399f25c63",
   "metadata": {},
   "source": [
    "Q13. How is covariance different from correlation?"
   ]
  },
  {
   "cell_type": "markdown",
   "id": "734ac1fa-c3dc-4d9e-9261-b68687d3af2c",
   "metadata": {},
   "source": [
    "Covariance and correlation are both measures used to describe the relationship between two variables in statistics, but they differ in their scales and interpretation:\n",
    "\n",
    "Covariance:\n",
    "        Definition: Covariance measures the degree to which two variables change together. It indicates the direction (positive or negative) of the linear relationship between variables but does not provide a standardized measure.\n",
    "       \n",
    "\n",
    "Correlation:\n",
    "        Definition: Correlation is a standardized measure that represents the strength and direction of a linear relationship between two variables. It provides a scale-independent measure, making it easier to compare relationships across different pairs of variables.\n",
    "        \n",
    "Scale: The correlation coefficient (rr) ranges from -1 to 1, where -1 indicates a perfect negative linear relationship, 1 indicates a perfect positive linear relationship, and 0 indicates no linear relationship.\n",
    "\n",
    "Differences:\n",
    "\n",
    "Covariance is not standardized, so its magnitude is influenced by the scales of the variables.\n",
    "\n",
    "Correlation is standardized, making it easier to compare and interpret. It is not influenced by the scales of the variables.\n",
    "\n",
    "Covariance can take any real value, positive or negative, depending on the direction of the relationship.\n",
    "\n",
    "Correlation always ranges between -1 and 1, providing a clear indication of the strength and direction of the linear relationship.\n",
    "\n",
    "Covariance is more difficult to interpret in terms of the strength and direction of the relationship due to its scale dependence."
   ]
  },
  {
   "cell_type": "markdown",
   "id": "12e168dc-18d6-4d46-9e4c-12e691fd0ff4",
   "metadata": {},
   "source": [
    "Q14. How do outliers affect measures of central tendency and dispersion? Provide an example."
   ]
  },
  {
   "cell_type": "markdown",
   "id": "a9d71e0c-31ce-4410-ad06-2d95d62fe557",
   "metadata": {},
   "source": [
    "Outliers can have a significant impact on measures of central tendency (mean, median, mode) and measures of dispersion (range, variance, standard deviation). Their presence can distort these measures, making them less representative of the majority of the data."
   ]
  },
  {
   "cell_type": "markdown",
   "id": "0cd96a74-0807-4c3a-83b2-b48a4406d7c3",
   "metadata": {},
   "source": [
    "Measures of Central Tendency:\n",
    "\n",
    "Mean:\n",
    "    Impact: Outliers can disproportionately influence the mean, pulling it in the direction of the extreme values.\n",
    "\n",
    "Example: Consider the dataset [10, 15, 20, 25, 100]. The mean without the outlier is 18, but with the outlier, it becomes 34.\n",
    "\n",
    "Median:\n",
    "    Impact: The median is less affected by outliers than the mean. It only considers the middle value, making it more robust.\n",
    "    \n",
    "Example: In the same dataset [10, 15, 20, 25, 100], the median is 20, and it remains unchanged even with the outlier.\n",
    "\n",
    "Mode:\n",
    "    Impact: Outliers generally do not affect the mode since it represents the most frequently occurring value.\n",
    "\n",
    "Example: In the dataset [10, 15, 20, 25, 100], there is no mode as no value repeats.\n",
    "\n",
    "Measures of Dispersion:\n",
    "\n",
    "Range:\n",
    "    Impact: Outliers can significantly affect the range, especially if they are extreme values.\n",
    "        Example: In the dataset [10, 15, 20, 25, 100], the range without the outlier is 90, but with the outlier, it becomes 90 + (100 - 10) = 180.\n",
    "\n",
    "\n",
    "Variance and Standard Deviation:\n",
    "\n",
    "   Impact: Outliers can increase the spread of the data, leading to higher variance and standard deviation.\n",
    "\n",
    "Example: Using the dataset [10, 15, 20, 25, 100], the variance without the outlier is 375, but with the outlier, it becomes 1462.5."
   ]
  }
 ],
 "metadata": {
  "kernelspec": {
   "display_name": "Python 3 (ipykernel)",
   "language": "python",
   "name": "python3"
  },
  "language_info": {
   "codemirror_mode": {
    "name": "ipython",
    "version": 3
   },
   "file_extension": ".py",
   "mimetype": "text/x-python",
   "name": "python",
   "nbconvert_exporter": "python",
   "pygments_lexer": "ipython3",
   "version": "3.10.8"
  }
 },
 "nbformat": 4,
 "nbformat_minor": 5
}
