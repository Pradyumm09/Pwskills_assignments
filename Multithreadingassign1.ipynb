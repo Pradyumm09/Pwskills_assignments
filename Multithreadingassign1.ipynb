{
 "cells": [
  {
   "cell_type": "markdown",
   "id": "fa55b48b-75c6-491e-8144-14cd1affbf12",
   "metadata": {},
   "source": [
    "1)What is multithreading in python? Why is it used? Name the module used to handle threads in python"
   ]
  },
  {
   "cell_type": "markdown",
   "id": "c34ffbee-9e2c-47d2-ade7-bfb116b9200c",
   "metadata": {},
   "source": [
    "Multithreading in Python refers to the concurrent execution of multiple threads within a single Python process. Each thread runs independently and can perform its own tasks concurrently with other threads. Multithreading is used to achieve concurrency, which allows a program to perform multiple tasks simultaneously and take better advantage of multi-core processors, improving overall performance and responsiveness.\n",
    "\n",
    "Multithreading is used for various purposes, including:\n",
    "\n",
    "Parallelism: It allows you to perform multiple tasks simultaneously, taking advantage of the available CPU cores. This can significantly speed up CPU-bound operations.\n",
    "\n",
    "I/O Operations: Multithreading is useful when dealing with I/O-bound tasks, such as reading/writing files, making network requests, or handling user input. Threads can be used to perform these tasks concurrently without blocking the main program.\n",
    "\n",
    "Responsive User Interfaces: Multithreading can be used in graphical user interfaces (GUIs) to keep the user interface responsive while performing background tasks. For example, a GUI application can update its user interface in one thread while processing data in another.\n",
    "\n",
    "The primary module used to handle threads in Python is the threading module. It provides a high-level, object-oriented interface for creating and managing threads. You can create threads, start them, and coordinate their execution using functions and classes provided by the threading module. It simplifies thread management and synchronization, making it easier to work with multithreaded applications in Python."
   ]
  },
  {
   "cell_type": "code",
   "execution_count": 11,
   "id": "5ccabd08-0ee0-4433-9754-30685f741746",
   "metadata": {},
   "outputs": [
    {
     "name": "stdout",
     "output_type": "stream",
     "text": [
      "number 1\n",
      "number 2\n",
      "number 3\n",
      "number 4\n",
      "number 5\n",
      "alpha a\n",
      "alpha b\n",
      "alpha c\n",
      "alpha d\n",
      "alpha e\n"
     ]
    }
   ],
   "source": [
    "import threading\n",
    "\n",
    "def print_num():\n",
    "    for i in range(1,6):\n",
    "        print(f\"number {i}\")\n",
    "        \n",
    "def print_alp():\n",
    "    for alp in 'abcde':\n",
    "        print(f\"alpha {alp}\")\n",
    "        \n",
    "t1=threading.Thread(target=print_num)\n",
    "t2=threading.Thread(target=print_alp)\n",
    "t1.run()\n",
    "t2.run()\n"
   ]
  },
  {
   "cell_type": "markdown",
   "id": "533fbeff-5b98-478e-854b-bf53de09ddc0",
   "metadata": {},
   "source": [
    "2)Why threading module used? write the use of the following functions:\n",
    "i)active_count()\n",
    "ii)current_thread()\n",
    "iii)enumerate()"
   ]
  },
  {
   "cell_type": "markdown",
   "id": "8ab88aef-2ed6-40ec-adb5-dfecc01664fe",
   "metadata": {},
   "source": [
    "The threading module in Python is used for creating and managing threads in a multi-threaded program. It provides a high-level, object-oriented interface for working with threads."
   ]
  },
  {
   "cell_type": "markdown",
   "id": "76ae4605-0280-4fc0-9407-628dd1a325c7",
   "metadata": {},
   "source": [
    "i)active_count(): This function is used to determine the number of Thread objects currently alive. It returns an integer representing the current count of active threads in the program."
   ]
  },
  {
   "cell_type": "code",
   "execution_count": 15,
   "id": "5bda3170-d627-409b-901a-d5e1e43e946e",
   "metadata": {},
   "outputs": [
    {
     "name": "stdout",
     "output_type": "stream",
     "text": [
      "Number of active threads: 8\n"
     ]
    }
   ],
   "source": [
    "import threading\n",
    "\n",
    "def my_function():\n",
    "    pass\n",
    "\n",
    "t1 = threading.Thread(target=my_function)\n",
    "t2 = threading.Thread(target=my_function)\n",
    "t1.start()\n",
    "t2.start()\n",
    "\n",
    "active_threads = threading.active_count()\n",
    "print(f\"Number of active threads: {active_threads}\")\n"
   ]
  },
  {
   "cell_type": "markdown",
   "id": "63fd26f5-dea6-4bf6-828b-a1e916f93650",
   "metadata": {},
   "source": [
    "ii)current_thread():This function returns the current Thread object corresponding to the calling thread. It allows you to obtain information about the thread that is executing the current code."
   ]
  },
  {
   "cell_type": "code",
   "execution_count": 18,
   "id": "40d268ba-b8e9-42fb-b2c0-868b6eb48a2b",
   "metadata": {},
   "outputs": [
    {
     "name": "stdout",
     "output_type": "stream",
     "text": [
      "Thread name: Thread-35 (my_function)\n"
     ]
    }
   ],
   "source": [
    "import threading\n",
    "\n",
    "def my_function():\n",
    "    current_thread = threading.current_thread()\n",
    "    print(f\"Thread name: {current_thread.name}\")\n",
    "\n",
    "t = threading.Thread(target=my_function)\n",
    "t.start()\n",
    "t.join()\n"
   ]
  },
  {
   "cell_type": "markdown",
   "id": "5e634c4b-0af0-4306-a609-53033040bf73",
   "metadata": {},
   "source": [
    "iii)enumerate(): The enumerate() function returns a list of all Thread objects currently alive. It is useful for obtaining a list of all active threads in the program."
   ]
  },
  {
   "cell_type": "code",
   "execution_count": 21,
   "id": "092f7f08-e696-4b99-a98f-5695d2d5ad54",
   "metadata": {},
   "outputs": [
    {
     "name": "stdout",
     "output_type": "stream",
     "text": [
      "Thread name: MainThread\n",
      "Thread name: IOPub\n",
      "Thread name: Heartbeat\n",
      "Thread name: Thread-3 (_watch_pipe_fd)\n",
      "Thread name: Thread-4 (_watch_pipe_fd)\n",
      "Thread name: Control\n",
      "Thread name: IPythonHistorySavingThread\n",
      "Thread name: Thread-2\n"
     ]
    }
   ],
   "source": [
    "import threading\n",
    "\n",
    "def my_function():\n",
    "    pass\n",
    "\n",
    "t1 = threading.Thread(target=my_function)\n",
    "t2 = threading.Thread(target=my_function)\n",
    "t1.start()\n",
    "t2.start()\n",
    "\n",
    "active_threads = threading.enumerate()\n",
    "for thread in active_threads:\n",
    "    print(f\"Thread name: {thread.name}\")\n",
    "\n",
    "t1.join()\n",
    "t2.join()\n"
   ]
  },
  {
   "cell_type": "markdown",
   "id": "027dbc4b-7bc8-41dd-be6a-cb4bb4ff28d5",
   "metadata": {},
   "source": [
    "3)Explain the following functions:\n",
    "i)run()\n",
    "ii)start()\n",
    "iii)join()\n",
    "iv)isAlive()"
   ]
  },
  {
   "cell_type": "markdown",
   "id": "e656ca9b-e27b-4e75-9fc7-5bb74b13efa2",
   "metadata": {},
   "source": [
    "i) run(): The run() method is not directly called by the programmer. Instead, it is invoked automatically when you start a thread using the start() method. You should override the run() method in your custom thread class to define the code that the thread should execute when it starts running. This method contains the actual functionality that the thread will perform."
   ]
  },
  {
   "cell_type": "code",
   "execution_count": 22,
   "id": "6cb7eee9-af5c-4e5b-84f1-2468e2cd4b50",
   "metadata": {},
   "outputs": [
    {
     "name": "stdout",
     "output_type": "stream",
     "text": [
      "Thread is running\n"
     ]
    }
   ],
   "source": [
    "import threading\n",
    "\n",
    "class MyThread(threading.Thread):\n",
    "    def run(self):\n",
    "        print(\"Thread is running\")\n",
    "\n",
    "t = MyThread()\n",
    "t.start()  \n"
   ]
  },
  {
   "cell_type": "markdown",
   "id": "3f4d7f4f-3a5b-4555-953c-a5db68cd911f",
   "metadata": {},
   "source": [
    "ii)start(): The start() method is used to initiate the execution of a thread. When you call this method, Python will create a new thread and invoke the run() method of the thread's target function or callable object. It allows you to run multiple threads concurrently."
   ]
  },
  {
   "cell_type": "code",
   "execution_count": 23,
   "id": "06cd8de6-4bbe-4f65-b3d4-cb8efce75ca6",
   "metadata": {},
   "outputs": [
    {
     "name": "stdout",
     "output_type": "stream",
     "text": [
      "Thread is running\n"
     ]
    }
   ],
   "source": [
    "import threading\n",
    "\n",
    "def my_function():\n",
    "    print(\"Thread is running\")\n",
    "t = threading.Thread(target=my_function)\n",
    "t.start()  \n"
   ]
  },
  {
   "cell_type": "markdown",
   "id": "668b5bf0-a640-4648-a84b-f2dcda81a5e9",
   "metadata": {},
   "source": [
    "iii)join(): The join() method is used to wait for a thread to complete its execution before moving on to the next part of your program. It is typically called on a thread object, and the calling thread (usually the main thread) will pause and wait for the specified thread to finish."
   ]
  },
  {
   "cell_type": "code",
   "execution_count": 24,
   "id": "e3c2da8d-9589-4087-b2d9-4440cf39c320",
   "metadata": {},
   "outputs": [
    {
     "name": "stdout",
     "output_type": "stream",
     "text": [
      "Thread is running\n"
     ]
    }
   ],
   "source": [
    "import threading\n",
    "\n",
    "def my_function():\n",
    "    print(\"Thread is running\")\n",
    "\n",
    "t = threading.Thread(target=my_function)\n",
    "t.start()  \n",
    "t.join()\n"
   ]
  },
  {
   "cell_type": "markdown",
   "id": "8c430857-1e3e-4c86-a142-46bd87687199",
   "metadata": {},
   "source": [
    "iv) isAlive(): The isAlive() method is used to check if a thread is currently running. It returns True if the thread is active and has not finished its execution, and False otherwise."
   ]
  },
  {
   "cell_type": "code",
   "execution_count": 28,
   "id": "c4cc3bdd-7c4c-4051-8535-549659c64650",
   "metadata": {},
   "outputs": [
    {
     "name": "stdout",
     "output_type": "stream",
     "text": [
      "Thread is still running\n"
     ]
    }
   ],
   "source": [
    "import threading\n",
    "import time\n",
    "\n",
    "def my_function():\n",
    "    time.sleep(2)\n",
    "\n",
    "t = threading.Thread(target=my_function)\n",
    "t.start()  \n",
    "\n",
    "if t.is_alive():\n",
    "    print(\"Thread is still running\")\n",
    "else:\n",
    "    print(\"Thread has finished\")\n",
    "\n",
    "t.join()\n"
   ]
  },
  {
   "cell_type": "markdown",
   "id": "90f9974b-41d0-4dbc-b3e3-b0eec750c075",
   "metadata": {},
   "source": [
    "4)Write a python program to create two threads. Thread one must print the list of squares and thread\n",
    "two must print the list of cubes\n"
   ]
  },
  {
   "cell_type": "code",
   "execution_count": 31,
   "id": "e1c31fda-f16f-459f-a0a3-bb637dd79845",
   "metadata": {},
   "outputs": [
    {
     "name": "stdout",
     "output_type": "stream",
     "text": [
      "square of 1 is 1\n",
      "square of 2 is 4\n",
      "square of 3 is 9\n",
      "square of 4 is 16\n",
      "square of 5 is 25\n",
      "cube of 1 is 1\n",
      "cube of 2 is 8\n",
      "cube of 3 is 27\n",
      "cube of 4 is 64\n",
      "cube of 5 is 125\n"
     ]
    }
   ],
   "source": [
    "import threading\n",
    "\n",
    "\n",
    "def squares():\n",
    "    for i in range(1,6):\n",
    "        print(f\"square of {i} is {i**2}\")\n",
    "        \n",
    "def cubes():\n",
    "    for j in range(1,6):\n",
    "        print(f\"cube of {j} is {j*j*j}\")\n",
    "        \n",
    "t1=threading.Thread(target=squares)\n",
    "t2=threading.Thread(target=cubes)\n",
    "\n",
    "t1.start()\n",
    "t2.start()\n",
    "\n",
    "\n",
    "t1.join()\n",
    "t2.join()"
   ]
  },
  {
   "cell_type": "markdown",
   "id": "b029ad78-0d3e-4bb0-a86e-813aaf4318d4",
   "metadata": {},
   "source": [
    "5)State advantages and disadvantages of multithreading"
   ]
  },
  {
   "cell_type": "markdown",
   "id": "bbf078d3-74a2-4ed0-b513-29bceefee1d8",
   "metadata": {},
   "source": [
    "Advantages of Multithreading:\n",
    "\n",
    "Concurrency: Multithreading allows multiple tasks to run concurrently within a single process, enabling better utilization of available CPU cores and potentially improving overall performance.\n",
    "\n",
    "Responsiveness: Multithreading can enhance the responsiveness of applications, especially in cases where tasks like user interface updates need to happen independently of other computations.\n",
    "\n",
    "Parallelism: Multithreading is suitable for parallelizing CPU-bound tasks, such as mathematical calculations, which can lead to significant speed improvements on multi-core processors.\n",
    "\n",
    "Resource Sharing: Threads within the same process share the same memory space, making it easier to share data and resources among them. This can simplify communication and coordination between threads.\n",
    "\n",
    "Efficient I/O Handling: Multithreading is useful for handling I/O-bound tasks, such as file reading and network communication, where one thread can wait for data while other threads continue processing.\n"
   ]
  },
  {
   "cell_type": "markdown",
   "id": "a87fc59f-2148-4bf8-983e-2d2ed977cebb",
   "metadata": {},
   "source": [
    "Disadvantages of Multithreading:\n",
    "\n",
    "Complexity: Writing multithreaded code can be complex and error-prone. It introduces issues like race conditions, deadlocks, and data synchronization problems that require careful handling.\n",
    "\n",
    "Debugging: Debugging multithreaded applications is more challenging than single-threaded ones, as issues may be non-deterministic and hard to reproduce.\n",
    "\n",
    "Resource Consumption: Each thread consumes system resources (e.g., memory) for its stack and overhead for thread management. Creating too many threads can lead to resource exhaustion and decreased performance.\n",
    "\n",
    "Synchronization Overhead: To ensure data integrity, threads often need to be synchronized through locks and other mechanisms, which can introduce performance overhead and potential deadlocks.\n",
    "\n",
    "Platform Dependency: Multithreading behavior can be platform-dependent, making it necessary to consider differences in thread handling across different operating systems.\n",
    "\n",
    "Compatibility Issues: Not all Python libraries or modules are thread-safe, which means that using multithreading with some third-party libraries can lead to unexpected behavior.\n"
   ]
  },
  {
   "cell_type": "markdown",
   "id": "cc0e8c27-6648-4ae7-934d-0f6387354968",
   "metadata": {},
   "source": [
    "6)Explain deadlocks and race conditions."
   ]
  },
  {
   "cell_type": "markdown",
   "id": "14e257a3-bfa5-417c-ae41-d1d2116f05ff",
   "metadata": {},
   "source": [
    "Deadlock is a situation in which two or more threads or processes are unable to proceed because each is waiting for the other to release a resource. This results in a circular dependency where none of the threads can make progress. Deadlocks often occur in systems with multiple resources and threads that require exclusive access to these resources.\n",
    "\n",
    "Common conditions for a deadlock to occur, known as the \"Four Coffin Conditions,\" are as follows:\n",
    "\n",
    "Mutual Exclusion: At least one resource must be held in a mutually exclusive mode, meaning only one thread can use it at a time.\n",
    "\n",
    "Hold and Wait: A thread must hold at least one resource and be waiting for additional resources that are currently held by other threads.\n",
    "\n",
    "No Preemption: Resources cannot be forcibly taken away from a thread; they can only be released voluntarily.\n",
    "\n",
    "Circular Wait: There must be a circular chain of two or more threads, each waiting for a resource held by the next thread in the chain."
   ]
  },
  {
   "cell_type": "markdown",
   "id": "3ead32d9-0275-476e-8481-65cfe2b4f06f",
   "metadata": {},
   "source": [
    "A race condition occurs when the behavior of a program depends on the relative timing or order of execution of multiple threads or processes. It arises when multiple threads access shared resources concurrently without proper synchronization, and the outcome becomes unpredictable or incorrect.\n",
    "\n",
    "Race conditions can lead to various issues, including data corruption, crashes, or unintended results. Common examples of race conditions include:\n",
    "\n",
    "Read-Modify-Write: When multiple threads read a shared resource, modify it, and write it back concurrently without proper synchronization, the final state of the resource can be unpredictable.\n",
    "\n",
    "Resource Allocation: When multiple threads compete for a limited resource, such as allocating memory or file access, race conditions can lead to conflicts and incorrect behavior."
   ]
  }
 ],
 "metadata": {
  "kernelspec": {
   "display_name": "Python 3 (ipykernel)",
   "language": "python",
   "name": "python3"
  },
  "language_info": {
   "codemirror_mode": {
    "name": "ipython",
    "version": 3
   },
   "file_extension": ".py",
   "mimetype": "text/x-python",
   "name": "python",
   "nbconvert_exporter": "python",
   "pygments_lexer": "ipython3",
   "version": "3.10.8"
  }
 },
 "nbformat": 4,
 "nbformat_minor": 5
}
