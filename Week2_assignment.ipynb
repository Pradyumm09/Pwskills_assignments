{
 "cells": [
  {
   "cell_type": "markdown",
   "id": "5ed0362e-24ec-48b1-8ca9-7ca6da28d077",
   "metadata": {},
   "source": [
    "Q1. How do you comment code in Python? What are the different types of comments?"
   ]
  },
  {
   "cell_type": "markdown",
   "id": "0b5e5728-622c-4181-800e-62c61855afc5",
   "metadata": {},
   "source": [
    "We can comment a code in python by just adding # before the statement we want to execute.\n",
    "The two types of comments are single line comment and multiline line comments.We can comment a single block by adding # before for example: #print(hello world) while in multiline comments we do it by keeping the statements inside triple single or double quotes.For example: \n",
    "\"\"\" Hello\n",
    "World\n",
    "Hiii\"\"\""
   ]
  },
  {
   "cell_type": "markdown",
   "id": "1630fc8b-a90c-4d59-8391-023f2cfe6e30",
   "metadata": {},
   "source": [
    "Q2. What are variables in Python? How do you declare and assign values to variables?"
   ]
  },
  {
   "cell_type": "markdown",
   "id": "2260ed05-5734-4888-add9-997e88720dbd",
   "metadata": {},
   "source": [
    "Variables are symbolic names or reference to an object. In python we just have to write a variable name following the given rules:\n",
    "A variable name must start with a letter or the underscore character.\n",
    "A variable name cannot start with a number.\n",
    "A variable name can only contain alpha-numeric characters and underscores.\n",
    "Variable names are case-sensitive.\n",
    "\n",
    "\n",
    "To assign values we use the assignment operator(=) for example\n",
    "a=10\n",
    "b='hey'\n",
    "The python interpreter is so powerful that it accepts the value and decides itself that which data type it is ,while in java or c we need to declare  the variable\"s type."
   ]
  },
  {
   "cell_type": "markdown",
   "id": "bf7fc49f-2925-4f1d-9ce7-afc1e396ac5a",
   "metadata": {},
   "source": [
    "Q3.How do you convert one data type to another in Python?"
   ]
  },
  {
   "cell_type": "markdown",
   "id": "dff51d3c-8d5c-4215-a0eb-9ae1e7cdef35",
   "metadata": {},
   "source": [
    "To convert a data type into other we need a casting operator() we can pass the datatype in this operator it will convert it to desired data type"
   ]
  },
  {
   "cell_type": "code",
   "execution_count": 4,
   "id": "d5344e65-3079-4eaf-86c4-62b5bc5da492",
   "metadata": {},
   "outputs": [
    {
     "name": "stdout",
     "output_type": "stream",
     "text": [
      "10\n"
     ]
    },
    {
     "data": {
      "text/plain": [
       "str"
      ]
     },
     "execution_count": 4,
     "metadata": {},
     "output_type": "execute_result"
    }
   ],
   "source": [
    "a=10\n",
    "b=str(a)\n",
    "print(b)\n",
    "type(b)"
   ]
  },
  {
   "cell_type": "markdown",
   "id": "359805ca-c96e-4a27-936a-1e01b7330805",
   "metadata": {},
   "source": [
    "Q4.How do you write and execute a Python script from the command line?"
   ]
  },
  {
   "cell_type": "markdown",
   "id": "a1591d9b-25c7-4a94-961e-c849c038566c",
   "metadata": {},
   "source": [
    "The most basic and easy way to run a Python script is by using the python command. You need to open a command line and type the word python followed by the path to your script file like this: python first_script.py Hello World! Then you hit the ENTER button from the keyboard."
   ]
  },
  {
   "cell_type": "markdown",
   "id": "3b56b4e0-6972-4472-b6af-b3bfc679bb3c",
   "metadata": {},
   "source": [
    "Q5. Given a list my_list = [1, 2, 3, 4, 5], write the code to slice the list and obtain the sub-list [2, 3]."
   ]
  },
  {
   "cell_type": "code",
   "execution_count": 5,
   "id": "e49a2bdc-754b-466f-bbb9-1e3719b66032",
   "metadata": {},
   "outputs": [
    {
     "name": "stdout",
     "output_type": "stream",
     "text": [
      "[2, 3]\n"
     ]
    }
   ],
   "source": [
    "my_list=[1,2,3,4,5]\n",
    "print(my_list[1:3])"
   ]
  },
  {
   "cell_type": "markdown",
   "id": "f03402d2-5b4d-478d-8f2d-2afb7d536c05",
   "metadata": {},
   "source": [
    "Q6.What is a complex number in mathematics, and how is it represented in Python?"
   ]
  },
  {
   "cell_type": "markdown",
   "id": "0bc0e4e7-f4b2-4672-8bef-74252d787296",
   "metadata": {},
   "source": [
    " Complex numbers are the numbers that are expressed in the form of a+ib where, a,b are real numbers and 'i' is an imaginary number called “iota”. The value of i = (√-1). In python it is represented as 3+2j where  3 is the real part and 2j is imaginary."
   ]
  },
  {
   "cell_type": "code",
   "execution_count": 12,
   "id": "37fcccf9-b494-4cbc-a0cf-6ad7b2199aeb",
   "metadata": {},
   "outputs": [
    {
     "data": {
      "text/plain": [
       "complex"
      ]
     },
     "execution_count": 12,
     "metadata": {},
     "output_type": "execute_result"
    }
   ],
   "source": [
    "k=1+2j\n",
    "type(k)"
   ]
  },
  {
   "cell_type": "markdown",
   "id": "729280b9-ab88-4d0e-b898-2e3e2ff34446",
   "metadata": {},
   "source": [
    "Q7.What is the correct way to declare a variable named age and assign the value 25 to it?"
   ]
  },
  {
   "cell_type": "code",
   "execution_count": 14,
   "id": "1a8eb855-6976-4a26-b278-7fcc2584b033",
   "metadata": {},
   "outputs": [],
   "source": [
    "age=25"
   ]
  },
  {
   "cell_type": "code",
   "execution_count": 15,
   "id": "0254f119-3505-4762-8df9-e78b6f843287",
   "metadata": {},
   "outputs": [
    {
     "name": "stdout",
     "output_type": "stream",
     "text": [
      "25\n"
     ]
    }
   ],
   "source": [
    "print(age)"
   ]
  },
  {
   "cell_type": "markdown",
   "id": "ce051941-cddd-46e5-8b0e-54bc7d0c08f5",
   "metadata": {},
   "source": [
    "Q8. Declare a variable named price and assign the value 9.99 to it. What data type does this variable\n",
    "belong to?"
   ]
  },
  {
   "cell_type": "code",
   "execution_count": 16,
   "id": "a14b9e5f-3aaf-4b7f-a60f-76e3cd0de249",
   "metadata": {},
   "outputs": [
    {
     "data": {
      "text/plain": [
       "float"
      ]
     },
     "execution_count": 16,
     "metadata": {},
     "output_type": "execute_result"
    }
   ],
   "source": [
    "price=9.99\n",
    "type(price)"
   ]
  },
  {
   "cell_type": "markdown",
   "id": "0235debe-54d9-406e-b62e-50653bb52007",
   "metadata": {},
   "source": [
    "Q9. Create a variable named name and assign your full name to it as a string. How would you print the\n",
    "value of this variable?"
   ]
  },
  {
   "cell_type": "code",
   "execution_count": 17,
   "id": "4f38e489-8e7e-4c22-be08-f15f3eed4010",
   "metadata": {},
   "outputs": [
    {
     "name": "stdout",
     "output_type": "stream",
     "text": [
      "Amar Kumar Pathak\n"
     ]
    }
   ],
   "source": [
    "name='Amar Kumar Pathak'\n",
    "print(name)"
   ]
  },
  {
   "cell_type": "markdown",
   "id": "cd9cbe58-d2cb-408c-ba1a-0cf61cb0ae0f",
   "metadata": {},
   "source": [
    "Q10)Given the string \"Hello, World!\", extract the substring \"World\"."
   ]
  },
  {
   "cell_type": "code",
   "execution_count": 20,
   "id": "858fc910-6d81-4582-9155-0930e428d48a",
   "metadata": {},
   "outputs": [
    {
     "name": "stdout",
     "output_type": "stream",
     "text": [
      "World\n"
     ]
    }
   ],
   "source": [
    "s5='Hello,World!'\n",
    "print(s5[6:11])"
   ]
  },
  {
   "cell_type": "markdown",
   "id": "9278e777-5319-461f-8159-d69eaa750ef9",
   "metadata": {},
   "source": [
    "Q11)Create a variable named \"is_student\" and assign it a boolean value indicating whether you are\n",
    "currently a student or not."
   ]
  },
  {
   "cell_type": "code",
   "execution_count": 21,
   "id": "8d9627f1-f62a-4726-bc20-be05563715a5",
   "metadata": {},
   "outputs": [
    {
     "name": "stdout",
     "output_type": "stream",
     "text": [
      "True\n"
     ]
    }
   ],
   "source": [
    "is_student=True\n",
    "print(is_student)"
   ]
  },
  {
   "cell_type": "code",
   "execution_count": null,
   "id": "a3a119a7-4ddd-4824-bbe0-c78f63087982",
   "metadata": {},
   "outputs": [],
   "source": []
  }
 ],
 "metadata": {
  "kernelspec": {
   "display_name": "Python 3 (ipykernel)",
   "language": "python",
   "name": "python3"
  },
  "language_info": {
   "codemirror_mode": {
    "name": "ipython",
    "version": 3
   },
   "file_extension": ".py",
   "mimetype": "text/x-python",
   "name": "python",
   "nbconvert_exporter": "python",
   "pygments_lexer": "ipython3",
   "version": "3.10.8"
  }
 },
 "nbformat": 4,
 "nbformat_minor": 5
}
