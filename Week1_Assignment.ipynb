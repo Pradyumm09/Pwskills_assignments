{
 "cells": [
  {
   "cell_type": "raw",
   "id": "f446936d-d2eb-4790-a03c-6b5de4c0c8a7",
   "metadata": {},
   "source": [
    "Q1. Create one variable containing following type of data:\n",
    "(i) string\n",
    "(ii) list\n",
    "(iii) float\n",
    "(iv) tuple\n",
    "\n",
    "Answer)"
   ]
  },
  {
   "cell_type": "code",
   "execution_count": 1,
   "id": "09b8569d-2d79-4a15-83b6-806c68f49558",
   "metadata": {},
   "outputs": [],
   "source": [
    "a=\"Amar\"\n",
    "b=[2,3,4,2+3j,\"amar\",2.3]\n",
    "c=3.9\n",
    "d=(2,3,4)"
   ]
  },
  {
   "cell_type": "markdown",
   "id": "1db138e3-17fe-40ad-b453-b202a1a723c3",
   "metadata": {},
   "source": [
    "Q2. Given are some following variables containing data:\n",
    "(i) var1 = ‘ ‘\n",
    "(ii) var2 = ‘[ DS , ML , Python]’\n",
    "(iii) var3 = [ ‘DS’ , ’ML’ , ‘Python’ ]\n",
    "(iv) var4 = 1\n",
    "\n",
    "What will be the data type of the above given variable.\n",
    "\n",
    "Answer)"
   ]
  },
  {
   "cell_type": "code",
   "execution_count": 6,
   "id": "a0efb692-b33d-4b09-b804-48c5f30f855e",
   "metadata": {},
   "outputs": [
    {
     "data": {
      "text/plain": [
       "str"
      ]
     },
     "execution_count": 6,
     "metadata": {},
     "output_type": "execute_result"
    }
   ],
   "source": [
    "var1=' '\n",
    "var2='[DS,ML,Python]'\n",
    "var3=['DS','ML','Python']\n",
    "var4=1.\n",
    "type(var1)\n"
   ]
  },
  {
   "cell_type": "code",
   "execution_count": 7,
   "id": "a753aeef-44cc-42e4-9654-c1bbab127491",
   "metadata": {},
   "outputs": [
    {
     "data": {
      "text/plain": [
       "str"
      ]
     },
     "execution_count": 7,
     "metadata": {},
     "output_type": "execute_result"
    }
   ],
   "source": [
    "type(var2)"
   ]
  },
  {
   "cell_type": "code",
   "execution_count": 8,
   "id": "9260e6ce-6f2f-4c4c-8b46-6fb68483b0e8",
   "metadata": {},
   "outputs": [
    {
     "data": {
      "text/plain": [
       "list"
      ]
     },
     "execution_count": 8,
     "metadata": {},
     "output_type": "execute_result"
    }
   ],
   "source": [
    "type(var3)"
   ]
  },
  {
   "cell_type": "code",
   "execution_count": 9,
   "id": "15aa85e3-9851-4e51-abd9-e1b78b379a48",
   "metadata": {},
   "outputs": [
    {
     "data": {
      "text/plain": [
       "float"
      ]
     },
     "execution_count": 9,
     "metadata": {},
     "output_type": "execute_result"
    }
   ],
   "source": [
    "type(var4)"
   ]
  },
  {
   "cell_type": "markdown",
   "id": "7e8f460f-2614-4b55-bc17-5c47168aea11",
   "metadata": {},
   "source": [
    "Q3)Explain the use of the following operators using an example:\n",
    "(i) /\n",
    "(ii) %\n",
    "(iii) //\n",
    "(iv) **\n",
    "Answer)"
   ]
  },
  {
   "cell_type": "code",
   "execution_count": 10,
   "id": "4815a1f8-51fc-4730-ac0c-a42bd50f2591",
   "metadata": {},
   "outputs": [
    {
     "name": "stdout",
     "output_type": "stream",
     "text": [
      "2.5\n",
      "1\n",
      "2\n",
      "25\n"
     ]
    }
   ],
   "source": [
    "a=5\n",
    "b=2\n",
    "print(a/b)\n",
    "print(a%b)\n",
    "print(a//b)\n",
    "print(a**b)"
   ]
  },
  {
   "cell_type": "markdown",
   "id": "72aace48-f316-4ae3-9a02-50c3096bdeab",
   "metadata": {},
   "source": [
    "Q4)Create a list of length 10 of your choice containing multiple types of data. Using for loop print the\n",
    "element and its data type.\n",
    "\n",
    "Answer)"
   ]
  },
  {
   "cell_type": "code",
   "execution_count": 11,
   "id": "a795f26d-7263-41de-a65f-7ad8876509b8",
   "metadata": {},
   "outputs": [],
   "source": [
    "l=[1,2,3,4,['a','b'],'a',2+3j,2.5,(1,2,3),{2,3}]"
   ]
  },
  {
   "cell_type": "code",
   "execution_count": 14,
   "id": "2a2c8030-4cae-4e5b-b6f5-a0c390c26880",
   "metadata": {},
   "outputs": [
    {
     "name": "stdout",
     "output_type": "stream",
     "text": [
      "1\n",
      "2\n",
      "3\n",
      "4\n",
      "['a', 'b']\n",
      "a\n",
      "(2+3j)\n",
      "2.5\n",
      "(1, 2, 3)\n",
      "{2, 3}\n"
     ]
    }
   ],
   "source": [
    "for i in range(len(l)):\n",
    "    print(l[i])"
   ]
  },
  {
   "cell_type": "markdown",
   "id": "f1e4d738-1c9a-460b-9f9d-cfb822a134d0",
   "metadata": {},
   "source": [
    "Q5)Using a while loop, verify if the number A is purely divisible by number B and if so then how many\n",
    "times it can be divisible.\n",
    "Answer)"
   ]
  },
  {
   "cell_type": "code",
   "execution_count": 1,
   "id": "f7891909-8d25-4c02-91d5-a25379cd217e",
   "metadata": {},
   "outputs": [
    {
     "name": "stdin",
     "output_type": "stream",
     "text": [
      "Enter a number 4\n",
      "Enter another number 2\n"
     ]
    },
    {
     "name": "stdout",
     "output_type": "stream",
     "text": [
      "1 can be divided by 2 2 times.\n"
     ]
    }
   ],
   "source": [
    "a=int(input(\"Enter a number\"))\n",
    "b=int(input(\"Enter another number\"))\n",
    "count=0\n",
    "while a%b==0:\n",
    "    a=a//b\n",
    "    count+=1\n",
    "if count>0:\n",
    "    print(f\"{a} can be divided by {b} {count} times.\")\n",
    "else:\n",
    "    print(f\"{a} cannot be divided by {b}\")"
   ]
  },
  {
   "cell_type": "markdown",
   "id": "cb6991d4-3956-425e-a8cb-b9eb90df5485",
   "metadata": {},
   "source": [
    "Q6) Create a list containing 25 int type data. Using for loop and if-else condition print if the element is\n",
    "divisible by 3 or not.\n",
    "Answer)"
   ]
  },
  {
   "cell_type": "code",
   "execution_count": 7,
   "id": "6770e2e3-9c26-4ca3-af07-c84a52ac7464",
   "metadata": {},
   "outputs": [
    {
     "name": "stdout",
     "output_type": "stream",
     "text": [
      "1 is not divisble by 3\n",
      "2 is not divisble by 3\n",
      "3 is divisble by 3\n",
      "4 is not divisble by 3\n",
      "5 is not divisble by 3\n",
      "6 is divisble by 3\n",
      "7 is not divisble by 3\n",
      "8 is not divisble by 3\n",
      "9 is divisble by 3\n",
      "10 is not divisble by 3\n",
      "11 is not divisble by 3\n",
      "12 is divisble by 3\n",
      "13 is not divisble by 3\n",
      "14 is not divisble by 3\n",
      "15 is divisble by 3\n",
      "16 is not divisble by 3\n",
      "17 is not divisble by 3\n",
      "18 is divisble by 3\n",
      "19 is not divisble by 3\n",
      "20 is not divisble by 3\n",
      "21 is divisble by 3\n",
      "22 is not divisble by 3\n",
      "23 is not divisble by 3\n",
      "24 is divisble by 3\n",
      "25 is not divisble by 3\n"
     ]
    }
   ],
   "source": [
    "l3=[1,2,3,4,5,6,7,8,9,10,11,12,13,14,15,16,17,18,19,20,21,22,23,24,25]\n",
    "for i in l3:\n",
    "    if i%3==0:\n",
    "        print(f\"{i} is divisble by 3\")\n",
    "    else:\n",
    "        print(f\"{i} is not divisble by 3\")\n",
    "    \n",
    "        "
   ]
  },
  {
   "cell_type": "markdown",
   "id": "fcd227aa-1db4-41f3-b75a-822c355b8419",
   "metadata": {},
   "source": [
    "Q7)What do you understand about mutable and immutable data types? Give examples for both showing\n",
    "this property.\n",
    "\n",
    "Answer)"
   ]
  },
  {
   "cell_type": "markdown",
   "id": "5f870d63-c1e9-496a-b4d7-64ea8ca0a952",
   "metadata": {},
   "source": [
    "A mutable data type is that data type which can be modified after creation without changing its identity .List dictionaries \n",
    "and sets are example of this.The memory location does not changes.\n",
    "\n",
    "An immutable data type is that data type which cannot be modified after its creation to modify it we need to overwrite its memory location.\n",
    "Strings ,Tuples etc are example of it."
   ]
  },
  {
   "cell_type": "markdown",
   "id": "93145fc3-fec6-4035-bd95-6a457efb3e59",
   "metadata": {},
   "source": [
    "Example for mutable data type"
   ]
  },
  {
   "cell_type": "code",
   "execution_count": 9,
   "id": "9b958545-3804-4c3c-83c0-d3aedf71af0e",
   "metadata": {},
   "outputs": [],
   "source": [
    "list=[1,2,3]"
   ]
  },
  {
   "cell_type": "code",
   "execution_count": 10,
   "id": "ece422ab-f0da-48ff-91f4-e36ad67ccc54",
   "metadata": {},
   "outputs": [],
   "source": [
    "list.append(5)"
   ]
  },
  {
   "cell_type": "code",
   "execution_count": 11,
   "id": "b4db5cb0-8f1d-4c7a-8bf3-236dde8c5460",
   "metadata": {},
   "outputs": [
    {
     "data": {
      "text/plain": [
       "[1, 2, 3, 5]"
      ]
     },
     "execution_count": 11,
     "metadata": {},
     "output_type": "execute_result"
    }
   ],
   "source": [
    "list\n"
   ]
  },
  {
   "cell_type": "markdown",
   "id": "aed77717-a8e0-48c5-ba69-9cec2b7fc2b3",
   "metadata": {},
   "source": [
    "Example for immutable data type"
   ]
  },
  {
   "cell_type": "code",
   "execution_count": 1,
   "id": "4777ad52-7a92-4fb5-a340-97ef7e7eae90",
   "metadata": {},
   "outputs": [],
   "source": [
    "s1='amar'"
   ]
  },
  {
   "cell_type": "code",
   "execution_count": 3,
   "id": "a45a32a2-cb80-46c2-83ab-75921b2c5dc1",
   "metadata": {},
   "outputs": [
    {
     "ename": "TypeError",
     "evalue": "'str' object does not support item assignment",
     "output_type": "error",
     "traceback": [
      "\u001b[0;31m---------------------------------------------------------------------------\u001b[0m",
      "\u001b[0;31mTypeError\u001b[0m                                 Traceback (most recent call last)",
      "Cell \u001b[0;32mIn[3], line 1\u001b[0m\n\u001b[0;32m----> 1\u001b[0m \u001b[43ms1\u001b[49m\u001b[43m[\u001b[49m\u001b[38;5;241;43m0\u001b[39;49m\u001b[43m]\u001b[49m\u001b[38;5;241m=\u001b[39m\u001b[38;5;124m'\u001b[39m\u001b[38;5;124ma\u001b[39m\u001b[38;5;124m'\u001b[39m\n",
      "\u001b[0;31mTypeError\u001b[0m: 'str' object does not support item assignment"
     ]
    }
   ],
   "source": [
    "s1[0]='a'"
   ]
  },
  {
   "cell_type": "code",
   "execution_count": null,
   "id": "9301bcc6-f74e-4f75-b0df-efb6c610d838",
   "metadata": {},
   "outputs": [],
   "source": []
  }
 ],
 "metadata": {
  "kernelspec": {
   "display_name": "Python 3 (ipykernel)",
   "language": "python",
   "name": "python3"
  },
  "language_info": {
   "codemirror_mode": {
    "name": "ipython",
    "version": 3
   },
   "file_extension": ".py",
   "mimetype": "text/x-python",
   "name": "python",
   "nbconvert_exporter": "python",
   "pygments_lexer": "ipython3",
   "version": "3.10.8"
  }
 },
 "nbformat": 4,
 "nbformat_minor": 5
}
