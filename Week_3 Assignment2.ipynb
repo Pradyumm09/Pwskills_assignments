{
 "cells": [
  {
   "cell_type": "markdown",
   "id": "2739e2b2-21b7-45ae-9b84-790b1d95b255",
   "metadata": {},
   "source": [
    "Q1. Create a python program to sort the given list of tuples based on integer value using a\n",
    "lambda function.\n",
    "[('Sachin Tendulkar', 34357), ('Ricky Ponting', 27483), ('Jack Kallis', 25534), ('Virat Kohli', 24936)]"
   ]
  },
  {
   "cell_type": "code",
   "execution_count": 1,
   "id": "8284a36c-183c-45a1-98cb-2cad450b7389",
   "metadata": {},
   "outputs": [
    {
     "name": "stdout",
     "output_type": "stream",
     "text": [
      "Virat Kohli: 24936\n",
      "Jack Kallis: 25534\n",
      "Ricky Ponting: 27483\n",
      "Sachin Tendulkar: 34357\n"
     ]
    }
   ],
   "source": [
    "data = [('Sachin Tendulkar', 34357), ('Ricky Ponting', 27483), ('Jack Kallis', 25534), ('Virat Kohli', 24936)]\n",
    "\n",
    "sorted_data = sorted(data, key=lambda x: x[1])\n",
    "\n",
    "for name, value in sorted_data:\n",
    "    print(f'{name}: {value}')\n"
   ]
  },
  {
   "cell_type": "markdown",
   "id": "d8a4ab3d-5e19-47fb-b132-22784383b524",
   "metadata": {},
   "source": [
    "Q2. Write a Python Program to find the squares of all the numbers in the given list of integers using\n",
    "lambda and map functions.\n",
    "[1, 2, 3, 4, 5, 6, 7, 8, 9, 10]"
   ]
  },
  {
   "cell_type": "code",
   "execution_count": 2,
   "id": "56d16d38-a4dd-4bbb-b923-95018947dfee",
   "metadata": {},
   "outputs": [
    {
     "data": {
      "text/plain": [
       "[1, 4, 9, 16, 25, 36, 49, 64, 81, 100]"
      ]
     },
     "execution_count": 2,
     "metadata": {},
     "output_type": "execute_result"
    }
   ],
   "source": [
    "l1=[1,2,3,4,5,6,7,8,9,10]\n",
    "list(map(lambda x:x**2,l1))"
   ]
  },
  {
   "cell_type": "markdown",
   "id": "47450fef-9482-45a5-8cb7-58215c10a2fa",
   "metadata": {},
   "source": [
    "Q3. Write a python program to convert the given list of integers into a tuple of strings. Use map and\n",
    "lambda functions\n",
    "Given String: [1, 2, 3, 4, 5, 6, 7, 8, 9, 10]\n",
    "Expected output: ('1', '2', '3', '4', '5', '6', '7', '8', '9', '10')"
   ]
  },
  {
   "cell_type": "code",
   "execution_count": 4,
   "id": "5f40111d-7ebe-4726-89f4-6e967e0601eb",
   "metadata": {},
   "outputs": [
    {
     "data": {
      "text/plain": [
       "('1', '2', '3', '4', '5', '6', '7', '8', '9', '10')"
      ]
     },
     "execution_count": 4,
     "metadata": {},
     "output_type": "execute_result"
    }
   ],
   "source": [
    "s4=[1,2,3,4,5,6,7,8,9,10]\n",
    "tuple(map(lambda x:str(x),s4))"
   ]
  },
  {
   "cell_type": "markdown",
   "id": "bf1682e1-0cdc-43cc-bbde-1d4dbed53238",
   "metadata": {},
   "source": [
    "Q4. Write a python program using reduce function to compute the product of a list containing numbers\n",
    "from 1 to 25."
   ]
  },
  {
   "cell_type": "code",
   "execution_count": 10,
   "id": "db6e61e1-bd54-4098-9ec0-af9e33f4becd",
   "metadata": {},
   "outputs": [],
   "source": [
    "l5=[1,2,3,4,5,6,7,8,9,10,11,12,13,14,15,16,17,18,19,20,21,22,23,24,25]\n"
   ]
  },
  {
   "cell_type": "code",
   "execution_count": 13,
   "id": "4d19f363-5e21-42ec-b2c9-fe2b85c3d15f",
   "metadata": {},
   "outputs": [
    {
     "data": {
      "text/plain": [
       "15511210043330985984000000"
      ]
     },
     "execution_count": 13,
     "metadata": {},
     "output_type": "execute_result"
    }
   ],
   "source": [
    "\n",
    "from functools import reduce\n",
    "reduce(lambda x,y:x*y,l5)"
   ]
  },
  {
   "cell_type": "markdown",
   "id": "b3cdc9d4-f49f-4cf9-abe2-1dc7de0360e5",
   "metadata": {},
   "source": [
    "Q5. Write a python program to filter the numbers in a given list that are divisible by 2 and 3 using the\n",
    "filter function.\n",
    "[2, 3, 6, 9, 27, 60, 90, 120, 55, 46]"
   ]
  },
  {
   "cell_type": "code",
   "execution_count": 20,
   "id": "0fd3cfa5-761a-4c84-9452-cc309e4dd402",
   "metadata": {},
   "outputs": [],
   "source": [
    "l6=[2,3,6,9,27,60,90,120,55,46]"
   ]
  },
  {
   "cell_type": "code",
   "execution_count": 25,
   "id": "a4f53038-291a-4437-8ab3-8fe6bd3f3572",
   "metadata": {},
   "outputs": [],
   "source": [
    "def div(n):\n",
    "     return n % 2 == 0 and n % 3 == 0\n",
    "    "
   ]
  },
  {
   "cell_type": "code",
   "execution_count": 26,
   "id": "dcd231d9-a0b9-419e-949d-9da232125d5e",
   "metadata": {},
   "outputs": [
    {
     "name": "stdout",
     "output_type": "stream",
     "text": [
      "Numbers divisible by 2 and 3: [6, 60, 90, 120]\n"
     ]
    }
   ],
   "source": [
    "filtered_numbers = list(filter(div, l6))\n",
    "\n",
    "print(\"Numbers divisible by 2 and 3:\", filtered_numbers)"
   ]
  },
  {
   "cell_type": "markdown",
   "id": "8613324f-2be7-4e05-b4ba-918f59a6e2f6",
   "metadata": {},
   "source": [
    "Q6. Write a python program to find palindromes in the given list of strings using lambda and filter\n",
    "function.\n",
    "['python', 'php', 'aba', 'radar', 'level']"
   ]
  },
  {
   "cell_type": "code",
   "execution_count": 27,
   "id": "680a873a-94db-4ba2-83da-36e0d911d8bd",
   "metadata": {},
   "outputs": [],
   "source": [
    "l7=['python','php','aba','radar','level']"
   ]
  },
  {
   "cell_type": "code",
   "execution_count": null,
   "id": "f90bcb9f-9427-4b6e-af62-361deb148bcb",
   "metadata": {},
   "outputs": [],
   "source": [
    "palindromes=list(filter(lambda l7:l7==l7[::-1],"
   ]
  }
 ],
 "metadata": {
  "kernelspec": {
   "display_name": "Python 3 (ipykernel)",
   "language": "python",
   "name": "python3"
  },
  "language_info": {
   "codemirror_mode": {
    "name": "ipython",
    "version": 3
   },
   "file_extension": ".py",
   "mimetype": "text/x-python",
   "name": "python",
   "nbconvert_exporter": "python",
   "pygments_lexer": "ipython3",
   "version": "3.10.8"
  }
 },
 "nbformat": 4,
 "nbformat_minor": 5
}
