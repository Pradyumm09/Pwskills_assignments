{
 "cells": [
  {
   "cell_type": "markdown",
   "id": "b9633caf-584d-48ca-a1a8-5b9a6fcf6b33",
   "metadata": {},
   "source": [
    "Q1. What is Abstraction in OOps? Explain with an example.\n"
   ]
  },
  {
   "cell_type": "markdown",
   "id": "0712976a-6a5d-48c9-840f-a4458810f702",
   "metadata": {},
   "source": [
    "Abstraction is one of the pillars of oops programming which simplies complex reality by modeling classes, objects, functions, or data structures with clear and concise interfaces. We can have abstract classes as well as abstract methods. To make a class or method abstract we need to import abc module.It increases the code readabilty and maintainability."
   ]
  },
  {
   "cell_type": "code",
   "execution_count": 2,
   "id": "66427c5a-c2c1-444a-9f09-580b37cc19ff",
   "metadata": {},
   "outputs": [],
   "source": [
    "import abc\n",
    "\n",
    "class shape:\n",
    "    @abc.abstractmethod\n",
    "    def area(self):\n",
    "        pass"
   ]
  },
  {
   "cell_type": "code",
   "execution_count": 3,
   "id": "c9749328-ec68-4dce-b38b-5552a027c255",
   "metadata": {},
   "outputs": [],
   "source": [
    "class circle(shape):\n",
    "    def __init__ (self,radius):\n",
    "        self.radius=radius\n",
    "    def area(self):\n",
    "        return 3.14 * self.radius * self.radius"
   ]
  },
  {
   "cell_type": "code",
   "execution_count": 4,
   "id": "51b1714b-c380-4b08-97ac-810b9950ff14",
   "metadata": {},
   "outputs": [],
   "source": [
    "c=circle(3)"
   ]
  },
  {
   "cell_type": "code",
   "execution_count": 5,
   "id": "f3680d50-4366-43e0-af36-b935ded26203",
   "metadata": {},
   "outputs": [
    {
     "data": {
      "text/plain": [
       "28.259999999999998"
      ]
     },
     "execution_count": 5,
     "metadata": {},
     "output_type": "execute_result"
    }
   ],
   "source": [
    "c.area()"
   ]
  },
  {
   "cell_type": "code",
   "execution_count": 7,
   "id": "f94d4b51-af0c-4693-8b4a-1d8b0c7131f9",
   "metadata": {},
   "outputs": [
    {
     "data": {
      "text/plain": [
       "3"
      ]
     },
     "execution_count": 7,
     "metadata": {},
     "output_type": "execute_result"
    }
   ],
   "source": [
    "c.radius"
   ]
  },
  {
   "cell_type": "markdown",
   "id": "d322396e-3561-442d-b06b-b3b9cdbba5d8",
   "metadata": {},
   "source": [
    "Q2. Differentiate between Abstraction and Encapsulation. Explain with an example.\n"
   ]
  },
  {
   "cell_type": "markdown",
   "id": "6f5aa523-cbac-47d1-9825-c5a3ef4ba5d5",
   "metadata": {},
   "source": [
    "Abstarction is about simplifying complex systems by defining clear interfaces and focusing ion what an object or\n",
    "function does.\n",
    "\n",
    "Encapsulation is about protecting the object's internal data by controlling access through well defined interfaces and access control mechanisms such as private,protected"
   ]
  },
  {
   "cell_type": "code",
   "execution_count": 8,
   "id": "db5d65b8-81fe-4a54-9fed-8c5ea407c178",
   "metadata": {},
   "outputs": [],
   "source": [
    "#Encapsulation example\n",
    "class Employee:\n",
    "    def __init__(self,name,project):\n",
    "        self.name=name\n",
    "        self.project=project\n",
    "    \n",
    "    def work(self):\n",
    "        print(self.name ,'is working on', self.project)"
   ]
  },
  {
   "cell_type": "code",
   "execution_count": 9,
   "id": "f59b7d84-de31-4242-aea2-7452ba68c66c",
   "metadata": {},
   "outputs": [],
   "source": [
    "Emp= Employee('amar','chandrayaan 3')"
   ]
  },
  {
   "cell_type": "code",
   "execution_count": 10,
   "id": "26092fa0-6049-4c60-bf01-88ae3f3523ab",
   "metadata": {},
   "outputs": [
    {
     "name": "stdout",
     "output_type": "stream",
     "text": [
      "amar is working on chandrayaan 3\n"
     ]
    }
   ],
   "source": [
    "Emp.work()"
   ]
  },
  {
   "cell_type": "code",
   "execution_count": 12,
   "id": "bddc1ff3-c1c3-4a44-82c6-4feab43c748c",
   "metadata": {},
   "outputs": [],
   "source": [
    "# Abstarction example\n",
    "import abc\n",
    "\n",
    "class Employee1:\n",
    "    @abc.abstractmethod\n",
    "    def working(self):\n",
    "        pass"
   ]
  },
  {
   "cell_type": "code",
   "execution_count": 18,
   "id": "c9be156d-9fa2-48de-bef8-11af177cecc0",
   "metadata": {},
   "outputs": [],
   "source": [
    "class Employee2(Employee1):\n",
    "    def __init__ (self,name,project):\n",
    "        self.name=name\n",
    "        self.project=project\n",
    "    def work(self):\n",
    "        print( self.name, 'is working on' ,self.project)"
   ]
  },
  {
   "cell_type": "code",
   "execution_count": 20,
   "id": "aa92e8f8-398c-44c6-ba1a-5e9ee853d774",
   "metadata": {},
   "outputs": [],
   "source": [
    "Emp2=Employee2('Amar',\"Solar Mission\")"
   ]
  },
  {
   "cell_type": "code",
   "execution_count": 21,
   "id": "3dcfa36f-0302-4355-ba74-54176465db76",
   "metadata": {},
   "outputs": [
    {
     "name": "stdout",
     "output_type": "stream",
     "text": [
      "Amar is working on Solar Mission\n"
     ]
    }
   ],
   "source": [
    "Emp2.work()"
   ]
  },
  {
   "cell_type": "markdown",
   "id": "b21e4cc8-c48a-47f7-a067-99abb20bafe8",
   "metadata": {},
   "source": [
    "Q3. What is abc module in python? Why is it used?\n"
   ]
  },
  {
   "cell_type": "markdown",
   "id": "2cde2267-4215-470c-9caf-4f866d28d1eb",
   "metadata": {},
   "source": [
    "In python, abc stands for Abstract Base Classes ,It is used to create abstract base classes, which are classes that cannot be instantiated on their own but can be subclassed by other classes to define a common interface or set of methods that must be implemented by the subclasses.\n",
    "\n",
    "\n",
    "The primary purpose of the abc module is to provide a way to define abstract base classes and abstract methods. Abstract methods are methods that are declared in the base class but do not have an implementation. Subclasses of the base class are required to provide an implementation for these abstract methods. If a subclass does not implement all the required methods, attempting to instantiate it will raise a TypeError."
   ]
  },
  {
   "cell_type": "markdown",
   "id": "501aadd1-7d5d-4ea6-b93a-4363f4893bbf",
   "metadata": {},
   "source": [
    "Q4. How can we achieve data abstraction?\n"
   ]
  },
  {
   "cell_type": "markdown",
   "id": "676ef0b7-ef4c-414a-9df5-791048fa7e13",
   "metadata": {},
   "source": [
    "Data abstraction is a fundamental concept in computer science and programming that involves hiding the complex implementation details of data and exposing only the necessary and relevant information. In object-oriented programming, data abstraction is typically achieved through the use of classes and objects."
   ]
  },
  {
   "cell_type": "code",
   "execution_count": 6,
   "id": "1a5beba3-eb08-4367-8053-5a2928543660",
   "metadata": {},
   "outputs": [],
   "source": [
    "#For Example\n",
    "import abc\n",
    "class a:\n",
    "    @abc.abstractmethod\n",
    "    def m1(self):\n",
    "        pass\n",
    "    \n",
    "class b(a):\n",
    "    def __init__(self,a):\n",
    "        print('hi',a)\n",
    "    def m1(self):\n",
    "        print('hello')\n",
    "    "
   ]
  },
  {
   "cell_type": "code",
   "execution_count": 8,
   "id": "3ad1dcc9-b2a6-4fa8-9ae6-7f0b5e03a50d",
   "metadata": {},
   "outputs": [
    {
     "name": "stdout",
     "output_type": "stream",
     "text": [
      "hi 5\n"
     ]
    }
   ],
   "source": [
    "b_obj=b(5)"
   ]
  },
  {
   "cell_type": "code",
   "execution_count": 9,
   "id": "f63a921f-a29f-4589-bbeb-dad0e752d574",
   "metadata": {},
   "outputs": [
    {
     "name": "stdout",
     "output_type": "stream",
     "text": [
      "hello\n"
     ]
    }
   ],
   "source": [
    "b_obj.m1()"
   ]
  },
  {
   "cell_type": "markdown",
   "id": "5a4c9574-effd-4b21-9430-deafee0786bf",
   "metadata": {},
   "source": [
    "Q5. Can we create an instance of an abstract class? Explain your answer."
   ]
  },
  {
   "cell_type": "markdown",
   "id": "1ede9f80-0570-4e3a-b172-69c5945b168c",
   "metadata": {},
   "source": [
    "In Python, you generally cannot create an instance of an abstract class directly. Abstract classes are meant to serve as a blueprint for other classes and define a common interface by specifying abstract methods that must be implemented by their concrete subclasses. The primary purpose of abstract classes is to provide a structure and contract for subclasses to adhere to, ensuring that certain methods are implemented consistently across related classes"
   ]
  },
  {
   "cell_type": "code",
   "execution_count": 22,
   "id": "223a58f8-384c-4481-bf80-421eed03ec81",
   "metadata": {},
   "outputs": [],
   "source": [
    "#For Example\n",
    "\n",
    "from abc import ABC\n",
    "class Human(ABC) :\n",
    "    @abstractmethod\n",
    "    def gender(self):\n",
    "            pass\n",
    "class Human1(Human):\n",
    "    def gender(self):\n",
    "        print('male')"
   ]
  },
  {
   "cell_type": "code",
   "execution_count": 23,
   "id": "8759098c-d539-4f40-8448-e6fc4e2f6463",
   "metadata": {},
   "outputs": [
    {
     "ename": "TypeError",
     "evalue": "Can't instantiate abstract class Human with abstract method gender",
     "output_type": "error",
     "traceback": [
      "\u001b[0;31m---------------------------------------------------------------------------\u001b[0m",
      "\u001b[0;31mTypeError\u001b[0m                                 Traceback (most recent call last)",
      "Cell \u001b[0;32mIn[23], line 1\u001b[0m\n\u001b[0;32m----> 1\u001b[0m Hum\u001b[38;5;241m=\u001b[39m\u001b[43mHuman\u001b[49m\u001b[43m(\u001b[49m\u001b[43m)\u001b[49m\n",
      "\u001b[0;31mTypeError\u001b[0m: Can't instantiate abstract class Human with abstract method gender"
     ]
    }
   ],
   "source": [
    "Hum=Human()"
   ]
  },
  {
   "cell_type": "markdown",
   "id": "6d82a33b-b8c1-403f-9c1e-115e7b58ce60",
   "metadata": {},
   "source": [
    "as you can see the gender method which is an abstract method in the abstract class Human is unable to produce an object. This is because we cannot create object for an abstract class as its abstract methods are not defined."
   ]
  },
  {
   "cell_type": "code",
   "execution_count": 24,
   "id": "4938ec79-6c43-4947-845f-335132cc2794",
   "metadata": {},
   "outputs": [],
   "source": [
    "H=Human1()"
   ]
  },
  {
   "cell_type": "code",
   "execution_count": 25,
   "id": "27f1251e-9245-4591-8f73-f16a89b428b3",
   "metadata": {},
   "outputs": [
    {
     "name": "stdout",
     "output_type": "stream",
     "text": [
      "male\n"
     ]
    }
   ],
   "source": [
    "H.gender()"
   ]
  },
  {
   "cell_type": "markdown",
   "id": "af8624fe-b5ad-4284-9e6a-fed15635b4cf",
   "metadata": {},
   "source": [
    "we created an object for the concrete class easily."
   ]
  }
 ],
 "metadata": {
  "kernelspec": {
   "display_name": "Python 3 (ipykernel)",
   "language": "python",
   "name": "python3"
  },
  "language_info": {
   "codemirror_mode": {
    "name": "ipython",
    "version": 3
   },
   "file_extension": ".py",
   "mimetype": "text/x-python",
   "name": "python",
   "nbconvert_exporter": "python",
   "pygments_lexer": "ipython3",
   "version": "3.10.8"
  }
 },
 "nbformat": 4,
 "nbformat_minor": 5
}
