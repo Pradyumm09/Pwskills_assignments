{
 "cells": [
  {
   "cell_type": "markdown",
   "id": "1b535a70-ad82-4207-819b-a67ce78a67a5",
   "metadata": {},
   "source": [
    "Q1. What is Exception in python? Write the difference between Exceptions and syntax errors?\n",
    "\n"
   ]
  },
  {
   "cell_type": "markdown",
   "id": "9c33dc42-cc5f-4517-8cac-8bf95a870c16",
   "metadata": {},
   "source": [
    "In python Exception is an error that occurs during the execution of the program when something unexpected\n",
    "or exceptional happens.It disrupts the flow of the program. Exceptions in python can be caused due to many\n",
    "reasons such as if a number is divided by zero or we use a variable which is not initialised or we try to open a file which does not exists etc. when an error occurs python raises an exception object which can be caught and handled by the program.\n",
    "\n",
    "\n",
    "\n",
    "Difference between Exceptions and syntax errors are:\n",
    "\n",
    "Exceptions:\n",
    "1)Exceptions occur at runtime.\n",
    "2)They are usually caused by logical errors or unexpected situations that arise during program execution.\n",
    "3)Examples of this type of errors are ZeroDivisionError ,FileNotFoundError etc.\n",
    "4)These  can be caught and handled using try except blocks.\n",
    "\n",
    "Syntax Errors:\n",
    "1)It occurs during compile time.\n",
    "2)They are caused by violation of python language's syntax rules.\n",
    "3)Example of syntax error is missing colon : after the conditional statements.\n",
    "4)They need to be handled before the execution of the code."
   ]
  },
  {
   "cell_type": "markdown",
   "id": "4247b4d1-461d-4ee6-8d4e-32d68038bfa9",
   "metadata": {},
   "source": [
    "Q2. What happens when an exception is not handled? Explain with an example."
   ]
  },
  {
   "cell_type": "markdown",
   "id": "4f037262-3abe-46a5-ad85-83c96219fae9",
   "metadata": {},
   "source": [
    "If the exception is not handled it will raise an execption object which is to be handled by the suitable \n",
    "handler or if the handler is not found it will terminate the program. If the program terminates due to an Exception it will show a typical error message and a traceback,which provides explanation where the exception has occured."
   ]
  },
  {
   "cell_type": "code",
   "execution_count": 2,
   "id": "9d6dd3cd-88d9-4e37-8b08-6d3dc80576dd",
   "metadata": {},
   "outputs": [],
   "source": [
    "def divide(x,y):\n",
    "    print(x/y)"
   ]
  },
  {
   "cell_type": "code",
   "execution_count": 3,
   "id": "41e4d6c5-741e-4bd6-b68e-09c122026984",
   "metadata": {},
   "outputs": [
    {
     "ename": "ZeroDivisionError",
     "evalue": "division by zero",
     "output_type": "error",
     "traceback": [
      "\u001b[0;31m---------------------------------------------------------------------------\u001b[0m",
      "\u001b[0;31mZeroDivisionError\u001b[0m                         Traceback (most recent call last)",
      "Cell \u001b[0;32mIn[3], line 1\u001b[0m\n\u001b[0;32m----> 1\u001b[0m \u001b[43mdivide\u001b[49m\u001b[43m(\u001b[49m\u001b[38;5;241;43m5\u001b[39;49m\u001b[43m,\u001b[49m\u001b[38;5;241;43m0\u001b[39;49m\u001b[43m)\u001b[49m\n",
      "Cell \u001b[0;32mIn[2], line 2\u001b[0m, in \u001b[0;36mdivide\u001b[0;34m(x, y)\u001b[0m\n\u001b[1;32m      1\u001b[0m \u001b[38;5;28;01mdef\u001b[39;00m \u001b[38;5;21mdivide\u001b[39m(x,y):\n\u001b[0;32m----> 2\u001b[0m     \u001b[38;5;28mprint\u001b[39m(\u001b[43mx\u001b[49m\u001b[38;5;241;43m/\u001b[39;49m\u001b[43my\u001b[49m)\n",
      "\u001b[0;31mZeroDivisionError\u001b[0m: division by zero"
     ]
    }
   ],
   "source": [
    "divide(5,0)\n"
   ]
  },
  {
   "cell_type": "markdown",
   "id": "5c7e90b0-7799-485f-8667-d28dc0a2e6a0",
   "metadata": {},
   "source": [
    "As shown in the above program if we do not handle the exception a error message will display\n",
    "with the name of the exception."
   ]
  },
  {
   "cell_type": "markdown",
   "id": "00faf741-3f42-478d-83ae-5b9f82dd1e49",
   "metadata": {},
   "source": [
    "Q3. Which Python statements are used to catch and handle exceptions? Explain with an example."
   ]
  },
  {
   "cell_type": "markdown",
   "id": "a4cfa5aa-2978-46c3-abe9-1d12973087a3",
   "metadata": {},
   "source": [
    "The statements used in python to catch and handle exceptions are:\n",
    "1)Try: If there is any doubt on a block of codes that it may cause an error it is written in the try block.\n",
    "\n",
    "2)Except: This block executes if an error has occured . It is used either to display a message if an exception occurs or is used to handle the error.\n",
    "\n",
    "3)Else:If no Exceptions are raised in the Try block then the else block will execute.\n",
    "\n",
    "4)Finally: Whether there is an Exception or not it will execute.\n"
   ]
  },
  {
   "cell_type": "code",
   "execution_count": 4,
   "id": "543a6261-c7bc-45aa-a3e2-fc6716d2a0e7",
   "metadata": {},
   "outputs": [
    {
     "name": "stdin",
     "output_type": "stream",
     "text": [
      "Enter a number: 3\n",
      "Enter another number: 1\n"
     ]
    },
    {
     "name": "stdout",
     "output_type": "stream",
     "text": [
      "3.0\n",
      "No exception\n",
      "Execution to ho gya\n"
     ]
    }
   ],
   "source": [
    "try:\n",
    "    n1=int(input(\"Enter a number:\"))\n",
    "    n2=int(input(\"Enter another number:\"))\n",
    "    print(n1/n2)\n",
    "except Exception as e:\n",
    "    print(\"exception has occured\")\n",
    "\n",
    "    \n",
    "else:\n",
    "    print('No exception')\n",
    "finally:\n",
    "    print(\"Execution to ho gya\")\n",
    "    "
   ]
  },
  {
   "cell_type": "code",
   "execution_count": 5,
   "id": "350bde48-ac0d-4858-95b1-6d57c7a9057a",
   "metadata": {},
   "outputs": [
    {
     "name": "stdin",
     "output_type": "stream",
     "text": [
      "Enter a number: 3\n",
      "Enter another number: 0\n"
     ]
    },
    {
     "name": "stdout",
     "output_type": "stream",
     "text": [
      "exception has occured\n",
      "Execution to ho gya\n"
     ]
    }
   ],
   "source": [
    "try:\n",
    "    n1=int(input(\"Enter a number:\"))\n",
    "    n2=int(input(\"Enter another number:\"))\n",
    "    print(n1/n2)\n",
    "except Exception as e:\n",
    "    print(\"exception has occured\")\n",
    "\n",
    "    \n",
    "else:\n",
    "    print('No exception')\n",
    "finally:\n",
    "    print(\"Execution to ho gya\")\n",
    "    "
   ]
  },
  {
   "cell_type": "markdown",
   "id": "e31ca53e-e000-45ba-aeea-8848fcf0f1b2",
   "metadata": {},
   "source": [
    "Q4. Explain with an example:\n",
    "\n",
    "  a.try and else\n",
    "  b.finally\n",
    "  c.raise"
   ]
  },
  {
   "cell_type": "markdown",
   "id": "83d87bb9-065a-4ffc-b76f-53527dfef386",
   "metadata": {},
   "source": [
    "a.try "
   ]
  },
  {
   "cell_type": "code",
   "execution_count": 2,
   "id": "6c11ccd8-dd0d-40b7-8b8a-a3e8c67d791d",
   "metadata": {},
   "outputs": [
    {
     "name": "stdout",
     "output_type": "stream",
     "text": [
      "[Errno 2] No such file or directory: 'amar.txt'\n"
     ]
    }
   ],
   "source": [
    "try:\n",
    "    with open('amar.txt','r') as f:\n",
    "        print(f.read)\n",
    "except FileNotFoundError as e:\n",
    "    print(e)"
   ]
  },
  {
   "cell_type": "markdown",
   "id": "960d78cf-c8a1-4548-aaee-21c4b7ba851d",
   "metadata": {},
   "source": [
    "b.else"
   ]
  },
  {
   "cell_type": "code",
   "execution_count": 5,
   "id": "054658d3-91a3-4a6d-bf97-379c9e6f0534",
   "metadata": {},
   "outputs": [
    {
     "name": "stdout",
     "output_type": "stream",
     "text": [
      "2.0\n",
      "No Exception\n"
     ]
    }
   ],
   "source": [
    "try:\n",
    "    n1=4\n",
    "    n2=2\n",
    "    print(n1/n2)\n",
    "except ZeroDivisionError as e:\n",
    "    print(e)\n",
    "else:\n",
    "    print('No Exception')\n"
   ]
  },
  {
   "cell_type": "markdown",
   "id": "3c0c6e34-2e51-48ae-97a0-470f8a282616",
   "metadata": {},
   "source": [
    "c.raise"
   ]
  },
  {
   "cell_type": "code",
   "execution_count": 7,
   "id": "fdd462cc-5a2a-449f-8b6d-3aec0a59cffc",
   "metadata": {},
   "outputs": [
    {
     "name": "stdout",
     "output_type": "stream",
     "text": [
      "Caught an exception: This is a custom exception.\n"
     ]
    }
   ],
   "source": [
    "class CustomException(Exception):\n",
    "    pass\n",
    "try:\n",
    "    raise CustomException(\"This is a custom exception.\")\n",
    "except CustomException as e:\n",
    "    print(f\"Caught an exception: {e}\")\n"
   ]
  },
  {
   "cell_type": "markdown",
   "id": "c10d454e-6846-4e71-8d7f-546285be133a",
   "metadata": {},
   "source": [
    "Q5. What are Custom Exceptions in python? Why do we need Custom Exceptions? Explain with an example."
   ]
  },
  {
   "cell_type": "markdown",
   "id": "7d0d0c70-4623-4f76-ba56-a76fa36cf3c4",
   "metadata": {},
   "source": [
    "Custom Exceptions in Pyhton are user defined exception classes that allow you to create our own exceptions\n",
    "to handle specific error scenarios in our code.While python provides a lot of built in Exceptions but still\n",
    "some times it becomes difficult to handle some exception.There we need this Custom Exceptions.To convey the\n",
    "nature of the error.Some reasons why we need Custom Exceptions are:\n",
    "\n"
   ]
  },
  {
   "cell_type": "raw",
   "id": "8bd41983-cf55-4a96-9631-401f9172df5b",
   "metadata": {},
   "source": [
    "1) Clarity and Readability : Custom exceptions can make your code more readable and self-explanatory. By creating exception classes with names that describe the specific error, you provide better documentation and understanding for anyone reading or maintaining your code.\n",
    "\n",
    "2) Better Error Handling : Custom exceptions allow you to handle different error scenarios in a more granular way. You can catch specific custom exceptions and take appropriate actions, making error handling more precise.\n",
    "\n"
   ]
  },
  {
   "cell_type": "code",
   "execution_count": 6,
   "id": "abb557f1-6a67-407d-bbe5-3a64eab131a5",
   "metadata": {},
   "outputs": [],
   "source": [
    "class speedlimit(Exception):\n",
    "    \n",
    "    def __init__(self , msg) : \n",
    "        self.msg = msg"
   ]
  },
  {
   "cell_type": "code",
   "execution_count": 7,
   "id": "503c63b2-62b3-4cf4-a2a6-25edb49c95ef",
   "metadata": {},
   "outputs": [],
   "source": [
    "def speedl(speed) : \n",
    "    if speed < 0 :\n",
    "        raise speedlimit(\"entered age is negative \" )\n",
    "    elif speed > 200 : \n",
    "        raise speedlimit(\"enterd age is very very high \" )\n",
    "    else :\n",
    "        print(\"age is valid\" )"
   ]
  },
  {
   "cell_type": "code",
   "execution_count": 10,
   "id": "1114f433-1c06-4037-8731-d79a73df7f84",
   "metadata": {},
   "outputs": [
    {
     "name": "stdin",
     "output_type": "stream",
     "text": [
      "enter your speed 89\n"
     ]
    },
    {
     "name": "stdout",
     "output_type": "stream",
     "text": [
      "speed is valid\n"
     ]
    }
   ],
   "source": [
    "try :\n",
    "    speed = int(input(\"enter your speed\" ))\n",
    "    speedl(speed)\n",
    "except speedlimit as e :\n",
    "    print(e)"
   ]
  },
  {
   "cell_type": "markdown",
   "id": "95e5bc45-45a1-4d29-aa37-a736317b2ceb",
   "metadata": {},
   "source": [
    "Q6. Create custom exception classes. Use this class to handle an exception."
   ]
  },
  {
   "cell_type": "code",
   "execution_count": 3,
   "id": "573b1137-b295-4ede-8996-319f4a7fb806",
   "metadata": {},
   "outputs": [
    {
     "name": "stdin",
     "output_type": "stream",
     "text": [
      "Enter a positive number:  -2\n"
     ]
    },
    {
     "name": "stdout",
     "output_type": "stream",
     "text": [
      "Error: -2.0\n"
     ]
    }
   ],
   "source": [
    "class Customexe(Exception):\n",
    "    def __init__(self,value):\n",
    "        self.value=value\n",
    "        # super().__init__(f\"Negative Values not allowed:{value}\")\n",
    "\n",
    "        \n",
    "def calculate_square_root(number):\n",
    "    if number < 0:\n",
    "        raise Customexe(number)\n",
    "    else:\n",
    "        return number ** 0.5\n",
    "\n",
    "try:\n",
    "    input_number = float(input(\"Enter a positive number: \"))\n",
    "    result = calculate_square_root(input_number)\n",
    "    print(f\"The square root of {input_number} is {result:.2f}\")\n",
    "except Customexe as e:\n",
    "    print(f\"Error: {e}\")\n",
    "except ValueError:\n",
    "    print(\"Invalid input. Please enter a valid number.\")\n",
    "except Exception as e:\n",
    "    print(f\"An unexpected error occurred: {e}\")\n",
    "\n",
    "\n"
   ]
  },
  {
   "cell_type": "code",
   "execution_count": null,
   "id": "a0b99bea-b8d8-4543-85bd-aeffe307c20e",
   "metadata": {},
   "outputs": [],
   "source": []
  }
 ],
 "metadata": {
  "kernelspec": {
   "display_name": "Python 3 (ipykernel)",
   "language": "python",
   "name": "python3"
  },
  "language_info": {
   "codemirror_mode": {
    "name": "ipython",
    "version": 3
   },
   "file_extension": ".py",
   "mimetype": "text/x-python",
   "name": "python",
   "nbconvert_exporter": "python",
   "pygments_lexer": "ipython3",
   "version": "3.10.8"
  }
 },
 "nbformat": 4,
 "nbformat_minor": 5
}
