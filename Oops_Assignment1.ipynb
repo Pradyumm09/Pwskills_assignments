{
 "cells": [
  {
   "cell_type": "markdown",
   "id": "867bb914-0520-481a-b314-21b437833048",
   "metadata": {},
   "source": [
    "Q1. Explain Class and Object with respect to Object-Oriented Programming. Give a suitable example."
   ]
  },
  {
   "cell_type": "markdown",
   "id": "11711b27-cd11-4364-83eb-8e41113be513",
   "metadata": {},
   "source": [
    "In object orineted programming class is a blueprint or template used to create objects,while object is an \n",
    "instance of a class. Classes defines the structure and behaviour of objects including their attributes and methods.\n",
    "For example :"
   ]
  },
  {
   "cell_type": "code",
   "execution_count": 2,
   "id": "45dc71dd-27c6-4edb-b87d-411928c86a0f",
   "metadata": {},
   "outputs": [],
   "source": [
    "class cricketer:\n",
    "    def __init__(self,name,jersey_no):\n",
    "        self.name=name\n",
    "        self.jersey_no=jersey_no\n",
    "    \n",
    "    def display_player(self):\n",
    "        return self.name,self.jersey_no"
   ]
  },
  {
   "cell_type": "code",
   "execution_count": 4,
   "id": "dbb731cc-bae1-43ae-bf08-b21c0bc344fd",
   "metadata": {},
   "outputs": [],
   "source": [
    "cric1=cricketer(\"Ms Dhoni\",7)"
   ]
  },
  {
   "cell_type": "code",
   "execution_count": 5,
   "id": "106257b6-3e12-4c59-bbea-b954b3d5ece5",
   "metadata": {},
   "outputs": [
    {
     "data": {
      "text/plain": [
       "('Ms Dhoni', 7)"
      ]
     },
     "execution_count": 5,
     "metadata": {},
     "output_type": "execute_result"
    }
   ],
   "source": [
    "cric1.display_player()"
   ]
  },
  {
   "cell_type": "code",
   "execution_count": 6,
   "id": "2218cbf8-3fb8-4d32-8322-941f4a1cceb7",
   "metadata": {},
   "outputs": [
    {
     "data": {
      "text/plain": [
       "7"
      ]
     },
     "execution_count": 6,
     "metadata": {},
     "output_type": "execute_result"
    }
   ],
   "source": [
    "cric1.jersey_no"
   ]
  },
  {
   "cell_type": "code",
   "execution_count": 7,
   "id": "990df59a-b325-4293-9256-3372ffb4f37a",
   "metadata": {},
   "outputs": [
    {
     "data": {
      "text/plain": [
       "'Ms Dhoni'"
      ]
     },
     "execution_count": 7,
     "metadata": {},
     "output_type": "execute_result"
    }
   ],
   "source": [
    "cric1.name"
   ]
  },
  {
   "cell_type": "markdown",
   "id": "86466ab1-0d6e-4e9e-89c1-8faac20d0542",
   "metadata": {},
   "source": [
    "As shown in the above example cricketer is the class which consists of the method __init__ to fetch the information\n",
    "and display_player method is to display the information. The object cric1 is created to access the methods which the class cricketer was having."
   ]
  },
  {
   "cell_type": "markdown",
   "id": "fb997d93-deb6-4656-90b6-362a81aaf130",
   "metadata": {},
   "source": [
    "Q2. Name the four pillars of OOPs."
   ]
  },
  {
   "cell_type": "markdown",
   "id": "7b7c3bd9-5d52-4c8f-803d-48b42c9f5fdf",
   "metadata": {},
   "source": [
    "Four pillars of OOPs are:\n",
    "\n",
    "1)Abstraction- It means representing the essential charcteristics of an object while hiding unnecessary details.\n",
    "    \n",
    "2)Inheritance-Extraction of properties from parent class to child class.\n",
    "    \n",
    "3)Polymorphism- It is the ability of different classes to be treated as instances of a common superclass, enabling unified handling of diverse object types while abstracting their specific implementations.\n",
    "\n",
    "4)Encapsulation- Encapsulation is the practice of bundling data and the methods that operate on that data into a single unit, known as a class, promoting data privacy and controlled access from outside."
   ]
  },
  {
   "cell_type": "markdown",
   "id": "d828dc81-eae7-4dbc-ad95-96a5f3b2eb40",
   "metadata": {},
   "source": [
    "Q3. Explain why the __init__() function is used. Give a suitable example."
   ]
  },
  {
   "cell_type": "markdown",
   "id": "eff486b0-5f90-4a3c-a4aa-014dc0d629d4",
   "metadata": {},
   "source": [
    "init function is also known as constructor is used in object oriented programming to initialize the attributes\n",
    "of an object when it is created from a class.This method gets called automatically when the object is created for it. Example:\n"
   ]
  },
  {
   "cell_type": "code",
   "execution_count": 9,
   "id": "a6aa8bf3-5f35-4378-a0c6-15d5333ff631",
   "metadata": {},
   "outputs": [],
   "source": [
    "class Animal:\n",
    "    def __init__(self,species,legs):\n",
    "        self.species=species\n",
    "        self.legs=legs\n",
    "    def display_info(self):\n",
    "        return self.species,self.legs"
   ]
  },
  {
   "cell_type": "code",
   "execution_count": 10,
   "id": "29235131-a9d9-4ba4-a2dc-53d3622872d2",
   "metadata": {},
   "outputs": [
    {
     "ename": "TypeError",
     "evalue": "Animal.__init__() missing 2 required positional arguments: 'species' and 'legs'",
     "output_type": "error",
     "traceback": [
      "\u001b[0;31m---------------------------------------------------------------------------\u001b[0m",
      "\u001b[0;31mTypeError\u001b[0m                                 Traceback (most recent call last)",
      "Cell \u001b[0;32mIn[10], line 1\u001b[0m\n\u001b[0;32m----> 1\u001b[0m a\u001b[38;5;241m=\u001b[39m\u001b[43mAnimal\u001b[49m\u001b[43m(\u001b[49m\u001b[43m)\u001b[49m\n",
      "\u001b[0;31mTypeError\u001b[0m: Animal.__init__() missing 2 required positional arguments: 'species' and 'legs'"
     ]
    }
   ],
   "source": [
    "a=Animal()"
   ]
  },
  {
   "cell_type": "code",
   "execution_count": 12,
   "id": "b5fb169d-a417-4893-ae01-5759027e56ed",
   "metadata": {},
   "outputs": [],
   "source": [
    "a=Animal(\"Cow\",4)"
   ]
  },
  {
   "cell_type": "code",
   "execution_count": 13,
   "id": "db43908f-04d2-4c36-b850-43ec6c7629b8",
   "metadata": {},
   "outputs": [
    {
     "data": {
      "text/plain": [
       "('Cow', 4)"
      ]
     },
     "execution_count": 13,
     "metadata": {},
     "output_type": "execute_result"
    }
   ],
   "source": [
    "a.display_info()"
   ]
  },
  {
   "cell_type": "markdown",
   "id": "11bd69ba-8930-4008-b488-274e9d13e1d1",
   "metadata": {},
   "source": [
    "Q4. Why self is used in OOPs?"
   ]
  },
  {
   "cell_type": "markdown",
   "id": "47baa582-b08c-4ddc-8c0a-6039f5f051d6",
   "metadata": {},
   "source": [
    "In python self paramter is used within class methods to refer to the instance of class itself. It allows to access,\n",
    "manipulate attributes and methods. It has no naming conventions it can be named anything as per the user,But for\n",
    "readabilty it is adviced to use self. Using self ensures that class methods can differentiate between instance-specific data when there are multiple instances of the class."
   ]
  },
  {
   "cell_type": "markdown",
   "id": "063e8bd8-be7e-4780-9f51-b641b515aca3",
   "metadata": {},
   "source": [
    "Q5. What is inheritance? Give an example for each type of inheritance."
   ]
  },
  {
   "cell_type": "markdown",
   "id": "24ed5cb7-2d7d-439f-b710-6d19728dd58a",
   "metadata": {},
   "source": [
    "It is the extraction of properties( data member and member functions) from base class to derived class."
   ]
  },
  {
   "cell_type": "markdown",
   "id": "1513a27e-d243-4afa-a779-e4ebc3878c5c",
   "metadata": {},
   "source": [
    "1)Simple Inheritance"
   ]
  },
  {
   "cell_type": "code",
   "execution_count": 2,
   "id": "e5b274df-a0fd-4b75-9a4c-eba7bb970f4c",
   "metadata": {},
   "outputs": [],
   "source": [
    "class father:\n",
    "    def father_method(self):\n",
    "        print(\"I am father\")\n"
   ]
  },
  {
   "cell_type": "code",
   "execution_count": 4,
   "id": "c3f11b42-53fa-46fc-9bb5-4ceced586f0e",
   "metadata": {},
   "outputs": [],
   "source": [
    "class son(father):\n",
    "    def son(self):\n",
    "        print(\" I am son\")"
   ]
  },
  {
   "cell_type": "code",
   "execution_count": 5,
   "id": "b6fc35a6-c7c2-4c5c-845a-e28b8bbe5926",
   "metadata": {},
   "outputs": [],
   "source": [
    "s=son()"
   ]
  },
  {
   "cell_type": "code",
   "execution_count": 6,
   "id": "6569e617-05a2-4f08-ae87-9dacafd01e57",
   "metadata": {},
   "outputs": [
    {
     "name": "stdout",
     "output_type": "stream",
     "text": [
      " I am son\n"
     ]
    }
   ],
   "source": [
    "s.son()"
   ]
  },
  {
   "cell_type": "code",
   "execution_count": 7,
   "id": "f95f4ddb-ed9a-4b19-91dc-20311be454f3",
   "metadata": {},
   "outputs": [
    {
     "name": "stdout",
     "output_type": "stream",
     "text": [
      "I am father\n"
     ]
    }
   ],
   "source": [
    "s.father_method()"
   ]
  },
  {
   "cell_type": "markdown",
   "id": "77bd31fc-1c6d-4432-b85c-1833c122089b",
   "metadata": {},
   "source": [
    "2)Multiple Inheritance"
   ]
  },
  {
   "cell_type": "code",
   "execution_count": 10,
   "id": "79078b22-aed9-4bba-8463-11842e57b969",
   "metadata": {},
   "outputs": [],
   "source": [
    "class vehicle:\n",
    "    def vehicle(self):\n",
    "        print(\"Vehicle method\")"
   ]
  },
  {
   "cell_type": "code",
   "execution_count": 11,
   "id": "2279b28a-6265-46ca-8d1b-9ac99d495234",
   "metadata": {},
   "outputs": [],
   "source": [
    "class vehicle2:\n",
    "    def vehicle2(self):\n",
    "        print(\"vehicle2 method\")"
   ]
  },
  {
   "cell_type": "code",
   "execution_count": 13,
   "id": "db28db4f-285b-4856-921c-5effb055659b",
   "metadata": {},
   "outputs": [],
   "source": [
    "class car(vehicle,vehicle2):\n",
    "    def car(self):\n",
    "        print(\"car method\")"
   ]
  },
  {
   "cell_type": "code",
   "execution_count": 14,
   "id": "6f356d42-2c0a-4f4f-9535-f09e5c11c52f",
   "metadata": {},
   "outputs": [],
   "source": [
    "c=car()"
   ]
  },
  {
   "cell_type": "code",
   "execution_count": 15,
   "id": "2a1d438a-10bf-4ec8-a743-4774721ce5e5",
   "metadata": {},
   "outputs": [
    {
     "name": "stdout",
     "output_type": "stream",
     "text": [
      "car method\n"
     ]
    }
   ],
   "source": [
    "c.car()"
   ]
  },
  {
   "cell_type": "code",
   "execution_count": 16,
   "id": "7e696158-dc91-4e82-9862-1b8d759cf3fb",
   "metadata": {},
   "outputs": [
    {
     "name": "stdout",
     "output_type": "stream",
     "text": [
      "Vehicle method\n"
     ]
    }
   ],
   "source": [
    "c.vehicle()"
   ]
  },
  {
   "cell_type": "code",
   "execution_count": 17,
   "id": "c299ff9d-c263-4a54-a0cc-650db193621c",
   "metadata": {},
   "outputs": [
    {
     "name": "stdout",
     "output_type": "stream",
     "text": [
      "vehicle2 method\n"
     ]
    }
   ],
   "source": [
    "c.vehicle2()"
   ]
  },
  {
   "cell_type": "markdown",
   "id": "b20e590a-0d80-41c8-8f89-56235fde130b",
   "metadata": {},
   "source": [
    "3)Multilevel Inheritance"
   ]
  },
  {
   "cell_type": "code",
   "execution_count": 18,
   "id": "f5d430f1-9d62-412f-a8c5-f9335cf96848",
   "metadata": {},
   "outputs": [],
   "source": [
    "class player:\n",
    "    def player_method(self):\n",
    "        print('player method')"
   ]
  },
  {
   "cell_type": "code",
   "execution_count": 19,
   "id": "44802272-cffd-4477-8f47-c3d3b4f4cd21",
   "metadata": {},
   "outputs": [],
   "source": [
    "class cricket(player):\n",
    "    def cric_method(self):\n",
    "        print('cricket method')"
   ]
  },
  {
   "cell_type": "code",
   "execution_count": 20,
   "id": "591230d7-65a6-45b2-a218-465ac413feff",
   "metadata": {},
   "outputs": [],
   "source": [
    "class football(cricket):\n",
    "    def foot_method(self):\n",
    "        print('football method')"
   ]
  },
  {
   "cell_type": "code",
   "execution_count": 21,
   "id": "2c436ac6-d5df-4508-a530-7d3955b4feb3",
   "metadata": {},
   "outputs": [],
   "source": [
    "cr=football()"
   ]
  },
  {
   "cell_type": "code",
   "execution_count": 22,
   "id": "7e6ec532-c795-484d-80b8-128bea65fee7",
   "metadata": {},
   "outputs": [
    {
     "name": "stdout",
     "output_type": "stream",
     "text": [
      "football method\n"
     ]
    }
   ],
   "source": [
    "cr.foot_method()"
   ]
  },
  {
   "cell_type": "code",
   "execution_count": 23,
   "id": "cc907d5e-1bad-4d3b-8324-8212f4c731ea",
   "metadata": {},
   "outputs": [
    {
     "name": "stdout",
     "output_type": "stream",
     "text": [
      "cricket method\n"
     ]
    }
   ],
   "source": [
    "cr.cric_method()"
   ]
  },
  {
   "cell_type": "code",
   "execution_count": 24,
   "id": "e551b7b4-f3bc-490f-bf65-0398026348ac",
   "metadata": {},
   "outputs": [
    {
     "name": "stdout",
     "output_type": "stream",
     "text": [
      "player method\n"
     ]
    }
   ],
   "source": [
    "cr.player_method()"
   ]
  },
  {
   "cell_type": "markdown",
   "id": "125f8016-022f-4886-8672-25ec1003670b",
   "metadata": {},
   "source": [
    "4)Hierarichal Inheritance"
   ]
  },
  {
   "cell_type": "code",
   "execution_count": 25,
   "id": "7529b94d-6d21-4e53-ac68-87a2f9eb608d",
   "metadata": {},
   "outputs": [],
   "source": [
    "class a:\n",
    "    def a_meth(self):\n",
    "        print(\"a method\")"
   ]
  },
  {
   "cell_type": "code",
   "execution_count": 28,
   "id": "41701a80-e0af-49cd-aaff-7030aee4ce70",
   "metadata": {},
   "outputs": [],
   "source": [
    "class b(a):\n",
    "    def b_method(self):\n",
    "        print(\"b method\")"
   ]
  },
  {
   "cell_type": "code",
   "execution_count": 29,
   "id": "9df5345a-38ef-403a-ac9c-12adffecd422",
   "metadata": {},
   "outputs": [],
   "source": [
    "class c(a):\n",
    "    def c_method(self):\n",
    "        print(\"c method\")"
   ]
  },
  {
   "cell_type": "code",
   "execution_count": 30,
   "id": "1de9f0c8-82f4-4a61-bd55-4f33447ebb1f",
   "metadata": {},
   "outputs": [],
   "source": [
    "c_obj=c()\n",
    "b_obj=b()"
   ]
  },
  {
   "cell_type": "code",
   "execution_count": 31,
   "id": "93d0e2cc-2929-4719-94bb-56727da9ac90",
   "metadata": {},
   "outputs": [
    {
     "name": "stdout",
     "output_type": "stream",
     "text": [
      "a method\n"
     ]
    }
   ],
   "source": [
    "c_obj.a_meth()"
   ]
  },
  {
   "cell_type": "code",
   "execution_count": 32,
   "id": "3ee6b21e-0d9c-443d-ba70-035c98f00842",
   "metadata": {},
   "outputs": [
    {
     "name": "stdout",
     "output_type": "stream",
     "text": [
      "c method\n"
     ]
    }
   ],
   "source": [
    "c_obj.c_method()"
   ]
  },
  {
   "cell_type": "code",
   "execution_count": 33,
   "id": "44470699-24c8-4525-be05-5f2d263317f1",
   "metadata": {},
   "outputs": [
    {
     "name": "stdout",
     "output_type": "stream",
     "text": [
      "a method\n",
      "b method\n"
     ]
    }
   ],
   "source": [
    "b_obj.a_meth()\n",
    "b_obj.b_method()"
   ]
  },
  {
   "cell_type": "markdown",
   "id": "f5517ed2-dfd3-4a8c-bf9f-a23504a83923",
   "metadata": {},
   "source": [
    "5)Hybrid Inheritance"
   ]
  },
  {
   "cell_type": "code",
   "execution_count": 34,
   "id": "5c092ffc-7963-415f-adec-11faaa567199",
   "metadata": {},
   "outputs": [
    {
     "ename": "NameError",
     "evalue": "name 'B' is not defined",
     "output_type": "error",
     "traceback": [
      "\u001b[0;31m---------------------------------------------------------------------------\u001b[0m",
      "\u001b[0;31mNameError\u001b[0m                                 Traceback (most recent call last)",
      "Cell \u001b[0;32mIn[34], line 10\u001b[0m\n\u001b[1;32m      7\u001b[0m     \u001b[38;5;28;01mdef\u001b[39;00m \u001b[38;5;21mmethod_C\u001b[39m(\u001b[38;5;28mself\u001b[39m):\n\u001b[1;32m      8\u001b[0m         \u001b[38;5;28;01mreturn\u001b[39;00m \u001b[38;5;124m\"\u001b[39m\u001b[38;5;124mMethod C from class C\u001b[39m\u001b[38;5;124m\"\u001b[39m\n\u001b[0;32m---> 10\u001b[0m \u001b[38;5;28;01mclass\u001b[39;00m \u001b[38;5;21;01mD\u001b[39;00m(\u001b[43mB\u001b[49m, C):\n\u001b[1;32m     11\u001b[0m     \u001b[38;5;28;01mdef\u001b[39;00m \u001b[38;5;21mmethod_D\u001b[39m(\u001b[38;5;28mself\u001b[39m):\n\u001b[1;32m     12\u001b[0m         \u001b[38;5;28;01mreturn\u001b[39;00m \u001b[38;5;124m\"\u001b[39m\u001b[38;5;124mMethod D from class D\u001b[39m\u001b[38;5;124m\"\u001b[39m\n",
      "\u001b[0;31mNameError\u001b[0m: name 'B' is not defined"
     ]
    }
   ],
   "source": [
    "class A:\n",
    "    def method_A(self):\n",
    "        return \"Method A from class A\"\n",
    "\n",
    "\n",
    "\n",
    "\n",
    "\n"
   ]
  },
  {
   "cell_type": "code",
   "execution_count": 35,
   "id": "eb8eaecc-39d7-46a2-8fce-4bf52b052046",
   "metadata": {},
   "outputs": [],
   "source": [
    "class B(A):\n",
    "    def method_B(self):\n",
    "        return \"Method B from class B\"\n"
   ]
  },
  {
   "cell_type": "code",
   "execution_count": 36,
   "id": "4284caa2-1309-490a-8abd-3d47566c93dc",
   "metadata": {},
   "outputs": [],
   "source": [
    "class C(A):\n",
    "    def method_C(self):\n",
    "        return \"Method C from class C\"\n"
   ]
  },
  {
   "cell_type": "code",
   "execution_count": 37,
   "id": "d5a2388a-4a62-4bce-a51f-fbc3fc13a668",
   "metadata": {},
   "outputs": [],
   "source": [
    "class D(B, C):\n",
    "    def method_D(self):\n",
    "        return \"Method D from class D\"\n"
   ]
  },
  {
   "cell_type": "code",
   "execution_count": null,
   "id": "4d93debf-d068-42a3-b851-abe9e988ee85",
   "metadata": {},
   "outputs": [],
   "source": [
    "obj = D()\n",
    "obj.method_A() \n",
    "obj.method_B() \n",
    "print(obj.method_C())  \n",
    "print(obj.method_D())  "
   ]
  }
 ],
 "metadata": {
  "kernelspec": {
   "display_name": "Python 3 (ipykernel)",
   "language": "python",
   "name": "python3"
  },
  "language_info": {
   "codemirror_mode": {
    "name": "ipython",
    "version": 3
   },
   "file_extension": ".py",
   "mimetype": "text/x-python",
   "name": "python",
   "nbconvert_exporter": "python",
   "pygments_lexer": "ipython3",
   "version": "3.10.8"
  }
 },
 "nbformat": 4,
 "nbformat_minor": 5
}
