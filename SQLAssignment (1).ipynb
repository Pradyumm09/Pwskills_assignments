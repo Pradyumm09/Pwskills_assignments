{
 "cells": [
  {
   "cell_type": "markdown",
   "id": "6edc0081-e0f5-4b9f-9656-2540353707c3",
   "metadata": {},
   "source": [
    "Q1. What is a database? Differentiate between SQL and NoSQL databases."
   ]
  },
  {
   "cell_type": "markdown",
   "id": "0374e078-c6bd-463a-b377-e82f22ab63c5",
   "metadata": {},
   "source": [
    "A database is a structured collection of data that is organized and stored in a computer system. Databases are designed to efficiently store, retrieve, and manage data, making it easy to perform various operations on the data, such as querying, updating, and deleting. Databases are an essential component of most software applications and are used to store information ranging from simple lists to complex, interconnected datasets."
   ]
  },
  {
   "cell_type": "markdown",
   "id": "e31b55f2-1400-444a-a3dd-2ac9ec28b88e",
   "metadata": {},
   "source": [
    "SQL (Structured Query Language) Databases:\n",
    "\n",
    "i)SQL databases are relational databases that use structured tables to store data.\n",
    "\n",
    "\n",
    "ii)They follow a fixed schema, meaning the structure of the data is defined in advance with a specified schema that includes tables, columns, and relationships between tables.\n",
    "\n",
    "\n",
    "iii)SQL databases are typically used for applications where data consistency, transactional integrity, and complex querying are essential, such as banking systems and e-commerce platforms.\n",
    "\n",
    "\n",
    "iv)Examples of SQL databases include MySQL, PostgreSQL, Oracle Database, and Microsoft SQL Server.\n"
   ]
  },
  {
   "cell_type": "markdown",
   "id": "eae538da-83b6-4f71-b6dc-c3acf6ca0465",
   "metadata": {},
   "source": [
    "NoSQL (Not Only SQL) Databases:\n",
    "\n",
    "i)NoSQL databases are non-relational databases that offer more flexibility in data storage and retrieval.\n",
    "\n",
    "\n",
    "ii)They do not require a fixed schema and can handle unstructured or semi-structured data.\n",
    "\n",
    "\n",
    "iii)NoSQL databases are often used for applications that involve large volumes of data, real-time data, and scalability, such as social media platforms, content management systems, and big data applications.\n",
    "\n",
    "\n",
    "iv)There are different types of NoSQL databases, including document-oriented, key-value, column-family, and graph databases.\n",
    "\n",
    "\n",
    "v)Examples of NoSQL databases include MongoDB, Cassandra, Redis, and Neo4j."
   ]
  },
  {
   "cell_type": "markdown",
   "id": "0d6e70fc-a6e8-49d9-b940-bf9c924a83fc",
   "metadata": {},
   "source": [
    "Q2. What is DDL? Explain why CREATE, DROP, ALTER, and TRUNCATE are used with an example."
   ]
  },
  {
   "cell_type": "markdown",
   "id": "2b5d4730-fb99-4918-af4e-4a52f92cc971",
   "metadata": {},
   "source": [
    "DDL (Data Definition Language) is a subset of SQL (Structured Query Language) that is used to define, manage, and manipulate the structure of a database. DDL statements are responsible for creating, altering, and deleting database objects such as tables, indexes, and constraints. These statements allow database administrators and developers to define the schema of the database and specify how data should be organized."
   ]
  },
  {
   "cell_type": "markdown",
   "id": "a8b26e3e-43a9-4415-bf97-458d0e7daec1",
   "metadata": {},
   "source": [
    "CREATE: The CREATE statement is used to create new database objects, such as tables, indexes, or views.\n",
    " \n",
    "CREATE TABLE EMPLOYEE(EID INT PRIMARY KEY,\n",
    "                      ENAME VARCHAR(40),\n",
    "                      SAL NUMBER,\n",
    "                      HIRE_DATE DATE);"
   ]
  },
  {
   "cell_type": "markdown",
   "id": "34d94635-a329-459f-985a-9fff9abfce5c",
   "metadata": {},
   "source": [
    "DROP: The DROP statement is used to delete existing database objects, such as tables, indexes, or views.\n",
    "\n",
    "DROP TABLE EMPLOYEE;"
   ]
  },
  {
   "cell_type": "markdown",
   "id": "ecc0b025-62aa-4efa-9d36-9b5acbd74b2d",
   "metadata": {},
   "source": [
    "ALTER: The ALTER statement is used to modify the structure of an existing database object, such as adding, modifying, or deleting columns in a table.\n",
    "\n",
    "ALTER TABLE EMPLOYEE ADD COLUMN EMAIL VARCHAR(100);"
   ]
  },
  {
   "cell_type": "markdown",
   "id": "f84ef660-e49d-40d1-acef-3474ae6e4d99",
   "metadata": {},
   "source": [
    "TRUNCATE: The TRUNCATE statement is used to remove all rows from a table while retaining the table structure. It is faster than the DELETE statement, as it does not log individual row deletions.\n",
    "\n",
    "TRUNCATE TABLE EMPLOYEE;"
   ]
  },
  {
   "cell_type": "markdown",
   "id": "95211158-90de-42f6-a0db-13a5a125a018",
   "metadata": {},
   "source": [
    "Q3. What is DML? Explain INSERT, UPDATE, and DELETE with an example."
   ]
  },
  {
   "cell_type": "markdown",
   "id": "bdc51560-e741-4d88-9e1d-e1173e4e2f29",
   "metadata": {},
   "source": [
    "DML (Data Manipulation Language) is a subset of SQL (Structured Query Language) used to manipulate data stored in a database. DML statements are responsible for inserting, updating, and deleting data within database tables. These statements allow you to perform various operations on the data, ensuring that it remains accurate and up-to-date."
   ]
  },
  {
   "cell_type": "markdown",
   "id": "19d52e96-4d27-48ac-8815-07c37d5aea2b",
   "metadata": {},
   "source": [
    "INSERT: The INSERT statement is used to add new rows of data into a database table.\n",
    "\n",
    "INSERT INTO EMPLOYEE VALUES(101,'AMAR',90000,'20-SEPT-2023');"
   ]
  },
  {
   "cell_type": "markdown",
   "id": "5e980c35-d85c-4682-a404-c32eff9e5f58",
   "metadata": {},
   "source": [
    "UPDATE: The UPDATE statement is used to modify existing data in a database table.\n",
    "\n",
    "UPDATE EMPLOYEE\n",
    "SET SAL=SAL+4000\n",
    "WHERE EID=101;"
   ]
  },
  {
   "cell_type": "markdown",
   "id": "5f3d0409-c9c9-4e90-8497-0b201f2bec3a",
   "metadata": {},
   "source": [
    "DELETE: The DELETE statement is used to remove rows from a database table based on specified conditions.\n",
    "\n",
    "DELETE FROM EMPLOYEE\n",
    "WHERE EID=102;"
   ]
  },
  {
   "cell_type": "markdown",
   "id": "039dc737-c054-4514-a900-677ea37f82c0",
   "metadata": {},
   "source": [
    "Q4. What is DQL? Explain SELECT with an example."
   ]
  },
  {
   "cell_type": "markdown",
   "id": "4c38b7c3-f222-4e10-9c68-d7d507be40b0",
   "metadata": {},
   "source": [
    "DQL (Data Query Language) is a subset of SQL (Structured Query Language) used to retrieve and query data from a database. DQL statements are responsible for querying one or more database tables to fetch specific data based on specified criteria. The primary DQL statement is the SELECT statement, which allows you to retrieve data from one or more tables. "
   ]
  },
  {
   "cell_type": "markdown",
   "id": "e0715149-a3ef-4d2e-9ac2-d8ce637fe606",
   "metadata": {},
   "source": [
    "SELECT: \n",
    "\n",
    "The SELECT statement is used to retrieve data from one or more tables in a database.\n",
    "\n",
    "It allows you to specify which columns to retrieve, the table from which to retrieve data, and optional conditions to filter the data.\n",
    "\n",
    "SELECT * FROM EMPLOYEE;"
   ]
  },
  {
   "cell_type": "markdown",
   "id": "a2dbaeca-eeaa-4895-892b-df63af156c25",
   "metadata": {},
   "source": [
    "Q5. Explain Primary Key and Foreign Key."
   ]
  },
  {
   "cell_type": "markdown",
   "id": "82769451-406c-4a75-b7ae-573945b891eb",
   "metadata": {},
   "source": [
    "Primary Key:\n",
    "\n",
    "i)A Primary Key is a column or set of columns in a relational database table that uniquely identifies each row or record in that table.\n",
    "\n",
    "\n",
    "ii)It enforces the entity integrity constraint, ensuring that each record in the table is unique.\n",
    "\n",
    "\n",
    "iii)Primary keys are used to identify records and establish relationships between tables in a database.\n",
    "\n",
    "\n",
    "iv)Primary keys must contain unique values (no duplicates) and cannot contain NULL values.\n",
    "\n",
    "\n",
    "v)Typically, a primary key is created using one or more columns that uniquely identify each row."
   ]
  },
  {
   "cell_type": "markdown",
   "id": "b331b574-15a0-4c34-9935-0fda84c00703",
   "metadata": {},
   "source": [
    "CREATE TABLE STUDENTS(SID NUMBER PRIMARY KEY, FIRST_NAME VARCHAR(30), LAST_NAME VARCHAR(40), BIRTH_DATE DATE);"
   ]
  },
  {
   "cell_type": "markdown",
   "id": "6d9beb52-0c07-4867-bf66-57a12503cc2b",
   "metadata": {},
   "source": [
    "Foreign Key:\n",
    "\n",
    "i)A Foreign Key is a column or set of columns in a database table that establishes a link between data in two tables.\n",
    "\n",
    "ii)It enforces referential integrity, ensuring that the data in the foreign key column(s) corresponds to the values in the primary key column(s) of another table.\n",
    "\n",
    "\n",
    "iii)Foreign keys are used to create relationships between tables, defining how data in one table relates to data in another table.\n",
    "\n",
    "iv)They help maintain data consistency and integrity by preventing actions that would lead to orphaned or inconsistent data.\n",
    "\n",
    "\n",
    "v)Foreign keys are often used to implement one-to-many or many-to-one relationships between tables."
   ]
  },
  {
   "cell_type": "markdown",
   "id": "1f785f5e-53ba-41e3-9d2d-22533c8d9a24",
   "metadata": {},
   "source": [
    "CREATE TABLE students (\n",
    "    student_id INT PRIMARY KEY,\n",
    "    first_name VARCHAR(50),\n",
    "    last_name VARCHAR(50)\n",
    ");\n",
    "\n",
    "CREATE TABLE courses (\n",
    "    course_id INT PRIMARY KEY,\n",
    "    course_name VARCHAR(100),\n",
    "    student_id INT,\n",
    "    FOREIGN KEY (student_id) REFERENCES students(student_id)\n",
    ");\n"
   ]
  },
  {
   "cell_type": "markdown",
   "id": "fa1facc3-f1dc-4f9b-8a8e-ce42bf976af3",
   "metadata": {},
   "source": [
    "Q6. Write a python code to connect MySQL to python. Explain the cursor() and execute() method."
   ]
  },
  {
   "cell_type": "markdown",
   "id": "478258b5-16a6-48a5-b059-50ad4cd95b8d",
   "metadata": {},
   "source": [
    "import mysql.connector\n",
    "\n",
    "\n",
    "db_config = {\n",
    "    \"host\": \"localhost\",       \n",
    "    \"user\": \"your_username\",   \n",
    "    \"password\": \"your_password\",  \n",
    "    \"database\": \"your_database\"   \n",
    "}\n",
    "\n",
    "try:\n",
    "    connection = mysql.connector.connect(**db_config)\n",
    "    cursor = connection.cursor()\n",
    "    cursor.execute(\"SELECT * FROM employees\") \n",
    "\n",
    "    results = cursor.fetchall()\n",
    "    for row in results:\n",
    "        print(row)\n",
    "\n",
    "    \n",
    "    cursor.close()\n",
    "    connection.close()\n",
    "\n",
    "except mysql.connector.Error as err:\n",
    "    print(\"Error:\", err)\n"
   ]
  },
  {
   "cell_type": "markdown",
   "id": "a88d0e5b-d3bd-4cf6-887a-80c82aa530ce",
   "metadata": {},
   "source": [
    "The cursor() method creates a cursor object that acts as a pointer to a specific location in the database. The execute() method is used to send SQL queries to the database for execution. "
   ]
  },
  {
   "cell_type": "markdown",
   "id": "3e6b5f2b-0cdd-46b7-9dec-b1c227b3d7f3",
   "metadata": {},
   "source": [
    "Q7. Give the order of execution of SQL clauses in an SQL query."
   ]
  },
  {
   "cell_type": "markdown",
   "id": "c75f74e1-1c4c-44b5-8ad5-46d86911b7b9",
   "metadata": {},
   "source": [
    "FROM Clause:\n",
    "The FROM clause specifies the tables or data sources from which you want to retrieve data. It identifies the primary source of data for the query.\n",
    "\n",
    "JOIN Clause (if applicable):\n",
    "If you need to combine data from multiple tables, you can use the JOIN clause to specify how the tables are related and how the data should be joined.\n",
    "\n",
    "WHERE Clause:\n",
    "The WHERE clause is used to filter rows from the tables specified in the FROM clause. It defines the conditions that must be met for a row to be included in the result set.\n",
    "\n",
    "GROUP BY Clause (if applicable):\n",
    "The GROUP BY clause is used to group rows with similar values in one or more columns into summary rows. It is often followed by aggregate functions like SUM, COUNT, or AVG.\n",
    "\n",
    "HAVING Clause (if applicable):\n",
    "The HAVING clause is used to filter groups generated by the GROUP BY clause based on aggregate function results.\n",
    "\n",
    "SELECT Clause:\n",
    "The SELECT clause specifies the columns you want to retrieve in the result set. It can include expressions, calculations, and aliases.\n",
    "\n",
    "DISTINCT Keyword (if applicable):\n",
    "The DISTINCT keyword is used to remove duplicate rows from the result set, ensuring that only unique rows are returned.\n",
    "\n",
    "ORDER BY Clause (if applicable):\n",
    "The ORDER BY clause is used to sort the result set based on one or more columns. It specifies the sorting order, such as ascending (ASC) or descending (DESC).\n",
    "\n",
    "LIMIT/OFFSET Clause (if applicable):\n",
    "The LIMIT clause is used to restrict the number of rows returned in the result set. It is often used in conjunction with the OFFSET clause to implement pagination.\n",
    "\n",
    "UNION/INTERSECT/EXCEPT (if applicable):\n",
    "If you are combining the results of multiple queries, you can use UNION, INTERSECT, or EXCEPT operators to merge and deduplicate rows from different queries.\n"
   ]
  }
 ],
 "metadata": {
  "kernelspec": {
   "display_name": "Python 3 (ipykernel)",
   "language": "python",
   "name": "python3"
  },
  "language_info": {
   "codemirror_mode": {
    "name": "ipython",
    "version": 3
   },
   "file_extension": ".py",
   "mimetype": "text/x-python",
   "name": "python",
   "nbconvert_exporter": "python",
   "pygments_lexer": "ipython3",
   "version": "3.10.8"
  }
 },
 "nbformat": 4,
 "nbformat_minor": 5
}
