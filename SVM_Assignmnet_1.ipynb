{
 "cells": [
  {
   "cell_type": "markdown",
   "id": "a45e49d6-ed99-4190-8636-0aa23c0ce78b",
   "metadata": {},
   "source": [
    "Q1. What is the mathematical formula for a linear SVM?"
   ]
  },
  {
   "cell_type": "markdown",
   "id": "5f6d6d5e-9977-4f81-a5ea-753d3b35981a",
   "metadata": {},
   "source": [
    "The mathematical formula for a linear Support Vector Machine (SVM) can be expressed as:\n",
    "\n",
    "\\[ f(x) = \\text{sign}(\\mathbf{w} \\cdot \\mathbf{x} + b) \\]\n",
    "\n",
    "where:\n",
    "- \\( f(x) \\) is the decision function that classifies input \\( x \\).\n",
    "- \\( \\mathbf{w} \\) is the weight vector.\n",
    "- \\( \\mathbf{x} \\) is the input vector.\n",
    "- \\( b \\) is the bias term.\n",
    "- \\( \\text{sign}() \\) is the sign function, which returns +1 if the input is positive, -1 if it's negative, and 0 if it's zero.\n",
    "\n",
    "The decision function \\( f(x) \\) classifies \\( x \\) as belonging to one of two classes, typically represented as +1 or -1, based on the sign of the expression \\( \\mathbf{w} \\cdot \\mathbf{x} + b \\). The vectors \\( \\mathbf{w} \\) and the scalar \\( b \\) are determined during the training process of the SVM algorithm."
   ]
  },
  {
   "cell_type": "markdown",
   "id": "c04fcb6d-f1e7-4f8d-b872-130bc8130947",
   "metadata": {},
   "source": [
    "Q2. What is the objective function of a linear SVM?"
   ]
  },
  {
   "cell_type": "markdown",
   "id": "b4390dc4-39d0-494c-946c-52df26b132e7",
   "metadata": {},
   "source": [
    "The objective function of a linear Support Vector Machine (SVM) typically aims to maximize the margin between the classes while minimizing the classification error. Mathematically, the objective function can be formulated as:\n",
    "\n",
    "\\[ \\text{minimize} \\frac{1}{2} ||\\mathbf{w}||^2 + C \\sum_{i=1}^{N} \\xi_i \\]\n",
    "\n",
    "subject to:\n",
    "\n",
    "\\[ y_i(\\mathbf{w} \\cdot \\mathbf{x}_i + b) \\geq 1 - \\xi_i \\]\n",
    "\\[ \\xi_i \\geq 0 \\]\n",
    "\n",
    "where:\n",
    "- \\( \\mathbf{w} \\) is the weight vector.\n",
    "- \\( b \\) is the bias term.\n",
    "- \\( \\xi_i \\) are slack variables representing the classification errors for each data point \\( \\mathbf{x}_i \\).\n",
    "- \\( C \\) is a regularization parameter that controls the trade-off between maximizing the margin and minimizing the classification error. Higher values of \\( C \\) penalize misclassifications more heavily.\n",
    "- \\( N \\) is the number of data points.\n",
    "- \\( y_i \\) is the true class label of the \\( i \\)-th data point \\( \\mathbf{x}_i \\), where \\( y_i = +1 \\) or \\( y_i = -1 \\).\n",
    "\n",
    "The objective function aims to minimize the norm of the weight vector \\( \\mathbf{w} \\) (which corresponds to maximizing the margin) while also penalizing misclassifications through the slack variables \\( \\xi_i \\). The parameter \\( C \\) balances between the desire to have a larger margin and the tolerance for misclassifications."
   ]
  },
  {
   "cell_type": "markdown",
   "id": "dcce181f-1886-4629-9346-e5fa600e3504",
   "metadata": {},
   "source": [
    "Q3. What is the kernel trick in SVM?"
   ]
  },
  {
   "cell_type": "markdown",
   "id": "883d8e05-fa24-4b56-8fbb-b88d804c79b1",
   "metadata": {},
   "source": [
    "The kernel trick is a technique used in Support Vector Machines (SVMs) to implicitly map data points into higher-dimensional feature spaces without explicitly calculating the transformation. This is particularly useful when the data is not linearly separable in its original feature space.\n",
    "\n",
    "In a linear SVM, the decision boundary is a hyperplane that separates the classes. However, in cases where the data is not linearly separable, applying a transformation to a higher-dimensional space may make it separable. The kernel trick allows SVMs to work in this higher-dimensional space without explicitly computing the transformation, thus avoiding the computational complexity associated with it.\n",
    "\n",
    "Mathematically, instead of directly computing the dot product between feature vectors in the high-dimensional space, the kernel function \\( K(\\mathbf{x}_i, \\mathbf{x}_j) \\) is used to implicitly calculate the dot product. The kernel function calculates the similarity between two feature vectors in the original space and allows SVMs to operate efficiently in the higher-dimensional space without explicitly transforming the data.\n",
    "\n",
    "Commonly used kernel functions include:\n",
    "1. Linear kernel: \\( K(\\mathbf{x}_i, \\mathbf{x}_j) = \\mathbf{x}_i^T \\cdot \\mathbf{x}_j \\)\n",
    "2. Polynomial kernel: \\( K(\\mathbf{x}_i, \\mathbf{x}_j) = (\\gamma \\mathbf{x}_i^T \\cdot \\mathbf{x}_j + r)^d \\)\n",
    "3. Radial Basis Function (RBF) kernel: \\( K(\\mathbf{x}_i, \\mathbf{x}_j) = \\exp(-\\gamma ||\\mathbf{x}_i - \\mathbf{x}_j||^2) \\)\n",
    "4. Sigmoid kernel: \\( K(\\mathbf{x}_i, \\mathbf{x}_j) = \\text{tanh}(\\gamma \\mathbf{x}_i^T \\cdot \\mathbf{x}_j + r) \\)\n",
    "\n",
    "The choice of kernel function and its parameters (such as \\( \\gamma \\) and \\( r \\) for the polynomial and sigmoid kernels) can significantly impact the performance of the SVM classifier. The kernel trick allows SVMs to capture complex nonlinear relationships in the data, making them powerful tools for classification and regression tasks."
   ]
  },
  {
   "cell_type": "markdown",
   "id": "3b76d636-4b97-4a93-b36d-aee4deed0831",
   "metadata": {},
   "source": [
    "Q4. What is the role of support vectors in SVM Explain with example"
   ]
  },
  {
   "cell_type": "markdown",
   "id": "c34464c7-d27b-451f-aa0e-805221c368ed",
   "metadata": {},
   "source": [
    "In a Support Vector Machine (SVM), support vectors are the data points that lie closest to the decision boundary (hyperplane) between different classes. They play a crucial role in defining the decision boundary and determining the optimal separation of classes.\n",
    "\n",
    "Here's an explanation with an example:\n",
    "\n",
    "Consider a simple binary classification problem where we have two classes, represented by blue and red points on a 2D plane:\n",
    "\n",
    "\n",
    "In this example, the blue points belong to one class (Class A) and the red points belong to another class (Class B). We want to find a decision boundary (hyperplane) that best separates the two classes.\n",
    "\n",
    "In a linear SVM, the decision boundary is defined by a hyperplane. The support vectors are the data points (circled in the image below) that lie closest to this hyperplane. These support vectors determine the position and orientation of the decision boundary.\n",
    "\n",
    "\n",
    "\n",
    "In this case, the support vectors are the points circled in the image. They define the margin of the hyperplane, which is the distance between the hyperplane and the closest data points from each class. The optimal decision boundary is the one that maximizes this margin while minimizing classification error.\n",
    "\n",
    "The role of support vectors in SVM can be summarized as follows:\n",
    "\n",
    "1. **Defining the Decision Boundary**: The position and orientation of the decision boundary are determined by the support vectors.\n",
    "\n",
    "2. **Determining the Margin**: The margin of the hyperplane, which represents the distance between the decision boundary and the support vectors, is maximized in SVM. This margin helps improve the generalization performance of the classifier.\n",
    "\n",
    "3. **Supporting the Classification**: During the classification process, only the support vectors are used to determine the class of new data points. This reduces the computational complexity of the SVM algorithm.\n",
    "\n",
    "Support vectors are crucial in SVM because they represent the most informative points in the dataset for determining the decision boundary. By focusing on these critical points, SVM can achieve good generalization performance even in high-dimensional feature spaces and with complex data distributions."
   ]
  },
  {
   "cell_type": "markdown",
   "id": "5fdb7801-9c60-4a3c-9d4a-997ac7b6fe2e",
   "metadata": {},
   "source": [
    "Q5. Illustrate with examples and graphs of Hyperplane, Marginal plane, Soft margin and Hard margin in\n",
    "SVM?"
   ]
  },
  {
   "cell_type": "markdown",
   "id": "b261b873-fbc1-448d-8de2-643ade73006e",
   "metadata": {},
   "source": [
    "Let's illustrate the concepts of hyperplane, marginal plane, soft margin, and hard margin in Support Vector Machines (SVM) with examples and graphs.\n",
    "\n",
    "1. **Hyperplane**:\n",
    "   - In SVM, a hyperplane is a decision boundary that separates the data points of different classes.\n",
    "   - In a binary classification problem with two classes, a hyperplane is a flat affine subspace of one dimension less than the input space.\n",
    "   - For example, in a 2D space, the hyperplane is a line, and in a 3D space, it's a plane.\n",
    "   - Below is an example of a hyperplane separating two classes in a 2D space:\n",
    "\n",
    "  \n",
    "\n",
    "2. **Marginal Plane**:\n",
    "   - The marginal plane in SVM is the plane parallel to the hyperplane and equidistant from the support vectors.\n",
    "   - It defines the maximum margin between the classes.\n",
    "   - Here's an example illustrating the marginal plane and the margin in a 2D space:\n",
    "\n",
    "   \n",
    "\n",
    "3. **Hard Margin**:\n",
    "   - In a hard-margin SVM, the goal is to find a hyperplane that perfectly separates the two classes without any misclassification.\n",
    "   - This approach is suitable when the data is linearly separable.\n",
    "   - Below is an example of a hard-margin SVM where a linear hyperplane perfectly separates the two classes:\n",
    "\n",
    "   \n",
    "\n",
    "4. **Soft Margin**:\n",
    "   - In a soft-margin SVM, the goal is to find a hyperplane that separates the classes with the maximum margin while allowing some misclassifications (errors).\n",
    "   - This approach is suitable when the data is not perfectly separable or when there is noise in the data.\n",
    "   - The regularization parameter \\( C \\) controls the trade-off between maximizing the margin and minimizing the classification error.\n",
    "   - Here's an example of a soft-margin SVM with a non-linearly separable dataset:\n",
    "\n",
    "   \n",
    "\n",
    "In summary, hyperplane, marginal plane, soft margin, and hard margin are essential concepts in SVM. They define the decision boundary and margin between classes, and they play a crucial role in determining the optimal separation of data points in classification tasks."
   ]
  },
  {
   "cell_type": "markdown",
   "id": "00330221-e254-4cb8-86e8-d4faebfa986f",
   "metadata": {},
   "source": [
    "Q6. SVM Implementation through Iris dataset.\n",
    "~ Load the iris dataset from the scikit-learn library and split it into a training set and a testing setl\n",
    "~ Train a linear SVM classifier on the training set and predict the labels for the testing setl\n",
    "~ Compute the accuracy of the model on the testing setl\n",
    "~ Plot the decision boundaries of the trained model using two of the featuresl\n",
    "~ Try different values of the regularisation parameter C and see how it affects the performance of\n",
    "the model."
   ]
  },
  {
   "cell_type": "code",
   "execution_count": 1,
   "id": "52709a8f-18bd-45af-8e7e-b512c8bb6235",
   "metadata": {},
   "outputs": [
    {
     "name": "stdout",
     "output_type": "stream",
     "text": [
      "Accuracy: 0.8\n"
     ]
    },
    {
     "data": {
      "image/png": "[encoded data removed]",
      "text/plain": [
       "<Figure size 640x480 with 1 Axes>"
      ]
     },
     "metadata": {},
     "output_type": "display_data"
    },
    {
     "name": "stdout",
     "output_type": "stream",
     "text": [
      "C = 0.1 Accuracy: 0.8222222222222222\n",
      "C = 1 Accuracy: 0.8\n",
      "C = 10 Accuracy: 0.8\n"
     ]
    }
   ],
   "source": [
    "from sklearn.datasets import load_iris\n",
    "from sklearn.model_selection import train_test_split\n",
    "from sklearn.svm import SVC\n",
    "import numpy as np\n",
    "import matplotlib.pyplot as plt\n",
    "from matplotlib.colors import ListedColormap\n",
    "\n",
    "# Load the Iris dataset\n",
    "iris = load_iris()\n",
    "X = iris.data[:, :2]  # Only use the first two features for visualization purposes\n",
    "y = iris.target\n",
    "\n",
    "# Split the dataset into training and testing sets\n",
    "X_train, X_test, y_train, y_test = train_test_split(X, y, test_size=0.3, random_state=42)\n",
    "\n",
    "# Train a linear SVM classifier\n",
    "svm_clf = SVC(kernel='linear')\n",
    "svm_clf.fit(X_train, y_train)\n",
    "\n",
    "# Predict labels for the testing set\n",
    "y_pred = svm_clf.predict(X_test)\n",
    "\n",
    "# Compute accuracy of the model on the testing set\n",
    "accuracy = np.mean(y_pred == y_test)\n",
    "print(\"Accuracy:\", accuracy)\n",
    "\n",
    "# Plot decision boundaries of the trained model using two features\n",
    "def plot_decision_boundary(X, y, model, title):\n",
    "    cmap_light = ListedColormap(['#FFAAAA', '#AAFFAA', '#AAAAFF'])\n",
    "    cmap_bold = ListedColormap(['#FF0000', '#00FF00', '#0000FF'])\n",
    "\n",
    "    h = 0.02\n",
    "    x_min, x_max = X[:, 0].min() - 1, X[:, 0].max() + 1\n",
    "    y_min, y_max = X[:, 1].min() - 1, X[:, 1].max() + 1\n",
    "    xx, yy = np.meshgrid(np.arange(x_min, x_max, h),\n",
    "                         np.arange(y_min, y_max, h))\n",
    "    Z = model.predict(np.c_[xx.ravel(), yy.ravel()])\n",
    "\n",
    "    Z = Z.reshape(xx.shape)\n",
    "    plt.figure()\n",
    "    plt.pcolormesh(xx, yy, Z, cmap=cmap_light)\n",
    "    plt.scatter(X[:, 0], X[:, 1], c=y, cmap=cmap_bold,\n",
    "                edgecolor='k', s=20)\n",
    "    plt.xlim(xx.min(), xx.max())\n",
    "    plt.ylim(yy.min(), yy.max())\n",
    "    plt.title(title)\n",
    "    plt.xlabel('Sepal length')\n",
    "    plt.ylabel('Sepal width')\n",
    "    plt.show()\n",
    "\n",
    "plot_decision_boundary(X_train, y_train, svm_clf, title='Decision Boundary - Training Set')\n",
    "\n",
    "# Try different values of the regularisation parameter C and see how it affects the performance of the model\n",
    "C_values = [0.1, 1, 10]\n",
    "for C in C_values:\n",
    "    svm_clf = SVC(kernel='linear', C=C)\n",
    "    svm_clf.fit(X_train, y_train)\n",
    "    y_pred = svm_clf.predict(X_test)\n",
    "    accuracy = np.mean(y_pred == y_test)\n",
    "    print(\"C =\", C, \"Accuracy:\", accuracy)\n"
   ]
  },
  {
   "cell_type": "markdown",
   "id": "654b04e6-4f7d-40cc-aba6-5873da29da74",
   "metadata": {},
   "source": [
    "Bonus task: Implement a linear SVM classifier from scratch using Python and compare its\n",
    "performance with the scikit-learn implementation."
   ]
  },
  {
   "cell_type": "code",
   "execution_count": 2,
   "id": "87f49c8f-51e1-48d3-82cf-2ec087d6cfcb",
   "metadata": {},
   "outputs": [
    {
     "name": "stdout",
     "output_type": "stream",
     "text": [
      "Accuracy of Linear SVM Classifier from Scratch: 0.5777777777777777\n"
     ]
    }
   ],
   "source": [
    "import numpy as np\n",
    "\n",
    "class LinearSVM:\n",
    "    def __init__(self, learning_rate=0.01, num_iterations=1000, C=1):\n",
    "        self.learning_rate = learning_rate\n",
    "        self.num_iterations = num_iterations\n",
    "        self.C = C\n",
    "\n",
    "    def fit(self, X, y):\n",
    "        m, n = X.shape\n",
    "        self.theta = np.zeros(n)\n",
    "        for _ in range(self.num_iterations):\n",
    "            for i in range(m):\n",
    "                if y[i] * np.dot(X[i], self.theta) < 1:\n",
    "                    self.theta = self.theta + self.learning_rate * (y[i] * X[i] - 2 * self.C * self.theta)\n",
    "                else:\n",
    "                    self.theta = self.theta - self.learning_rate * (2 * self.C * self.theta)\n",
    "    \n",
    "    def predict(self, X):\n",
    "        return np.sign(np.dot(X, self.theta))\n",
    "\n",
    "# Load the Iris dataset\n",
    "iris = load_iris()\n",
    "X = iris.data[:, :2]  # Only use the first two features for visualization purposes\n",
    "y = np.where(iris.target == 0, -1, 1)  # Convert labels to -1 (not Iris Setosa) and 1 (Iris Setosa)\n",
    "\n",
    "# Split the dataset into training and testing sets\n",
    "X_train, X_test, y_train, y_test = train_test_split(X, y, test_size=0.3, random_state=42)\n",
    "\n",
    "# Train linear SVM classifier from scratch\n",
    "svm_scratch = LinearSVM()\n",
    "svm_scratch.fit(X_train, y_train)\n",
    "\n",
    "# Predict labels for the testing set\n",
    "y_pred_scratch = svm_scratch.predict(X_test)\n",
    "\n",
    "# Compute accuracy of the model\n",
    "accuracy_scratch = np.mean(y_pred_scratch == y_test)\n",
    "print(\"Accuracy of Linear SVM Classifier from Scratch:\", accuracy_scratch)\n"
   ]
  },
  {
   "cell_type": "code",
   "execution_count": 3,
   "id": "3887ea7c-30d2-438f-b007-13768daaa42d",
   "metadata": {},
   "outputs": [
    {
     "name": "stdout",
     "output_type": "stream",
     "text": [
      "Accuracy of Linear SVM Classifier with scikit-learn: 1.0\n"
     ]
    }
   ],
   "source": [
    "# Train linear SVM classifier with scikit-learn\n",
    "svm_sklearn = SVC(kernel='linear')\n",
    "svm_sklearn.fit(X_train, y_train)\n",
    "\n",
    "# Predict labels for the testing set\n",
    "y_pred_sklearn = svm_sklearn.predict(X_test)\n",
    "\n",
    "# Compute accuracy of the model\n",
    "accuracy_sklearn = np.mean(y_pred_sklearn == y_test)\n",
    "print(\"Accuracy of Linear SVM Classifier with scikit-learn:\", accuracy_sklearn)\n"
   ]
  }
 ],
 "metadata": {
  "kernelspec": {
   "display_name": "Python 3 (ipykernel)",
   "language": "python",
   "name": "python3"
  },
  "language_info": {
   "codemirror_mode": {
    "name": "ipython",
    "version": 3
   },
   "file_extension": ".py",
   "mimetype": "text/x-python",
   "name": "python",
   "nbconvert_exporter": "python",
   "pygments_lexer": "ipython3",
   "version": "3.10.8"
  }
 },
 "nbformat": 4,
 "nbformat_minor": 5
}
