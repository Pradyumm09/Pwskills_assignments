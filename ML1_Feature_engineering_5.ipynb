{
 "cells": [
  {
   "cell_type": "markdown",
   "id": "62d196ba-23ca-4954-90b4-ecfa57623369",
   "metadata": {},
   "source": [
    "Q1. Pearson correlation coefficient is a measure of the linear relationship between two variables. Suppose\n",
    "you have collected data on the amount of time students spend studying for an exam and their final exam\n",
    "scores. Calculate the Pearson correlation coefficient between these two variables and interpret the result."
   ]
  },
  {
   "cell_type": "markdown",
   "id": "cd551362-687a-4b32-9d16-1a8113c6484e",
   "metadata": {},
   "source": [
    "To calculate the Pearson correlation coefficient between the amount of time students spend studying for an exam and their final exam scores, you would follow these steps:\n",
    "\n",
    "1. **Collect Data**: Gather data on the amount of time each student spends studying for the exam and their corresponding final exam scores.\n",
    "2. **Calculate Means**: Calculate the mean (average) amount of time spent studying (\\(\\bar{X}\\)) and the mean final exam score (\\(\\bar{Y}\\)).\n",
    "3. **Calculate Covariance**: Calculate the covariance (\\(cov(X, Y)\\)) between the amount of time spent studying and the final exam scores.\n",
    "4. **Calculate Standard Deviations**: Calculate the standard deviation (\\(s_X\\)) of the amount of time spent studying and the standard deviation (\\(s_Y\\)) of the final exam scores.\n",
    "5. **Calculate Pearson Correlation Coefficient**: Use the formula for the Pearson correlation coefficient (\\(r\\)):\n",
    "\n",
    "\\[\n",
    "r = \\frac{{cov(X, Y)}}{{s_X \\times s_Y}}\n",
    "\\]\n",
    "\n",
    "6. **Interpret the Result**: Determine the strength and direction of the relationship between the two variables based on the value of \\(r\\). \\(r\\) ranges from -1 to 1:\n",
    "\n",
    "   - \\(r = 1\\): Perfect positive linear correlation\n",
    "   - \\(r = -1\\): Perfect negative linear correlation\n",
    "   - \\(r = 0\\): No linear correlation\n",
    "   \n",
    "   The closer \\(r\\) is to 1 or -1, the stronger the linear relationship. If \\(r\\) is close to 0, there is little to no linear relationship.\n",
    "\n",
    "To interpret the result, you would say something like:\n",
    "\n",
    "\"The Pearson correlation coefficient between the amount of time students spend studying for the exam and their final exam scores is \\(r = 0.75\\). This indicates a strong positive linear relationship between the two variables. In other words, as the amount of time spent studying increases, final exam scores tend to increase as well.\""
   ]
  },
  {
   "cell_type": "markdown",
   "id": "b73c091a-cd45-4780-8273-759f90615a01",
   "metadata": {},
   "source": [
    "Q2. Spearman's rank correlation is a measure of the monotonic relationship between two variables.\n",
    "Suppose you have collected data on the amount of sleep individuals get each night and their overall job\n",
    "satisfaction level on a scale of 1 to 10. Calculate the Spearman's rank correlation between these two\n",
    "variables and interpret the result."
   ]
  },
  {
   "cell_type": "markdown",
   "id": "c68acc4a-0784-47ed-a25d-b049e65d1b49",
   "metadata": {},
   "source": [
    "To calculate Spearman's rank correlation between the amount of sleep individuals get each night and their overall job satisfaction level, you would follow these steps:\n",
    "\n",
    "1. **Collect Data**: Gather data on the amount of sleep each individual gets each night and their corresponding overall job satisfaction level.\n",
    "2. **Assign Ranks**: Rank the data for each variable separately. If there are ties, assign each tied value the average of their ranks.\n",
    "3. **Calculate Differences**: Calculate the difference (\\(d_i\\)) between the ranks of each pair of corresponding data points.\n",
    "4. **Square the Differences**: Square each difference (\\(d_i^2\\)).\n",
    "5. **Calculate Spearman's Rank Correlation Coefficient (\\(r_s\\))**: Use the formula:\n",
    "\n",
    "\\[\n",
    "r_s = 1 - \\frac{{6 \\sum d_i^2}}{{n(n^2 - 1)}}\n",
    "\\]\n",
    "\n",
    "where:\n",
    "   - \\(n\\) is the number of data points.\n",
    "\n",
    "6. **Interpret the Result**: Determine the strength and direction of the monotonic relationship between the two variables based on the value of \\(r_s\\). \\(r_s\\) ranges from -1 to 1:\n",
    "   - \\(r_s = 1\\): Perfect monotonic positive correlation\n",
    "   - \\(r_s = -1\\): Perfect monotonic negative correlation\n",
    "   - \\(r_s = 0\\): No monotonic correlation\n",
    "   \n",
    "   The closer \\(r_s\\) is to 1 or -1, the stronger the monotonic relationship. If \\(r_s\\) is close to 0, there is little to no monotonic relationship.\n",
    "\n",
    "To interpret the result, you would say something like:\n",
    "\n",
    "\"The Spearman's rank correlation between the amount of sleep individuals get each night and their overall job satisfaction level is \\(r_s = -0.85\\). This indicates a strong negative monotonic relationship between the two variables. In other words, as the amount of sleep decreases, overall job satisfaction tends to decrease as well.\""
   ]
  },
  {
   "cell_type": "markdown",
   "id": "416d092d-bfb2-4720-9dc1-748e66781092",
   "metadata": {},
   "source": [
    "Q3. Suppose you are conducting a study to examine the relationship between the number of hours of\n",
    "exercise per week and body mass index (BMI) in a sample of adults. You collected data on both variables\n",
    "for 50 participants. Calculate the Pearson correlation coefficient and the Spearman's rank correlation\n",
    "between these two variables and compare the results."
   ]
  },
  {
   "cell_type": "markdown",
   "id": "bf524f5a-21c9-46b0-85fa-07ad1499942b",
   "metadata": {},
   "source": [
    "To calculate both the Pearson correlation coefficient and Spearman's rank correlation coefficient between the number of hours of exercise per week and body mass index (BMI) in a sample of adults, follow these steps:\n",
    "\n",
    "1. **Collect Data**: Gather data on the number of hours of exercise per week and the corresponding BMI for each of the 50 participants.\n",
    "\n",
    "2. **Calculate Pearson Correlation Coefficient (\\(r\\))**:\n",
    "   - Calculate the mean (average) number of hours of exercise per week (\\(\\bar{X}\\)) and the mean BMI (\\(\\bar{Y}\\)).\n",
    "   - Calculate the covariance (\\(cov(X, Y)\\)) between the number of hours of exercise per week and BMI.\n",
    "   - Calculate the standard deviation (\\(s_X\\)) of the number of hours of exercise per week and the standard deviation (\\(s_Y\\)) of BMI.\n",
    "   - Use the formula for the Pearson correlation coefficient (\\(r\\)):\n",
    "     \\[ r = \\frac{{cov(X, Y)}}{{s_X \\times s_Y}} \\]\n",
    "\n",
    "3. **Calculate Spearman's Rank Correlation Coefficient (\\(r_s\\))**:\n",
    "   - Rank the data for each variable separately. If there are ties, assign each tied value the average of their ranks.\n",
    "   - Calculate the difference (\\(d_i\\)) between the ranks of each pair of corresponding data points.\n",
    "   - Square each difference (\\(d_i^2\\)).\n",
    "   - Use the formula for Spearman's rank correlation coefficient (\\(r_s\\)):\n",
    "     \\[ r_s = 1 - \\frac{{6 \\sum d_i^2}}{{n(n^2 - 1)}} \\]\n",
    "   - where \\(n\\) is the number of data points.\n",
    "\n",
    "4. **Compare the Results**:\n",
    "   - Interpret the values of \\(r\\) and \\(r_s\\). \n",
    "   - Determine the strength and direction of the relationship between the variables based on the values obtained.\n",
    "   - Compare the two correlation coefficients and consider any differences in interpretation.\n",
    "\n",
    "Pearson correlation coefficient (\\(r\\)) measures the linear relationship between two variables, while Spearman's rank correlation coefficient (\\(r_s\\)) measures the monotonic relationship. Depending on the distribution of the data and the presence of outliers, the two coefficients may yield different results."
   ]
  },
  {
   "cell_type": "markdown",
   "id": "7a3a3e0a-2d45-4b3f-ba25-6cf967b221a2",
   "metadata": {},
   "source": [
    "Q4. A researcher is interested in examining the relationship between the number of hours individuals\n",
    "spend watching television per day and their level of physical activity. The researcher collected data on\n",
    "both variables from a sample of 50 participants. Calculate the Pearson correlation coefficient between\n",
    "these two variables."
   ]
  },
  {
   "cell_type": "markdown",
   "id": "3001ed83-0070-4dfe-885c-dad9df495825",
   "metadata": {},
   "source": [
    "To calculate the Pearson correlation coefficient between the number of hours individuals spend watching television per day and their level of physical activity, follow these steps:\n",
    "\n",
    "1. **Collect Data**: Gather data on the number of hours individuals spend watching television per day and their corresponding level of physical activity for each of the 50 participants.\n",
    "\n",
    "2. **Calculate Means**: Calculate the mean (average) number of hours spent watching television per day (\\(\\bar{X}\\)) and the mean level of physical activity (\\(\\bar{Y}\\)).\n",
    "\n",
    "3. **Calculate Covariance**: Calculate the covariance (\\(cov(X, Y)\\)) between the number of hours spent watching television per day and the level of physical activity.\n",
    "\n",
    "4. **Calculate Standard Deviations**: Calculate the standard deviation (\\(s_X\\)) of the number of hours spent watching television per day and the standard deviation (\\(s_Y\\)) of the level of physical activity.\n",
    "\n",
    "5. **Calculate Pearson Correlation Coefficient (\\(r\\))**: Use the formula for the Pearson correlation coefficient:\n",
    "\n",
    "\\[ r = \\frac{{cov(X, Y)}}{{s_X \\times s_Y}} \\]\n",
    "\n",
    "6. **Interpret the Result**: Determine the strength and direction of the relationship between the two variables based on the value of \\(r\\). \\(r\\) ranges from -1 to 1:\n",
    "\n",
    "   - \\(r = 1\\): Perfect positive linear correlation\n",
    "   - \\(r = -1\\): Perfect negative linear correlation\n",
    "   - \\(r = 0\\): No linear correlation\n",
    "   \n",
    "   The closer \\(r\\) is to 1 or -1, the stronger the linear relationship. If \\(r\\) is close to 0, there is little to no linear relationship.\n",
    "\n",
    "By calculating the Pearson correlation coefficient, the researcher can quantify the strength and direction of the relationship between the number of hours individuals spend watching television per day and their level of physical activity."
   ]
  },
  {
   "cell_type": "markdown",
   "id": "6defec68-ad62-439c-9a56-f628e27beb0f",
   "metadata": {},
   "source": [
    "Q5. A survey was conducted to examine the relationship between age and preference for a particular\n",
    "brand of soft drink. The survey results are shown below:\n",
    "Age(Years)\n",
    "25 Coke\n",
    "42 Pepsi\n",
    "37\n",
    "19\n",
    "31\n",
    "28\n",
    "\n",
    "Mountain dew\n",
    "Coke\n",
    "Pepsi\n",
    "Coke\n",
    "Soft drink Preference"
   ]
  },
  {
   "cell_type": "markdown",
   "id": "caf17f48-805f-4966-8ec8-b0252f2a843f",
   "metadata": {},
   "source": [
    "To analyze the relationship between age and preference for a particular brand of soft drink, you can use a contingency table and calculate the Pearson correlation coefficient or other appropriate statistical measures. However, since the data provided only shows the preferences without specific ages for each individual, it's not possible to directly calculate the Pearson correlation coefficient.\n",
    "\n",
    "If you had the ages corresponding to each preference, you could create a contingency table like this:\n",
    "\n",
    "```\n",
    "                Coke   Pepsi   Mountain Dew\n",
    "Age 19           0        0             1\n",
    "Age 25           1        0             0\n",
    "Age 28           1        0             0\n",
    "Age 31           0        0             1\n",
    "Age 37           0        1             0\n",
    "Age 42           0        1             0\n",
    "```\n",
    "\n",
    "From this table, you could calculate the Pearson correlation coefficient or perform other statistical analyses to examine the relationship between age and soft drink preference.\n",
    "\n",
    "Without the specific ages, you can't calculate the Pearson correlation coefficient directly. However, you can still perform frequency analysis to determine the most preferred brand of soft drink among the surveyed individuals."
   ]
  },
  {
   "cell_type": "markdown",
   "id": "bef0306b-ec28-42f8-8abe-1ab4cc32813f",
   "metadata": {},
   "source": [
    "Q6. A company is interested in examining the relationship between the number of sales calls made per day\n",
    "and the number of sales made per week. The company collected data on both variables from a sample of\n",
    "30 sales representatives. Calculate the Pearson correlation coefficient between these two variables."
   ]
  },
  {
   "cell_type": "markdown",
   "id": "1836c799-bf2a-439e-9a5e-efa7ef7ec2bc",
   "metadata": {},
   "source": [
    "To calculate the Pearson correlation coefficient between the number of sales calls made per day and the number of sales made per week for a sample of 30 sales representatives, follow these steps:\n",
    "\n",
    "1. **Collect Data**: Gather data on the number of sales calls made per day and the corresponding number of sales made per week for each of the 30 sales representatives.\n",
    "\n",
    "2. **Calculate Means**: Calculate the mean (average) number of sales calls made per day (\\(\\bar{X}\\)) and the mean number of sales made per week (\\(\\bar{Y}\\)).\n",
    "\n",
    "3. **Calculate Covariance**: Calculate the covariance (\\(cov(X, Y)\\)) between the number of sales calls made per day and the number of sales made per week.\n",
    "\n",
    "4. **Calculate Standard Deviations**: Calculate the standard deviation (\\(s_X\\)) of the number of sales calls made per day and the standard deviation (\\(s_Y\\)) of the number of sales made per week.\n",
    "\n",
    "5. **Calculate Pearson Correlation Coefficient (\\(r\\))**: Use the formula for the Pearson correlation coefficient:\n",
    "\n",
    "\\[ r = \\frac{{cov(X, Y)}}{{s_X \\times s_Y}} \\]\n",
    "\n",
    "6. **Interpret the Result**: Determine the strength and direction of the relationship between the two variables based on the value of \\(r\\). \\(r\\) ranges from -1 to 1:\n",
    "\n",
    "   - \\(r = 1\\): Perfect positive linear correlation\n",
    "   - \\(r = -1\\): Perfect negative linear correlation\n",
    "   - \\(r = 0\\): No linear correlation\n",
    "   \n",
    "   The closer \\(r\\) is to 1 or -1, the stronger the linear relationship. If \\(r\\) is close to 0, there is little to no linear relationship.\n",
    "\n",
    "By calculating the Pearson correlation coefficient, the company can quantify the strength and direction of the relationship between the number of sales calls made per day and the number of sales made per week for their sales representatives."
   ]
  }
 ],
 "metadata": {
  "kernelspec": {
   "display_name": "Python 3 (ipykernel)",
   "language": "python",
   "name": "python3"
  },
  "language_info": {
   "codemirror_mode": {
    "name": "ipython",
    "version": 3
   },
   "file_extension": ".py",
   "mimetype": "text/x-python",
   "name": "python",
   "nbconvert_exporter": "python",
   "pygments_lexer": "ipython3",
   "version": "3.10.8"
  }
 },
 "nbformat": 4,
 "nbformat_minor": 5
}
