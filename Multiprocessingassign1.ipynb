{
 "cells": [
  {
   "cell_type": "markdown",
   "id": "cd9fdcd8-2278-41a3-851e-efbe59226882",
   "metadata": {},
   "source": [
    "Q1. What is multiprocessing in python? Why is it useful?"
   ]
  },
  {
   "cell_type": "markdown",
   "id": "e5442770-9ea5-40d3-bff6-933d33b50670",
   "metadata": {},
   "source": [
    "Multiprocessing in Python refers to the ability to create and manage multiple processes to achieve concurrency and parallelism in a Python program. Each process runs independently and has its own memory space, allowing multiple tasks to be executed simultaneously, which can take advantage of multi-core processors and improve overall program performance. This is in contrast to multithreading, where threads share the same memory space within a single process.\n",
    "\n",
    "Multiprocessing is useful for various reasons:\n",
    "\n",
    "Parallelism: Multiprocessing allows you to execute multiple tasks in parallel, which can significantly speed up CPU-bound operations. This is particularly beneficial on modern multi-core processors, as each process can run on a separate core.\n",
    "\n",
    "Improved CPU Utilization: By using multiple processes, you can efficiently utilize the available CPU resources, ensuring that all CPU cores are fully utilized.\n",
    "\n",
    "Isolation: Processes run independently and have their own memory space. This isolation makes it easier to manage and reason about data sharing and synchronization compared to multithreading, where threads share memory and may require complex synchronization mechanisms.\n",
    "\n",
    "Fault Isolation: If one process encounters an error or crashes, it does not necessarily affect the entire application. Other processes can continue running, improving fault tolerance."
   ]
  },
  {
   "cell_type": "code",
   "execution_count": 1,
   "id": "e19ffa98-bc4d-4b05-9702-8d57cbd65c25",
   "metadata": {},
   "outputs": [
    {
     "name": "stdout",
     "output_type": "stream",
     "text": [
      "Results: [1, 4, 9, 16, 25]\n"
     ]
    }
   ],
   "source": [
    "import multiprocessing\n",
    "\n",
    "def square(number):\n",
    "    return number * number\n",
    "\n",
    "if __name__ == \"__main__\":\n",
    "    numbers = [1, 2, 3, 4, 5]\n",
    "    \n",
    "    \n",
    "    with multiprocessing.Pool() as pool:\n",
    "        results = pool.map(square, numbers)\n",
    "    \n",
    "    print(\"Results:\", results)\n"
   ]
  },
  {
   "cell_type": "markdown",
   "id": "a5bb105c-e48d-42cc-a202-19c4c4ff6245",
   "metadata": {},
   "source": [
    "Q2. What are the differences between multiprocessing and multithreading?"
   ]
  },
  {
   "cell_type": "markdown",
   "id": "32b155b8-fb68-49c6-b8d4-6342f77acbd3",
   "metadata": {},
   "source": [
    "Multiprocessing and multithreading are both techniques used to achieve concurrency in a program, but they have key differences in how they create and manage concurrent tasks. "
   ]
  },
  {
   "cell_type": "markdown",
   "id": "632b7fbc-cf6e-4f29-964c-be7e7ccdd877",
   "metadata": {},
   "source": [
    "Processes vs. Threads:\n",
    "\n",
    "Multiprocessing: In multiprocessing, multiple independent processes are created. Each process runs in its own separate memory space and has its own Python interpreter. Processes do not share memory by default and communicate through inter-process communication (IPC) mechanisms.\n",
    "\n",
    "\n",
    "Multithreading: In multithreading, multiple threads are created within a single process. Threads share the same memory space and have access to the same data and resources within that process."
   ]
  },
  {
   "cell_type": "markdown",
   "id": "d0850b52-5409-4354-bfa5-82a468b76d0e",
   "metadata": {},
   "source": [
    "Parallelism:\n",
    "\n",
    "Multiprocessing: Multiprocessing achieves true parallelism by running multiple processes simultaneously, taking advantage of multi-core processors. Each process runs independently and can utilize separate CPU cores.\n",
    "\n",
    "\n",
    "Multithreading: Multithreading provides concurrency but not necessarily true parallelism. In Python, due to the Global Interpreter Lock (GIL), only one thread can execute Python bytecode at a time. Therefore, multithreading may not fully utilize multiple CPU cores for CPU-bound tasks."
   ]
  },
  {
   "cell_type": "markdown",
   "id": "76375278-abf8-471b-8baf-3b12d3bd47ad",
   "metadata": {},
   "source": [
    "Memory Isolation:\n",
    "\n",
    "Multiprocessing: Processes are isolated from each other in terms of memory. This isolation makes it less error-prone and easier to manage data sharing and synchronization, as each process has its own memory space.\n",
    "\n",
    "\n",
    "Multithreading: Threads share the same memory space within a process. While this can make communication between threads more efficient, it also introduces complexities related to data synchronization and potential race conditions."
   ]
  },
  {
   "cell_type": "markdown",
   "id": "2f440b65-be3e-449c-b246-c2f3c4e0cf01",
   "metadata": {},
   "source": [
    "Communication:\n",
    "\n",
    "Multiprocessing: Processes communicate through IPC mechanisms such as queues, pipes, and shared memory. These mechanisms allow processes to exchange data and synchronize their actions.\n",
    "\n",
    "\n",
    "Multithreading: Threads can communicate more easily because they share the same memory space. However, this also means that you need to use synchronization primitives (e.g., locks) to avoid race conditions and ensure data consistency."
   ]
  },
  {
   "cell_type": "markdown",
   "id": "c7956cea-ab60-45ac-9b9b-2fe8a4d22577",
   "metadata": {},
   "source": [
    "Q3. Write a python code to create a process using the multiprocessing module."
   ]
  },
  {
   "cell_type": "code",
   "execution_count": 2,
   "id": "7a5f3b62-3ba1-44c7-881c-b874e274c0b2",
   "metadata": {},
   "outputs": [
    {
     "name": "stdout",
     "output_type": "stream",
     "text": [
      "Number 1\n",
      "Number 2\n",
      "Number 3\n",
      "Number 4\n",
      "Number 5\n",
      "Process has finished.\n"
     ]
    }
   ],
   "source": [
    "import multiprocessing\n",
    "\n",
    "\n",
    "def print_numbers():\n",
    "    for i in range(1, 6):\n",
    "        print(f\"Number {i}\")\n",
    "\n",
    "if __name__ == \"__main__\":\n",
    "    \n",
    "    process = multiprocessing.Process(target=print_numbers)\n",
    "\n",
    "    \n",
    "    process.start()\n",
    "\n",
    "    \n",
    "    process.join()\n",
    "\n",
    "    print(\"Process has finished.\")\n"
   ]
  },
  {
   "cell_type": "markdown",
   "id": "4d28296a-431e-45b2-81ee-0424819f4db6",
   "metadata": {},
   "source": [
    "Q4. What is a multiprocessing pool in python? Why is it used?"
   ]
  },
  {
   "cell_type": "markdown",
   "id": "b4c4bd34-bf0d-4ca4-bc30-5bf1ba3e7be8",
   "metadata": {},
   "source": [
    "A multiprocessing pool in Python, often represented by the multiprocessing.Pool class, is a high-level abstraction provided by the multiprocessing module. It is used to manage a pool of worker processes, making it easier to distribute and parallelize tasks across multiple processes efficiently. Multiprocessing pools are particularly useful for CPU-bound and parallelizable tasks, as they allow you to take full advantage of multi-core processors.\n",
    "\n",
    "Here are some key characteristics and benefits of using a multiprocessing pool:\n",
    "\n",
    "Parallel Execution: A multiprocessing pool allows you to parallelize the execution of a function across multiple processes. You can submit multiple tasks to the pool, and it automatically assigns those tasks to available worker processes, allowing them to run concurrently.\n",
    "\n",
    "Convenient API: The pool provides a simple and convenient API for submitting tasks for parallel processing. You don't need to manually manage individual processes or synchronization mechanisms; the pool handles these details for you.\n",
    "\n",
    "Automatic Pool Management: The pool automatically manages the creation and management of worker processes. You can specify the number of worker processes to create, and the pool ensures that tasks are distributed among them efficiently.\n",
    "\n",
    "Resource Utilization: Multiprocessing pools make it easy to utilize all available CPU cores effectively. You can create a pool with the desired number of worker processes, matching the number of CPU cores on your system, to maximize parallelism."
   ]
  },
  {
   "cell_type": "markdown",
   "id": "926e720d-ac4a-4fbe-95a7-0100be6eaebe",
   "metadata": {},
   "source": [
    "Q5. How can we create a pool of worker processes in python using the multiprocessing module?"
   ]
  },
  {
   "cell_type": "code",
   "execution_count": 3,
   "id": "1971ea6e-a7aa-49b0-8d5f-86a84204d3e4",
   "metadata": {},
   "outputs": [
    {
     "name": "stdout",
     "output_type": "stream",
     "text": [
      "Results: [1, 4, 9, 16, 25]\n"
     ]
    }
   ],
   "source": [
    "import multiprocessing\n",
    "\n",
    "\n",
    "def square(x):\n",
    "    return x * x\n",
    "\n",
    "if __name__ == \"__main__\":\n",
    "    \n",
    "    with multiprocessing.Pool(processes=2) as pool:\n",
    "        \n",
    "        numbers = [1, 2, 3, 4, 5]\n",
    "\n",
    "        \n",
    "        results = pool.map(square, numbers)\n",
    "\n",
    "    print(\"Results:\", results)\n"
   ]
  },
  {
   "cell_type": "markdown",
   "id": "f177cac2-2f9e-47bb-8a37-fd0b8e8f62ea",
   "metadata": {},
   "source": [
    "Q6. Write a python program to create 4 processes, each process should print a different number using the\n",
    "multiprocessing module in python."
   ]
  },
  {
   "cell_type": "code",
   "execution_count": 8,
   "id": "51293960-1e0a-4171-8e8f-9a71dd9fc53b",
   "metadata": {},
   "outputs": [
    {
     "name": "stdout",
     "output_type": "stream",
     "text": [
      "Process Process-84 prints 1\n",
      "Process Process-85 prints 2\n",
      "Process Process-86 prints 3\n",
      "Process Process-87 prints 4\n",
      "All processes have finished.\n"
     ]
    }
   ],
   "source": [
    "import multiprocessing\n",
    "\n",
    "\n",
    "def print_number(number):\n",
    "    print(f\"Process {multiprocessing.current_process().name} prints {number}\")\n",
    "\n",
    "if __name__ == \"__main__\":\n",
    "    \n",
    "    processes = []\n",
    "    for i in range(1, 5):\n",
    "        process = multiprocessing.Process(target=print_number, args=(i,))\n",
    "        processes.append(process)\n",
    "\n",
    "    \n",
    "    for process in processes:\n",
    "        process.start()\n",
    "\n",
    "    \n",
    "    for process in processes:\n",
    "        process.join()\n",
    "\n",
    "    print(\"All processes have finished.\")\n"
   ]
  }
 ],
 "metadata": {
  "kernelspec": {
   "display_name": "Python 3 (ipykernel)",
   "language": "python",
   "name": "python3"
  },
  "language_info": {
   "codemirror_mode": {
    "name": "ipython",
    "version": 3
   },
   "file_extension": ".py",
   "mimetype": "text/x-python",
   "name": "python",
   "nbconvert_exporter": "python",
   "pygments_lexer": "ipython3",
   "version": "3.10.8"
  }
 },
 "nbformat": 4,
 "nbformat_minor": 5
}
